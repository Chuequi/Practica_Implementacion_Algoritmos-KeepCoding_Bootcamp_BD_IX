{
  "nbformat": 4,
  "nbformat_minor": 0,
  "metadata": {
    "accelerator": "GPU",
    "colab": {
      "name": "Práctica Final - Detección Trolls en Twitter- ALEJANDRO ZEGALO.ipynb",
      "provenance": [],
      "collapsed_sections": []
    },
    "kernelspec": {
      "display_name": "Python 3",
      "name": "python3"
    }
  },
  "cells": [
    {
      "cell_type": "markdown",
      "metadata": {
        "id": "Cj8bcxFX85UO"
      },
      "source": [
        "# Práctica Final: detección de mensajes troll en chat de Twitch en tiempo real\n",
        "\n",
        "Durante este último año la plataforma de vídeo en streaming Twitch ha cogido mucha popularidad debido a la situación que hemos vivido debido al COVID-19. Por esto, mucha gente de todas las edades ha empezado a consumir esta plataforma de manera diaria.\n",
        "\n",
        "Como consecuencia, no sólo han aumentado las personas que ven contenido en Twitch, sino también el número de los denominados *trolls*, gente que pone comentarios ofensivos en los chat de los streamers.\n",
        "\n",
        "En esta práctica se desarrollará un sistema autónomo basado en IA y desplegado en GCP que detectará en tiempo real si los mensajes que se envían a un canal de Twitch son de un *troll* o no. La práctica constará de tres partes principales que serán evaluadas en la corrección:\n",
        "1. Entrenamiento e inferencia en Batch de un modelo usando Dataflow y AI Platform. **(3.5 puntos)**.\n",
        "2. Despliegue e inferencia online en microservicio con el modelo. **(3.5 puntos)**.\n",
        "3. Inferencia en streaming de un canal de Twitch con el microservicio anterior. **(3 puntos)**."
      ]
    },
    {
      "cell_type": "markdown",
      "metadata": {
        "id": "hgE9XB8ACVmQ"
      },
      "source": [
        "# Configuración de nuestro proyecto en GCP\n"
      ]
    },
    {
      "cell_type": "code",
      "metadata": {
        "id": "zAorVw7RCT9C",
        "colab": {
          "base_uri": "https://localhost:8080/"
        },
        "outputId": "ed7c1353-c1b7-4a58-f6d4-92bbc044ce09"
      },
      "source": [
        "PROJECT_ID = \"clase-implementacion\" #@param {type:\"string\"}\n",
        "! gcloud config set project $PROJECT_ID"
      ],
      "execution_count": null,
      "outputs": [
        {
          "output_type": "stream",
          "name": "stdout",
          "text": [
            "Updated property [core/project].\n"
          ]
        }
      ]
    },
    {
      "cell_type": "code",
      "metadata": {
        "id": "hbAl8pSkCXCm"
      },
      "source": [
        "import sys\n",
        "\n",
        "# If you are running this notebook in Colab, run this cell and follow the\n",
        "# instructions to authenticate your GCP account. This provides access to your\n",
        "# Cloud Storage bucket and lets you submit training jobs and prediction\n",
        "# requests.\n",
        "\n",
        "if 'google.colab' in sys.modules:\n",
        "  from google.colab import auth as google_auth\n",
        "  google_auth.authenticate_user()\n",
        "\n",
        "# If you are running this notebook locally, replace the string below with the\n",
        "# path to your service account key and run this cell to authenticate your GCP\n",
        "# account.\n",
        "else:\n",
        "  %env GOOGLE_APPLICATION_CREDENTIALS ''\n"
      ],
      "execution_count": null,
      "outputs": []
    },
    {
      "cell_type": "code",
      "metadata": {
        "id": "n6Zpx14FCfXy"
      },
      "source": [
        "BUCKET_NAME = \"bucket-clase-implementacion\" #@param {type:\"string\"}\n",
        "REGION = \"europe-west1\" #@param {type:\"string\"}"
      ],
      "execution_count": null,
      "outputs": []
    },
    {
      "cell_type": "code",
      "source": [
        "#Esto lo ejecuto solo para crear el bucket\n",
        "! gsutil mb -l $REGION gs://$BUCKET_NAME"
      ],
      "metadata": {
        "colab": {
          "base_uri": "https://localhost:8080/"
        },
        "id": "ifC1-NqN5K3B",
        "outputId": "7cd61129-7f92-4177-f19d-f6724b01564d"
      },
      "execution_count": null,
      "outputs": [
        {
          "output_type": "stream",
          "name": "stdout",
          "text": [
            "Creating gs://bucket-clase-implementacion/...\n"
          ]
        }
      ]
    },
    {
      "cell_type": "code",
      "metadata": {
        "id": "lE4V-Xt0ChSb",
        "colab": {
          "base_uri": "https://localhost:8080/"
        },
        "outputId": "07ac370c-b65e-4eb7-b4d4-64c75d00d74c"
      },
      "source": [
        "! gsutil ls -al gs://$BUCKET_NAME"
      ],
      "execution_count": null,
      "outputs": [
        {
          "output_type": "stream",
          "name": "stdout",
          "text": [
            "   2756023  2022-07-06T19:04:13Z  gs://bucket-clase-implementacion/data.json#1657134253754505  metageneration=1\n",
            "                                 gs://bucket-clase-implementacion/beam-temp/\n",
            "                                 gs://bucket-clase-implementacion/model/\n",
            "                                 gs://bucket-clase-implementacion/trainer/\n",
            "                                 gs://bucket-clase-implementacion/transformed_data/\n",
            "TOTAL: 1 objects, 2756023 bytes (2.63 MiB)\n"
          ]
        }
      ]
    },
    {
      "cell_type": "markdown",
      "metadata": {
        "id": "3D8Qw14y_nRa"
      },
      "source": [
        "# Entrenamiento e inferencia en Batch\n",
        "\n",
        "Para esta primera parte se va a utilizar [Tweets Dataset for Detection of Cyber-Trolls](https://www.kaggle.com/dataturks/dataset-for-detection-of-cybertrolls). El objetivo es desarrollar un clasificador binario para detectar si el mensaje recibido es troll (1) o no (0). **Las métricas obtenidas del entrenamiento y la inferencia no se tendrán en cuenta para la evaluación de la práctica, la importancia está en la arquitectura de la solución**.\n",
        "\n",
        "A continuación os dejo un diagrama con la arquitectura que se va a desarrollar:\n",
        "\n",
        "![batch_diagram](https://drive.google.com/uc?export=view&id=1h1BkIunyKSkJYFRbXKNWpHOZ_rDUyGAT)"
      ]
    },
    {
      "cell_type": "markdown",
      "metadata": {
        "id": "qM_dh-471gIq"
      },
      "source": [
        "A continuación, se van a subir los datos de entrenamiento al bucket del proyecto que se haya creado. **Importante:** crea el bucket en una única región para evitar problemas más adelante."
      ]
    },
    {
      "cell_type": "code",
      "metadata": {
        "id": "Sqp4L_nmUjAc",
        "colab": {
          "base_uri": "https://localhost:8080/"
        },
        "outputId": "130c1a8f-96fc-4bd1-d53c-353a2cffbdc8"
      },
      "source": [
        "# Upload data to your bucket\n",
        "! wget https://storage.googleapis.com/twitch-practice-keepcoding/data.json -O - | gsutil cp - gs://$BUCKET_NAME/data.json"
      ],
      "execution_count": null,
      "outputs": [
        {
          "output_type": "stream",
          "name": "stdout",
          "text": [
            "--2022-07-06 19:04:08--  https://storage.googleapis.com/twitch-practice-keepcoding/data.json\n",
            "Resolving storage.googleapis.com (storage.googleapis.com)... 108.177.98.128, 74.125.197.128, 74.125.135.128, ...\n",
            "Connecting to storage.googleapis.com (storage.googleapis.com)|108.177.98.128|:443... connected.\n",
            "HTTP request sent, awaiting response... 200 OK\n",
            "Length: 2756023 (2.6M) [application/json]\n",
            "Saving to: ‘STDOUT’\n",
            "\n",
            "-                     0%[                    ]       0  --.-KB/s               Copying from <STDIN>...\n",
            "-                   100%[===================>]   2.63M  1.03MB/s    in 2.6s    \n",
            "\n",
            "2022-07-06 19:04:11 (1.03 MB/s) - written to stdout [2756023/2756023]\n",
            "\n",
            "/ [1 files][    0.0 B/    0.0 B]                                                \n",
            "Operation completed over 1 objects.                                              \n"
          ]
        }
      ]
    },
    {
      "cell_type": "markdown",
      "metadata": {
        "id": "vCQQ9j2I11tg"
      },
      "source": [
        "Ahora se crea el directorio dónde vas a desarrollar esta primera parte de la práctica."
      ]
    },
    {
      "cell_type": "code",
      "metadata": {
        "id": "PsblBlJ6RrGm",
        "colab": {
          "base_uri": "https://localhost:8080/"
        },
        "outputId": "10c8cc0d-fecd-49ad-c248-709c8d5f1bc8"
      },
      "source": [
        "%mkdir /content/batch"
      ],
      "execution_count": null,
      "outputs": [
        {
          "output_type": "stream",
          "name": "stdout",
          "text": [
            "mkdir: cannot create directory ‘/content/batch’: File exists\n"
          ]
        }
      ]
    },
    {
      "cell_type": "markdown",
      "metadata": {
        "id": "nyK51quU1_oi"
      },
      "source": [
        "Se establece el directorio de trabajo que hemos creado."
      ]
    },
    {
      "cell_type": "code",
      "metadata": {
        "id": "s7ybSaotRwkP",
        "colab": {
          "base_uri": "https://localhost:8080/"
        },
        "outputId": "540edb04-7b67-4f44-da94-5bd69e549844"
      },
      "source": [
        "import os\n",
        "\n",
        "# Set the working directory to the sample code directory\n",
        "%cd /content/batch\n",
        "\n",
        "WORK_DIR = os.getcwd()"
      ],
      "execution_count": null,
      "outputs": [
        {
          "output_type": "stream",
          "name": "stdout",
          "text": [
            "/content/batch\n"
          ]
        }
      ]
    },
    {
      "cell_type": "markdown",
      "metadata": {
        "id": "4NSd4bAo2aj_"
      },
      "source": [
        "Ahora se descargarán los datos en el workspace de Colab para trabajar en local."
      ]
    },
    {
      "cell_type": "code",
      "metadata": {
        "id": "qOmUJSg1JCgg",
        "colab": {
          "base_uri": "https://localhost:8080/"
        },
        "outputId": "32760610-8b53-404f-a697-3f85971ef20a"
      },
      "source": [
        "! wget https://storage.googleapis.com/twitch-practice-keepcoding/data.json"
      ],
      "execution_count": null,
      "outputs": [
        {
          "output_type": "stream",
          "name": "stdout",
          "text": [
            "--2022-07-10 17:38:17--  https://storage.googleapis.com/twitch-practice-keepcoding/data.json\n",
            "Resolving storage.googleapis.com (storage.googleapis.com)... 142.251.16.128, 172.217.15.112, 142.250.81.208, ...\n",
            "Connecting to storage.googleapis.com (storage.googleapis.com)|142.251.16.128|:443... connected.\n",
            "HTTP request sent, awaiting response... 200 OK\n",
            "Length: 2756023 (2.6M) [application/json]\n",
            "Saving to: ‘data.json.1’\n",
            "\n",
            "\rdata.json.1           0%[                    ]       0  --.-KB/s               \rdata.json.1         100%[===================>]   2.63M  --.-KB/s    in 0.06s   \n",
            "\n",
            "2022-07-10 17:38:17 (41.6 MB/s) - ‘data.json.1’ saved [2756023/2756023]\n",
            "\n"
          ]
        }
      ]
    },
    {
      "cell_type": "markdown",
      "metadata": {
        "id": "eRoW6zyg2kEz"
      },
      "source": [
        "Se establecen las dependencias que se usarán en la práctica. Se pueden añadir y quitar las dependencias que no se usen o viceversa."
      ]
    },
    {
      "cell_type": "code",
      "metadata": {
        "id": "9s0-8_JK_z2D",
        "colab": {
          "base_uri": "https://localhost:8080/"
        },
        "outputId": "96ccd3bf-33a7-4747-f6c8-d9e8d46296b1"
      },
      "source": [
        "%%writefile requirements.txt\n",
        "\n",
        "apache-beam[gcp]==2.24.0\n",
        "requests==2.25.0\n",
        "uvicorn==0.12.2\n",
        "fastapi==0.61.2\n",
        "numpy==1.19.5\n",
        "tensorflow==2.1.0\n",
        "h5py==2.10.0\n",
        "scikit-learn==0.23.2\n",
        "scipy==1.4.1\n",
        "loguru==0.5.3\n",
        "gensim==3.6.0\n",
        "fsspec==0.8.4\n",
        "gcsfs==0.7.1"
      ],
      "execution_count": null,
      "outputs": [
        {
          "output_type": "stream",
          "name": "stdout",
          "text": [
            "Overwriting requirements.txt\n"
          ]
        }
      ]
    },
    {
      "cell_type": "markdown",
      "metadata": {
        "id": "yIl8lrPp2x2j"
      },
      "source": [
        "Instalamos las dependencias. **No olvidarse de reiniciar el entorno al instalar y establecer las variables y credenciales de GCP al arrancar.**"
      ]
    },
    {
      "cell_type": "code",
      "metadata": {
        "id": "ZS6P8A4c_8le",
        "colab": {
          "base_uri": "https://localhost:8080/"
        },
        "outputId": "595dd103-d0d6-4e0f-80a3-091be9ab2d53"
      },
      "source": [
        "! pip install -r requirements.txt"
      ],
      "execution_count": null,
      "outputs": [
        {
          "output_type": "stream",
          "name": "stdout",
          "text": [
            "Looking in indexes: https://pypi.org/simple, https://us-python.pkg.dev/colab-wheels/public/simple/\n",
            "Requirement already satisfied: apache-beam[gcp]==2.24.0 in /usr/local/lib/python3.7/dist-packages (from -r requirements.txt (line 2)) (2.24.0)\n",
            "Requirement already satisfied: requests==2.25.0 in /usr/local/lib/python3.7/dist-packages (from -r requirements.txt (line 3)) (2.25.0)\n",
            "Requirement already satisfied: uvicorn==0.12.2 in /usr/local/lib/python3.7/dist-packages (from -r requirements.txt (line 4)) (0.12.2)\n",
            "Requirement already satisfied: fastapi==0.61.2 in /usr/local/lib/python3.7/dist-packages (from -r requirements.txt (line 5)) (0.61.2)\n",
            "Requirement already satisfied: numpy==1.19.5 in /usr/local/lib/python3.7/dist-packages (from -r requirements.txt (line 6)) (1.19.5)\n",
            "Requirement already satisfied: tensorflow==2.1.0 in /usr/local/lib/python3.7/dist-packages (from -r requirements.txt (line 7)) (2.1.0)\n",
            "Requirement already satisfied: h5py==2.10.0 in /usr/local/lib/python3.7/dist-packages (from -r requirements.txt (line 8)) (2.10.0)\n",
            "Requirement already satisfied: scikit-learn==0.23.2 in /usr/local/lib/python3.7/dist-packages (from -r requirements.txt (line 9)) (0.23.2)\n",
            "Requirement already satisfied: scipy==1.4.1 in /usr/local/lib/python3.7/dist-packages (from -r requirements.txt (line 10)) (1.4.1)\n",
            "Requirement already satisfied: loguru==0.5.3 in /usr/local/lib/python3.7/dist-packages (from -r requirements.txt (line 11)) (0.5.3)\n",
            "Requirement already satisfied: gensim==3.6.0 in /usr/local/lib/python3.7/dist-packages (from -r requirements.txt (line 12)) (3.6.0)\n",
            "Requirement already satisfied: fsspec==0.8.4 in /usr/local/lib/python3.7/dist-packages (from -r requirements.txt (line 13)) (0.8.4)\n",
            "Requirement already satisfied: gcsfs==0.7.1 in /usr/local/lib/python3.7/dist-packages (from -r requirements.txt (line 14)) (0.7.1)\n",
            "Requirement already satisfied: certifi>=2017.4.17 in /usr/local/lib/python3.7/dist-packages (from requests==2.25.0->-r requirements.txt (line 3)) (2022.6.15)\n",
            "Requirement already satisfied: chardet<4,>=3.0.2 in /usr/local/lib/python3.7/dist-packages (from requests==2.25.0->-r requirements.txt (line 3)) (3.0.4)\n",
            "Requirement already satisfied: idna<3,>=2.5 in /usr/local/lib/python3.7/dist-packages (from requests==2.25.0->-r requirements.txt (line 3)) (2.10)\n",
            "Requirement already satisfied: urllib3<1.27,>=1.21.1 in /usr/local/lib/python3.7/dist-packages (from requests==2.25.0->-r requirements.txt (line 3)) (1.24.3)\n",
            "Requirement already satisfied: typing-extensions in /usr/local/lib/python3.7/dist-packages (from uvicorn==0.12.2->-r requirements.txt (line 4)) (3.7.4.3)\n",
            "Requirement already satisfied: click==7.* in /usr/local/lib/python3.7/dist-packages (from uvicorn==0.12.2->-r requirements.txt (line 4)) (7.1.2)\n",
            "Requirement already satisfied: h11>=0.8 in /usr/local/lib/python3.7/dist-packages (from uvicorn==0.12.2->-r requirements.txt (line 4)) (0.13.0)\n",
            "Requirement already satisfied: starlette==0.13.6 in /usr/local/lib/python3.7/dist-packages (from fastapi==0.61.2->-r requirements.txt (line 5)) (0.13.6)\n",
            "Requirement already satisfied: pydantic<2.0.0,>=1.0.0 in /usr/local/lib/python3.7/dist-packages (from fastapi==0.61.2->-r requirements.txt (line 5)) (1.8.2)\n",
            "Requirement already satisfied: six>=1.12.0 in /usr/local/lib/python3.7/dist-packages (from tensorflow==2.1.0->-r requirements.txt (line 7)) (1.15.0)\n",
            "Requirement already satisfied: keras-applications>=1.0.8 in /usr/local/lib/python3.7/dist-packages (from tensorflow==2.1.0->-r requirements.txt (line 7)) (1.0.8)\n",
            "Requirement already satisfied: tensorboard<2.2.0,>=2.1.0 in /usr/local/lib/python3.7/dist-packages (from tensorflow==2.1.0->-r requirements.txt (line 7)) (2.1.1)\n",
            "Requirement already satisfied: opt-einsum>=2.3.2 in /usr/local/lib/python3.7/dist-packages (from tensorflow==2.1.0->-r requirements.txt (line 7)) (3.3.0)\n",
            "Requirement already satisfied: termcolor>=1.1.0 in /usr/local/lib/python3.7/dist-packages (from tensorflow==2.1.0->-r requirements.txt (line 7)) (1.1.0)\n",
            "Requirement already satisfied: grpcio>=1.8.6 in /usr/local/lib/python3.7/dist-packages (from tensorflow==2.1.0->-r requirements.txt (line 7)) (1.46.3)\n",
            "Requirement already satisfied: protobuf>=3.8.0 in /usr/local/lib/python3.7/dist-packages (from tensorflow==2.1.0->-r requirements.txt (line 7)) (3.17.3)\n",
            "Requirement already satisfied: gast==0.2.2 in /usr/local/lib/python3.7/dist-packages (from tensorflow==2.1.0->-r requirements.txt (line 7)) (0.2.2)\n",
            "Requirement already satisfied: absl-py>=0.7.0 in /usr/local/lib/python3.7/dist-packages (from tensorflow==2.1.0->-r requirements.txt (line 7)) (1.1.0)\n",
            "Requirement already satisfied: astor>=0.6.0 in /usr/local/lib/python3.7/dist-packages (from tensorflow==2.1.0->-r requirements.txt (line 7)) (0.8.1)\n",
            "Requirement already satisfied: keras-preprocessing>=1.1.0 in /usr/local/lib/python3.7/dist-packages (from tensorflow==2.1.0->-r requirements.txt (line 7)) (1.1.2)\n",
            "Requirement already satisfied: google-pasta>=0.1.6 in /usr/local/lib/python3.7/dist-packages (from tensorflow==2.1.0->-r requirements.txt (line 7)) (0.2.0)\n",
            "Requirement already satisfied: tensorflow-estimator<2.2.0,>=2.1.0rc0 in /usr/local/lib/python3.7/dist-packages (from tensorflow==2.1.0->-r requirements.txt (line 7)) (2.1.0)\n",
            "Requirement already satisfied: wheel>=0.26 in /usr/local/lib/python3.7/dist-packages (from tensorflow==2.1.0->-r requirements.txt (line 7)) (0.37.1)\n",
            "Requirement already satisfied: wrapt>=1.11.1 in /usr/local/lib/python3.7/dist-packages (from tensorflow==2.1.0->-r requirements.txt (line 7)) (1.14.1)\n",
            "Requirement already satisfied: joblib>=0.11 in /usr/local/lib/python3.7/dist-packages (from scikit-learn==0.23.2->-r requirements.txt (line 9)) (1.1.0)\n",
            "Requirement already satisfied: threadpoolctl>=2.0.0 in /usr/local/lib/python3.7/dist-packages (from scikit-learn==0.23.2->-r requirements.txt (line 9)) (3.1.0)\n",
            "Requirement already satisfied: smart-open>=1.2.1 in /usr/local/lib/python3.7/dist-packages (from gensim==3.6.0->-r requirements.txt (line 12)) (5.2.1)\n",
            "Requirement already satisfied: aiohttp in /usr/local/lib/python3.7/dist-packages (from gcsfs==0.7.1->-r requirements.txt (line 14)) (3.8.1)\n",
            "Requirement already satisfied: google-auth>=1.2 in /usr/local/lib/python3.7/dist-packages (from gcsfs==0.7.1->-r requirements.txt (line 14)) (1.35.0)\n",
            "Requirement already satisfied: google-auth-oauthlib in /usr/local/lib/python3.7/dist-packages (from gcsfs==0.7.1->-r requirements.txt (line 14)) (0.4.6)\n",
            "Requirement already satisfied: decorator in /usr/local/lib/python3.7/dist-packages (from gcsfs==0.7.1->-r requirements.txt (line 14)) (4.4.2)\n",
            "Requirement already satisfied: fastavro<0.24,>=0.21.4 in /usr/local/lib/python3.7/dist-packages (from apache-beam[gcp]==2.24.0->-r requirements.txt (line 2)) (0.23.6)\n",
            "Requirement already satisfied: pydot<2,>=1.2.0 in /usr/local/lib/python3.7/dist-packages (from apache-beam[gcp]==2.24.0->-r requirements.txt (line 2)) (1.3.0)\n",
            "Requirement already satisfied: oauth2client<4,>=2.0.1 in /usr/local/lib/python3.7/dist-packages (from apache-beam[gcp]==2.24.0->-r requirements.txt (line 2)) (3.0.0)\n",
            "Requirement already satisfied: dill<0.3.2,>=0.3.1.1 in /usr/local/lib/python3.7/dist-packages (from apache-beam[gcp]==2.24.0->-r requirements.txt (line 2)) (0.3.1.1)\n",
            "Requirement already satisfied: mock<3.0.0,>=1.0.1 in /usr/local/lib/python3.7/dist-packages (from apache-beam[gcp]==2.24.0->-r requirements.txt (line 2)) (2.0.0)\n",
            "Requirement already satisfied: pytz>=2018.3 in /usr/local/lib/python3.7/dist-packages (from apache-beam[gcp]==2.24.0->-r requirements.txt (line 2)) (2022.1)\n",
            "Requirement already satisfied: pymongo<4.0.0,>=3.8.0 in /usr/local/lib/python3.7/dist-packages (from apache-beam[gcp]==2.24.0->-r requirements.txt (line 2)) (3.12.3)\n",
            "Requirement already satisfied: httplib2<0.18.0,>=0.8 in /usr/local/lib/python3.7/dist-packages (from apache-beam[gcp]==2.24.0->-r requirements.txt (line 2)) (0.17.4)\n",
            "Requirement already satisfied: avro-python3!=1.9.2,<1.10.0,>=1.8.1 in /usr/local/lib/python3.7/dist-packages (from apache-beam[gcp]==2.24.0->-r requirements.txt (line 2)) (1.9.2.1)\n",
            "Requirement already satisfied: pyarrow<0.18.0,>=0.15.1 in /usr/local/lib/python3.7/dist-packages (from apache-beam[gcp]==2.24.0->-r requirements.txt (line 2)) (0.17.1)\n",
            "Requirement already satisfied: hdfs<3.0.0,>=2.1.0 in /usr/local/lib/python3.7/dist-packages (from apache-beam[gcp]==2.24.0->-r requirements.txt (line 2)) (2.7.0)\n",
            "Requirement already satisfied: future<1.0.0,>=0.18.2 in /usr/local/lib/python3.7/dist-packages (from apache-beam[gcp]==2.24.0->-r requirements.txt (line 2)) (0.18.2)\n",
            "Requirement already satisfied: python-dateutil<3,>=2.8.0 in /usr/local/lib/python3.7/dist-packages (from apache-beam[gcp]==2.24.0->-r requirements.txt (line 2)) (2.8.2)\n",
            "Requirement already satisfied: crcmod<2.0,>=1.7 in /usr/local/lib/python3.7/dist-packages (from apache-beam[gcp]==2.24.0->-r requirements.txt (line 2)) (1.7)\n",
            "Requirement already satisfied: google-cloud-core<2,>=0.28.1 in /usr/local/lib/python3.7/dist-packages (from apache-beam[gcp]==2.24.0->-r requirements.txt (line 2)) (1.7.2)\n",
            "Requirement already satisfied: google-cloud-dlp<2,>=0.12.0 in /usr/local/lib/python3.7/dist-packages (from apache-beam[gcp]==2.24.0->-r requirements.txt (line 2)) (1.0.2)\n",
            "Requirement already satisfied: google-cloud-pubsub<2,>=0.39.0 in /usr/local/lib/python3.7/dist-packages (from apache-beam[gcp]==2.24.0->-r requirements.txt (line 2)) (1.7.2)\n",
            "Requirement already satisfied: google-cloud-datastore<2,>=1.7.1 in /usr/local/lib/python3.7/dist-packages (from apache-beam[gcp]==2.24.0->-r requirements.txt (line 2)) (1.8.0)\n",
            "Requirement already satisfied: google-cloud-bigquery<2,>=1.6.0 in /usr/local/lib/python3.7/dist-packages (from apache-beam[gcp]==2.24.0->-r requirements.txt (line 2)) (1.21.0)\n",
            "Requirement already satisfied: google-cloud-language<2,>=1.3.0 in /usr/local/lib/python3.7/dist-packages (from apache-beam[gcp]==2.24.0->-r requirements.txt (line 2)) (1.3.2)\n",
            "Requirement already satisfied: cachetools<4,>=3.1.0 in /usr/local/lib/python3.7/dist-packages (from apache-beam[gcp]==2.24.0->-r requirements.txt (line 2)) (3.1.1)\n",
            "Requirement already satisfied: google-cloud-spanner<2,>=1.13.0 in /usr/local/lib/python3.7/dist-packages (from apache-beam[gcp]==2.24.0->-r requirements.txt (line 2)) (1.19.3)\n",
            "Requirement already satisfied: google-cloud-vision<2,>=0.38.0 in /usr/local/lib/python3.7/dist-packages (from apache-beam[gcp]==2.24.0->-r requirements.txt (line 2)) (1.0.2)\n",
            "Requirement already satisfied: google-cloud-videointelligence<2,>=1.8.0 in /usr/local/lib/python3.7/dist-packages (from apache-beam[gcp]==2.24.0->-r requirements.txt (line 2)) (1.16.3)\n",
            "Requirement already satisfied: google-cloud-bigtable<2,>=0.31.1 in /usr/local/lib/python3.7/dist-packages (from apache-beam[gcp]==2.24.0->-r requirements.txt (line 2)) (1.7.2)\n",
            "Requirement already satisfied: google-apitools<0.5.32,>=0.5.31 in /usr/local/lib/python3.7/dist-packages (from apache-beam[gcp]==2.24.0->-r requirements.txt (line 2)) (0.5.31)\n",
            "Requirement already satisfied: grpcio-gcp<1,>=0.2.2 in /usr/local/lib/python3.7/dist-packages (from apache-beam[gcp]==2.24.0->-r requirements.txt (line 2)) (0.2.2)\n",
            "Requirement already satisfied: fasteners>=0.14 in /usr/local/lib/python3.7/dist-packages (from google-apitools<0.5.32,>=0.5.31->apache-beam[gcp]==2.24.0->-r requirements.txt (line 2)) (0.17.3)\n",
            "Requirement already satisfied: setuptools>=40.3.0 in /usr/local/lib/python3.7/dist-packages (from google-auth>=1.2->gcsfs==0.7.1->-r requirements.txt (line 14)) (57.4.0)\n",
            "Requirement already satisfied: pyasn1-modules>=0.2.1 in /usr/local/lib/python3.7/dist-packages (from google-auth>=1.2->gcsfs==0.7.1->-r requirements.txt (line 14)) (0.2.8)\n",
            "Requirement already satisfied: rsa<5,>=3.1.4 in /usr/local/lib/python3.7/dist-packages (from google-auth>=1.2->gcsfs==0.7.1->-r requirements.txt (line 14)) (4.8)\n",
            "Requirement already satisfied: google-resumable-media!=0.4.0,<0.5.0dev,>=0.3.1 in /usr/local/lib/python3.7/dist-packages (from google-cloud-bigquery<2,>=1.6.0->apache-beam[gcp]==2.24.0->-r requirements.txt (line 2)) (0.4.1)\n",
            "Requirement already satisfied: grpc-google-iam-v1<0.13dev,>=0.12.3 in /usr/local/lib/python3.7/dist-packages (from google-cloud-bigtable<2,>=0.31.1->apache-beam[gcp]==2.24.0->-r requirements.txt (line 2)) (0.12.4)\n",
            "Requirement already satisfied: google-api-core[grpc]!=2.0.*,!=2.1.*,!=2.2.*,!=2.3.0,<3.0.0dev,>=1.31.5 in /usr/local/lib/python3.7/dist-packages (from google-cloud-bigtable<2,>=0.31.1->apache-beam[gcp]==2.24.0->-r requirements.txt (line 2)) (1.31.6)\n",
            "Requirement already satisfied: googleapis-common-protos<2.0dev,>=1.6.0 in /usr/local/lib/python3.7/dist-packages (from google-api-core[grpc]!=2.0.*,!=2.1.*,!=2.2.*,!=2.3.0,<3.0.0dev,>=1.31.5->google-cloud-bigtable<2,>=0.31.1->apache-beam[gcp]==2.24.0->-r requirements.txt (line 2)) (1.56.2)\n",
            "Requirement already satisfied: packaging>=14.3 in /usr/local/lib/python3.7/dist-packages (from google-api-core[grpc]!=2.0.*,!=2.1.*,!=2.2.*,!=2.3.0,<3.0.0dev,>=1.31.5->google-cloud-bigtable<2,>=0.31.1->apache-beam[gcp]==2.24.0->-r requirements.txt (line 2)) (21.3)\n",
            "Requirement already satisfied: docopt in /usr/local/lib/python3.7/dist-packages (from hdfs<3.0.0,>=2.1.0->apache-beam[gcp]==2.24.0->-r requirements.txt (line 2)) (0.6.2)\n",
            "Requirement already satisfied: pbr>=0.11 in /usr/local/lib/python3.7/dist-packages (from mock<3.0.0,>=1.0.1->apache-beam[gcp]==2.24.0->-r requirements.txt (line 2)) (5.9.0)\n",
            "Requirement already satisfied: pyasn1>=0.1.7 in /usr/local/lib/python3.7/dist-packages (from oauth2client<4,>=2.0.1->apache-beam[gcp]==2.24.0->-r requirements.txt (line 2)) (0.4.8)\n",
            "Requirement already satisfied: pyparsing!=3.0.5,>=2.0.2 in /usr/local/lib/python3.7/dist-packages (from packaging>=14.3->google-api-core[grpc]!=2.0.*,!=2.1.*,!=2.2.*,!=2.3.0,<3.0.0dev,>=1.31.5->google-cloud-bigtable<2,>=0.31.1->apache-beam[gcp]==2.24.0->-r requirements.txt (line 2)) (3.0.9)\n",
            "Requirement already satisfied: werkzeug>=0.11.15 in /usr/local/lib/python3.7/dist-packages (from tensorboard<2.2.0,>=2.1.0->tensorflow==2.1.0->-r requirements.txt (line 7)) (1.0.1)\n",
            "Requirement already satisfied: markdown>=2.6.8 in /usr/local/lib/python3.7/dist-packages (from tensorboard<2.2.0,>=2.1.0->tensorflow==2.1.0->-r requirements.txt (line 7)) (3.3.7)\n",
            "Requirement already satisfied: requests-oauthlib>=0.7.0 in /usr/local/lib/python3.7/dist-packages (from google-auth-oauthlib->gcsfs==0.7.1->-r requirements.txt (line 14)) (1.3.1)\n",
            "Requirement already satisfied: importlib-metadata>=4.4 in /usr/local/lib/python3.7/dist-packages (from markdown>=2.6.8->tensorboard<2.2.0,>=2.1.0->tensorflow==2.1.0->-r requirements.txt (line 7)) (4.11.4)\n",
            "Requirement already satisfied: zipp>=0.5 in /usr/local/lib/python3.7/dist-packages (from importlib-metadata>=4.4->markdown>=2.6.8->tensorboard<2.2.0,>=2.1.0->tensorflow==2.1.0->-r requirements.txt (line 7)) (3.8.0)\n",
            "Requirement already satisfied: oauthlib>=3.0.0 in /usr/local/lib/python3.7/dist-packages (from requests-oauthlib>=0.7.0->google-auth-oauthlib->gcsfs==0.7.1->-r requirements.txt (line 14)) (3.2.0)\n",
            "Requirement already satisfied: attrs>=17.3.0 in /usr/local/lib/python3.7/dist-packages (from aiohttp->gcsfs==0.7.1->-r requirements.txt (line 14)) (21.4.0)\n",
            "Requirement already satisfied: frozenlist>=1.1.1 in /usr/local/lib/python3.7/dist-packages (from aiohttp->gcsfs==0.7.1->-r requirements.txt (line 14)) (1.3.0)\n",
            "Requirement already satisfied: aiosignal>=1.1.2 in /usr/local/lib/python3.7/dist-packages (from aiohttp->gcsfs==0.7.1->-r requirements.txt (line 14)) (1.2.0)\n",
            "Requirement already satisfied: yarl<2.0,>=1.0 in /usr/local/lib/python3.7/dist-packages (from aiohttp->gcsfs==0.7.1->-r requirements.txt (line 14)) (1.7.2)\n",
            "Requirement already satisfied: charset-normalizer<3.0,>=2.0 in /usr/local/lib/python3.7/dist-packages (from aiohttp->gcsfs==0.7.1->-r requirements.txt (line 14)) (2.1.0)\n",
            "Requirement already satisfied: asynctest==0.13.0 in /usr/local/lib/python3.7/dist-packages (from aiohttp->gcsfs==0.7.1->-r requirements.txt (line 14)) (0.13.0)\n",
            "Requirement already satisfied: async-timeout<5.0,>=4.0.0a3 in /usr/local/lib/python3.7/dist-packages (from aiohttp->gcsfs==0.7.1->-r requirements.txt (line 14)) (4.0.2)\n",
            "Requirement already satisfied: multidict<7.0,>=4.5 in /usr/local/lib/python3.7/dist-packages (from aiohttp->gcsfs==0.7.1->-r requirements.txt (line 14)) (6.0.2)\n"
          ]
        }
      ]
    },
    {
      "cell_type": "code",
      "source": [
        "import json"
      ],
      "metadata": {
        "id": "Q4ul71pGccjx"
      },
      "execution_count": null,
      "outputs": []
    },
    {
      "cell_type": "markdown",
      "metadata": {
        "id": "k0DDu27S3CJv"
      },
      "source": [
        "##**Entreglable (0.5 puntos)**\n",
        "\n",
        "Desarrollar un pipeline de preprocesamiento utilizando Apache Beam para generar datos de train, eval y test para los datos proporcionados anteriormente. Requisitos:\n",
        "\n",
        "- Proporcionar dos modos de ejecución: `train` y `test`\n",
        "- Soportar ejecuciones en local con `DirectRunner` y ejecuciones en Dataflow usando `DataFlowRunner`."
      ]
    },
    {
      "cell_type": "code",
      "metadata": {
        "id": "1blctlxs_dPO",
        "colab": {
          "base_uri": "https://localhost:8080/"
        },
        "outputId": "0d950a0e-c333-4cc9-a74e-a5baf19b6523"
      },
      "source": [
        "%%writefile preprocess.py\n",
        "\n",
        "# Licensed to the Apache Software Foundation (ASF) under one or more\n",
        "# contributor license agreements.  See the NOTICE file distributed with\n",
        "# this work for additional information regarding copyright ownership.\n",
        "# The ASF licenses this file to You under the Apache License, Version 2.0\n",
        "# (the \"License\"); you may not use this file except in compliance with\n",
        "# the License.  You may obtain a copy of the License at\n",
        "#\n",
        "#    http://www.apache.org/licenses/LICENSE-2.0\n",
        "#\n",
        "# Unless required by applicable law or agreed to in writing, software\n",
        "# distributed under the License is distributed on an \"AS IS\" BASIS,\n",
        "# WITHOUT WARRANTIES OR CONDITIONS OF ANY KIND, either express or implied.\n",
        "# See the License for the specific language governing permissions and\n",
        "# limitations under the License.\n",
        "#\n",
        "\n",
        "\"\"\"A word-counting workflow.\"\"\"\n",
        "\n",
        "# pytype: skip-file\n",
        "\n",
        "from __future__ import absolute_import\n",
        "\n",
        "import argparse\n",
        "import logging\n",
        "import re\n",
        "import os\n",
        "import csv\n",
        "import random\n",
        "import json\n",
        "\n",
        "from past.builtins import unicode\n",
        "\n",
        "import apache_beam as beam\n",
        "from apache_beam.io import ReadFromText\n",
        "from apache_beam.io import WriteToText\n",
        "from apache_beam.coders.coders import Coder\n",
        "from apache_beam.options.pipeline_options import PipelineOptions\n",
        "from apache_beam.options.pipeline_options import SetupOptions, DirectOptions\n",
        "\n",
        "import nltk\n",
        "from nltk.corpus import stopwords\n",
        "from nltk.stem import SnowballStemmer\n",
        "\n",
        "nltk.download(\"stopwords\")\n",
        "\n",
        "# CLEANING\n",
        "STOP_WORDS = stopwords.words(\"english\")\n",
        "STEMMER = SnowballStemmer(\"english\")\n",
        "TEXT_CLEANING_RE = \"@\\S+|https?:\\S+|http?:\\S|[^A-Za-z0-9]+\"\n",
        "\n",
        "\n",
        "# class ExtractColumnsDoFn(beam.DoFn):\n",
        "#     def process(self, element):\n",
        "#         # space removal\n",
        "#         element_split = list(csv.reader(element, delimiter=\",\"))\n",
        "#         element_split = [x for x in element_split if x != [\"\", \"\"]]\n",
        "#         # text, sentiment\n",
        "#         yield element_split[5][-1], element_split[0][-1]\n",
        "\n",
        "class ExtractColumnsDoFn(beam.DoFn):\n",
        "    def process(self, element):\n",
        "        #se carga el archivo json\n",
        "        comentarios = json.loads(element)\n",
        "        #Selecciono las columnas que contienen los comentarios y la etiqueta 1 o 0 (si es troll o no es troll)\n",
        "        texto_comentario = comentarios[\"content\"]\n",
        "        troll = comentarios[\"annotation\"][\"label\"][0]\n",
        "        data_troll = int(troll)\n",
        "        yield texto_comentario, data_troll\n",
        "\n",
        "class PreprocessColumnsTrainFn(beam.DoFn):\n",
        "    def process_sentiment(self, sentiment):\n",
        "        sentiment = int(sentiment)\n",
        "        if sentiment == 1:\n",
        "            return \"TROLL\"\n",
        "        else:\n",
        "            return \"NO_TROLL\"\n",
        "\n",
        "    def process_text(self, text):\n",
        "        # Remove link,user and special characters\n",
        "        stem = False\n",
        "        text = re.sub(TEXT_CLEANING_RE, \" \", str(text).lower()).strip()\n",
        "        tokens = []\n",
        "        for token in text.split():\n",
        "            if token not in STOP_WORDS:\n",
        "                if stem:\n",
        "                    tokens.append(STEMMER.stem(token))\n",
        "                else:\n",
        "                    tokens.append(token)\n",
        "        return \" \".join(tokens)\n",
        "\n",
        "    def process(self, element):\n",
        "        processed_text = self.process_text(element[0])\n",
        "        processed_sentiment = self.process_sentiment(element[1])\n",
        "        yield f\"{processed_text}, {processed_sentiment}\"\n",
        "\n",
        "\n",
        "class CustomCoder(Coder):\n",
        "    \"\"\"A custom coder used for reading and writing strings\"\"\"\n",
        "\n",
        "    def __init__(self, encoding: str):\n",
        "        # latin-1\n",
        "        # iso-8859-1\n",
        "        self.enconding = encoding\n",
        "\n",
        "    def encode(self, value):\n",
        "        return value.encode(self.enconding)\n",
        "\n",
        "    def decode(self, value):\n",
        "        return value.decode(self.enconding)\n",
        "\n",
        "    def is_deterministic(self):\n",
        "        return True\n",
        "\n",
        "\n",
        "def run(argv=None, save_main_session=True):\n",
        "\n",
        "    \"\"\"Main entry point; defines and runs the wordcount pipeline.\"\"\"\n",
        "\n",
        "    parser = argparse.ArgumentParser()\n",
        "\n",
        "    parser.add_argument(\n",
        "        \"--work-dir\", dest=\"work_dir\", required=True, help=\"Working directory\",\n",
        "    )\n",
        "\n",
        "    parser.add_argument(\n",
        "        \"--input\", dest=\"input\", required=True, help=\"Input dataset in work dir\",\n",
        "    )\n",
        "    parser.add_argument(\n",
        "        \"--output\",\n",
        "        dest=\"output\",\n",
        "        required=True,\n",
        "        help=\"Output path to store transformed data in work dir\",\n",
        "    )\n",
        "    parser.add_argument(\n",
        "        \"--mode\",\n",
        "        dest=\"mode\",\n",
        "        required=True,\n",
        "        choices=[\"train\", \"test\"],\n",
        "        help=\"Type of output to store transformed data\",\n",
        "    )\n",
        "\n",
        "    known_args, pipeline_args = parser.parse_known_args(argv)\n",
        "\n",
        "    # We use the save_main_session option because one or more DoFn's in this\n",
        "    # workflow rely on global context (e.g., a module imported at module level).\n",
        "    pipeline_options = PipelineOptions(pipeline_args)\n",
        "    pipeline_options.view_as(SetupOptions).save_main_session = save_main_session\n",
        "    pipeline_options.view_as(DirectOptions).direct_num_workers = 0\n",
        "\n",
        "    # The pipeline will be run on exiting the with block.\n",
        "    with beam.Pipeline(options=pipeline_options) as p:\n",
        "\n",
        "        # Read the text file[pattern] into a PCollection.\n",
        "        raw_data = p | \"ReadTwitterData\" >> ReadFromText(\n",
        "            known_args.input, coder=CustomCoder(\"latin-1\")\n",
        "        )\n",
        "\n",
        "        if known_args.mode == \"train\":\n",
        "\n",
        "            transformed_data = (\n",
        "                raw_data\n",
        "                | \"ExtractColumns\" >> beam.ParDo(ExtractColumnsDoFn())\n",
        "                | \"Preprocess\" >> beam.ParDo(PreprocessColumnsTrainFn())\n",
        "            )\n",
        "\n",
        "            eval_percent = 20\n",
        "            assert 0 < eval_percent < 100, \"eval_percent must in the range (0-100)\"\n",
        "            train_dataset, eval_dataset = (\n",
        "                transformed_data\n",
        "                | \"Split dataset\"\n",
        "                >> beam.Partition(\n",
        "                    lambda elem, _: int(random.uniform(0, 100) < eval_percent), 2\n",
        "                )\n",
        "            )\n",
        "\n",
        "            train_dataset | \"TrainWriteToCSV\" >> WriteToText(\n",
        "                os.path.join(known_args.output, \"train\", \"part\")\n",
        "            )\n",
        "            eval_dataset | \"EvalWriteToCSV\" >> WriteToText(\n",
        "                os.path.join(known_args.output, \"eval\", \"part\")\n",
        "            )\n",
        "\n",
        "        else:\n",
        "            transformed_data = (\n",
        "                raw_data\n",
        "                | \"ExtractColumns\" >> beam.ParDo(ExtractColumnsDoFn())\n",
        "                | \"Preprocess\" >> beam.Map(lambda x: f'\"{x[0]}\"')\n",
        "            )\n",
        "\n",
        "            transformed_data | \"TestWriteToCSV\" >> WriteToText(\n",
        "                os.path.join(known_args.output, \"test\", \"part\")\n",
        "            )\n",
        "\n",
        "\n",
        "if __name__ == \"__main__\":\n",
        "    logging.getLogger().setLevel(logging.INFO)\n",
        "    run()\n"
      ],
      "execution_count": null,
      "outputs": [
        {
          "output_type": "stream",
          "name": "stdout",
          "text": [
            "Overwriting preprocess.py\n"
          ]
        }
      ]
    },
    {
      "cell_type": "markdown",
      "metadata": {
        "id": "qawuKC0k4B0e"
      },
      "source": [
        "Se proporciona un fichero `setup.py` necesario para ejecutar en DataFlow. Modificar la variable `REQUIRED_PACKAGES` con las dependencias que se hayan usado en el `requirements.txt`"
      ]
    },
    {
      "cell_type": "code",
      "metadata": {
        "id": "n1MQvWsk_mVX",
        "colab": {
          "base_uri": "https://localhost:8080/"
        },
        "outputId": "fb857dd6-6747-43f2-e616-3a4e7172d5e0"
      },
      "source": [
        "%%writefile setup.py\n",
        "\n",
        "import setuptools\n",
        "\n",
        "REQUIRED_PACKAGES = [\n",
        "    \"apache-beam[gcp]==2.24.0\",\n",
        "    \"tensorflow==2.8.0\",\n",
        "    \"gensim==3.6.0\",\n",
        "    \"fsspec==0.8.4\",\n",
        "    \"gcsfs==0.7.1\",\n",
        "    \"numpy==1.20.0\",\n",
        "    \"keras==2.8.0\",\n",
        "]\n",
        "\n",
        "setuptools.setup(\n",
        "    name=\"twitteremotion\",\n",
        "    version=\"0.0.1\",\n",
        "    install_requires=REQUIRED_PACKAGES,\n",
        "    packages=setuptools.find_packages(),\n",
        "    include_package_data=True,\n",
        "    description=\"Cloud ML Twitter sentiment analysis with preprocessing\",\n",
        ")"
      ],
      "execution_count": null,
      "outputs": [
        {
          "output_type": "stream",
          "name": "stdout",
          "text": [
            "Overwriting setup.py\n"
          ]
        }
      ]
    },
    {
      "cell_type": "markdown",
      "metadata": {
        "id": "jLDlz_fL4UJA"
      },
      "source": [
        "### Validación preprocess train en local (0.25 puntos)\n",
        "\n",
        "Con el comando mostrado a continuación se valida la correcta generación de los datos de entrenamiento y validación en local."
      ]
    },
    {
      "cell_type": "code",
      "metadata": {
        "id": "vFpirg37C3bN",
        "colab": {
          "base_uri": "https://localhost:8080/"
        },
        "outputId": "8061d28d-e3e9-4115-a7de-71cc9cb1fbb1"
      },
      "source": [
        "! python3 preprocess.py \\\n",
        "  --work-dir $WORK_DIR \\\n",
        "  --runner DirectRunner \\\n",
        "  --input $WORK_DIR/data.json \\\n",
        "  --output $WORK_DIR/transformed_data \\\n",
        "  --mode train"
      ],
      "execution_count": null,
      "outputs": [
        {
          "output_type": "stream",
          "name": "stdout",
          "text": [
            "[nltk_data] Downloading package stopwords to /root/nltk_data...\n",
            "[nltk_data]   Package stopwords is already up-to-date!\n",
            "INFO:apache_beam.runners.portability.fn_api_runner.translations:==================== <function annotate_downstream_side_inputs at 0x7f4e24d8e0e0> ====================\n",
            "INFO:apache_beam.runners.portability.fn_api_runner.translations:==================== <function fix_side_input_pcoll_coders at 0x7f4e24d8e200> ====================\n",
            "INFO:apache_beam.runners.portability.fn_api_runner.translations:==================== <function lift_combiners at 0x7f4e24d8e290> ====================\n",
            "INFO:apache_beam.runners.portability.fn_api_runner.translations:==================== <function expand_sdf at 0x7f4e24d8e320> ====================\n",
            "INFO:apache_beam.runners.portability.fn_api_runner.translations:==================== <function expand_gbk at 0x7f4e24d8e3b0> ====================\n",
            "INFO:apache_beam.runners.portability.fn_api_runner.translations:==================== <function sink_flattens at 0x7f4e24d8e4d0> ====================\n",
            "INFO:apache_beam.runners.portability.fn_api_runner.translations:==================== <function greedily_fuse at 0x7f4e24d8e560> ====================\n",
            "INFO:apache_beam.runners.portability.fn_api_runner.translations:==================== <function read_to_impulse at 0x7f4e24d8e5f0> ====================\n",
            "INFO:apache_beam.runners.portability.fn_api_runner.translations:==================== <function impulse_to_input at 0x7f4e24d8e680> ====================\n",
            "INFO:apache_beam.runners.portability.fn_api_runner.translations:==================== <function sort_stages at 0x7f4e24d8e8c0> ====================\n",
            "INFO:apache_beam.runners.portability.fn_api_runner.translations:==================== <function setup_timer_mapping at 0x7f4e24d8e830> ====================\n",
            "INFO:apache_beam.runners.portability.fn_api_runner.translations:==================== <function populate_data_channel_coders at 0x7f4e24d8e950> ====================\n",
            "INFO:apache_beam.runners.worker.statecache:Creating state cache with size 100\n",
            "INFO:apache_beam.runners.portability.fn_api_runner.worker_handlers:Created Worker handler <apache_beam.runners.portability.fn_api_runner.worker_handlers.EmbeddedWorkerHandler object at 0x7f4e2481a910> for environment ref_Environment_default_environment_1 (beam:env:embedded_python:v1, b'')\n",
            "INFO:apache_beam.runners.worker.statecache:Creating state cache with size 100\n",
            "INFO:apache_beam.runners.portability.fn_api_runner.worker_handlers:Created Worker handler <apache_beam.runners.portability.fn_api_runner.worker_handlers.EmbeddedWorkerHandler object at 0x7f4e247c3310> for environment ref_Environment_default_environment_1 (beam:env:embedded_python:v1, b'')\n",
            "INFO:apache_beam.runners.portability.fn_api_runner.fn_runner:Running (((((ref_AppliedPTransform_EvalWriteToCSV/Write/WriteImpl/DoOnce/Impulse_32)+(ref_AppliedPTransform_EvalWriteToCSV/Write/WriteImpl/DoOnce/FlatMap(<lambda at core.py:2826>)_33))+(ref_AppliedPTransform_EvalWriteToCSV/Write/WriteImpl/DoOnce/Map(decode)_35))+(ref_AppliedPTransform_EvalWriteToCSV/Write/WriteImpl/InitializeWrite_36))+(ref_PCollection_PCollection_21/Write))+(ref_PCollection_PCollection_22/Write)\n",
            "INFO:apache_beam.runners.portability.fn_api_runner.fn_runner:Running (((((ref_AppliedPTransform_TrainWriteToCSV/Write/WriteImpl/DoOnce/Impulse_16)+(ref_AppliedPTransform_TrainWriteToCSV/Write/WriteImpl/DoOnce/FlatMap(<lambda at core.py:2826>)_17))+(ref_AppliedPTransform_TrainWriteToCSV/Write/WriteImpl/DoOnce/Map(decode)_19))+(ref_AppliedPTransform_TrainWriteToCSV/Write/WriteImpl/InitializeWrite_20))+(ref_PCollection_PCollection_10/Write))+(ref_PCollection_PCollection_11/Write)\n",
            "INFO:apache_beam.runners.portability.fn_api_runner.fn_runner:Running (((ref_AppliedPTransform_ReadTwitterData/Read/_SDFBoundedSourceWrapper/Impulse_5)+(ReadTwitterData/Read/_SDFBoundedSourceWrapper/ParDo(SDFBoundedSourceDoFn)/PairWithRestriction))+(ReadTwitterData/Read/_SDFBoundedSourceWrapper/ParDo(SDFBoundedSourceDoFn)/SplitAndSizeRestriction))+(ref_PCollection_PCollection_1_split/Write)\n",
            "INFO:apache_beam.runners.portability.fn_api_runner.fn_runner:Running ((((((((((((ref_PCollection_PCollection_1_split/Read)+(ReadTwitterData/Read/_SDFBoundedSourceWrapper/ParDo(SDFBoundedSourceDoFn)/Process))+(ref_AppliedPTransform_ExtractColumns_7))+(ref_AppliedPTransform_Preprocess_8))+(ref_AppliedPTransform_Split dataset/ParDo(ApplyPartitionFnFn)/ParDo(ApplyPartitionFnFn)_11))+(ref_AppliedPTransform_TrainWriteToCSV/Write/WriteImpl/WindowInto(WindowIntoFn)_21))+(ref_AppliedPTransform_EvalWriteToCSV/Write/WriteImpl/WindowInto(WindowIntoFn)_37))+(ref_AppliedPTransform_TrainWriteToCSV/Write/WriteImpl/WriteBundles_22))+(ref_AppliedPTransform_TrainWriteToCSV/Write/WriteImpl/Pair_23))+(TrainWriteToCSV/Write/WriteImpl/GroupByKey/Write))+(ref_AppliedPTransform_EvalWriteToCSV/Write/WriteImpl/WriteBundles_38))+(ref_AppliedPTransform_EvalWriteToCSV/Write/WriteImpl/Pair_39))+(EvalWriteToCSV/Write/WriteImpl/GroupByKey/Write)\n",
            "INFO:apache_beam.runners.portability.fn_api_runner.fn_runner:Running ((EvalWriteToCSV/Write/WriteImpl/GroupByKey/Read)+(ref_AppliedPTransform_EvalWriteToCSV/Write/WriteImpl/Extract_41))+(ref_PCollection_PCollection_27/Write)\n",
            "INFO:apache_beam.runners.portability.fn_api_runner.fn_runner:Running ((ref_PCollection_PCollection_21/Read)+(ref_AppliedPTransform_EvalWriteToCSV/Write/WriteImpl/PreFinalize_42))+(ref_PCollection_PCollection_28/Write)\n",
            "WARNING:apache_beam.io.filebasedsink:Deleting 2 existing files in target path matching: -*-of-%(num_shards)05d\n",
            "INFO:apache_beam.runners.portability.fn_api_runner.fn_runner:Running (ref_PCollection_PCollection_21/Read)+(ref_AppliedPTransform_EvalWriteToCSV/Write/WriteImpl/FinalizeWrite_43)\n",
            "INFO:apache_beam.io.filebasedsink:Starting finalize_write threads with num_shards: 2 (skipped: 0), batches: 2, num_threads: 2\n",
            "INFO:apache_beam.io.filebasedsink:Renamed 2 shards in 0.10 seconds.\n",
            "INFO:apache_beam.runners.portability.fn_api_runner.fn_runner:Running ((TrainWriteToCSV/Write/WriteImpl/GroupByKey/Read)+(ref_AppliedPTransform_TrainWriteToCSV/Write/WriteImpl/Extract_25))+(ref_PCollection_PCollection_16/Write)\n",
            "INFO:apache_beam.runners.portability.fn_api_runner.fn_runner:Running ((ref_PCollection_PCollection_10/Read)+(ref_AppliedPTransform_TrainWriteToCSV/Write/WriteImpl/PreFinalize_26))+(ref_PCollection_PCollection_17/Write)\n",
            "WARNING:apache_beam.io.filebasedsink:Deleting 2 existing files in target path matching: -*-of-%(num_shards)05d\n",
            "INFO:apache_beam.runners.portability.fn_api_runner.fn_runner:Running (ref_PCollection_PCollection_10/Read)+(ref_AppliedPTransform_TrainWriteToCSV/Write/WriteImpl/FinalizeWrite_27)\n",
            "INFO:apache_beam.io.filebasedsink:Starting finalize_write threads with num_shards: 2 (skipped: 0), batches: 2, num_threads: 2\n",
            "INFO:apache_beam.io.filebasedsink:Renamed 2 shards in 0.10 seconds.\n"
          ]
        }
      ]
    },
    {
      "cell_type": "markdown",
      "metadata": {
        "id": "wkkG271a4qnA"
      },
      "source": [
        "### Validación preprocess test en local (0.25 puntos)\n",
        "\n",
        "Con el comando mostrado a continuación se valida la correcta generación de los datos de test en local."
      ]
    },
    {
      "cell_type": "code",
      "metadata": {
        "id": "u4lkLgecLS3i",
        "colab": {
          "base_uri": "https://localhost:8080/"
        },
        "outputId": "c6aeea61-8086-4ada-9759-ffd397338bf4"
      },
      "source": [
        "! python3 preprocess.py \\\n",
        "  --work-dir $WORK_DIR \\\n",
        "  --runner DirectRunner \\\n",
        "  --input $WORK_DIR/data.json \\\n",
        "  --output $WORK_DIR/transformed_data \\\n",
        "  --mode test"
      ],
      "execution_count": null,
      "outputs": [
        {
          "output_type": "stream",
          "name": "stdout",
          "text": [
            "[nltk_data] Downloading package stopwords to /root/nltk_data...\n",
            "[nltk_data]   Package stopwords is already up-to-date!\n",
            "INFO:apache_beam.runners.portability.fn_api_runner.translations:==================== <function annotate_downstream_side_inputs at 0x7f98a0f030e0> ====================\n",
            "INFO:apache_beam.runners.portability.fn_api_runner.translations:==================== <function fix_side_input_pcoll_coders at 0x7f98a0f03200> ====================\n",
            "INFO:apache_beam.runners.portability.fn_api_runner.translations:==================== <function lift_combiners at 0x7f98a0f03290> ====================\n",
            "INFO:apache_beam.runners.portability.fn_api_runner.translations:==================== <function expand_sdf at 0x7f98a0f03320> ====================\n",
            "INFO:apache_beam.runners.portability.fn_api_runner.translations:==================== <function expand_gbk at 0x7f98a0f033b0> ====================\n",
            "INFO:apache_beam.runners.portability.fn_api_runner.translations:==================== <function sink_flattens at 0x7f98a0f034d0> ====================\n",
            "INFO:apache_beam.runners.portability.fn_api_runner.translations:==================== <function greedily_fuse at 0x7f98a0f03560> ====================\n",
            "INFO:apache_beam.runners.portability.fn_api_runner.translations:==================== <function read_to_impulse at 0x7f98a0f035f0> ====================\n",
            "INFO:apache_beam.runners.portability.fn_api_runner.translations:==================== <function impulse_to_input at 0x7f98a0f03680> ====================\n",
            "INFO:apache_beam.runners.portability.fn_api_runner.translations:==================== <function sort_stages at 0x7f98a0f038c0> ====================\n",
            "INFO:apache_beam.runners.portability.fn_api_runner.translations:==================== <function setup_timer_mapping at 0x7f98a0f03830> ====================\n",
            "INFO:apache_beam.runners.portability.fn_api_runner.translations:==================== <function populate_data_channel_coders at 0x7f98a0f03950> ====================\n",
            "INFO:apache_beam.runners.worker.statecache:Creating state cache with size 100\n",
            "INFO:apache_beam.runners.portability.fn_api_runner.worker_handlers:Created Worker handler <apache_beam.runners.portability.fn_api_runner.worker_handlers.EmbeddedWorkerHandler object at 0x7f98a0e74550> for environment ref_Environment_default_environment_1 (beam:env:embedded_python:v1, b'')\n",
            "INFO:apache_beam.runners.worker.statecache:Creating state cache with size 100\n",
            "INFO:apache_beam.runners.portability.fn_api_runner.worker_handlers:Created Worker handler <apache_beam.runners.portability.fn_api_runner.worker_handlers.EmbeddedWorkerHandler object at 0x7f98a0ed8dd0> for environment ref_Environment_default_environment_1 (beam:env:embedded_python:v1, b'')\n",
            "INFO:apache_beam.runners.portability.fn_api_runner.fn_runner:Running (((((ref_AppliedPTransform_TestWriteToCSV/Write/WriteImpl/DoOnce/Impulse_13)+(ref_AppliedPTransform_TestWriteToCSV/Write/WriteImpl/DoOnce/FlatMap(<lambda at core.py:2826>)_14))+(ref_AppliedPTransform_TestWriteToCSV/Write/WriteImpl/DoOnce/Map(decode)_16))+(ref_AppliedPTransform_TestWriteToCSV/Write/WriteImpl/InitializeWrite_17))+(ref_PCollection_PCollection_7/Write))+(ref_PCollection_PCollection_8/Write)\n",
            "INFO:apache_beam.runners.portability.fn_api_runner.fn_runner:Running (((ref_AppliedPTransform_ReadTwitterData/Read/_SDFBoundedSourceWrapper/Impulse_5)+(ReadTwitterData/Read/_SDFBoundedSourceWrapper/ParDo(SDFBoundedSourceDoFn)/PairWithRestriction))+(ReadTwitterData/Read/_SDFBoundedSourceWrapper/ParDo(SDFBoundedSourceDoFn)/SplitAndSizeRestriction))+(ref_PCollection_PCollection_1_split/Write)\n",
            "INFO:apache_beam.runners.portability.fn_api_runner.fn_runner:Running (((((((ref_PCollection_PCollection_1_split/Read)+(ReadTwitterData/Read/_SDFBoundedSourceWrapper/ParDo(SDFBoundedSourceDoFn)/Process))+(ref_AppliedPTransform_ExtractColumns_7))+(ref_AppliedPTransform_Preprocess_8))+(ref_AppliedPTransform_TestWriteToCSV/Write/WriteImpl/WindowInto(WindowIntoFn)_18))+(ref_AppliedPTransform_TestWriteToCSV/Write/WriteImpl/WriteBundles_19))+(ref_AppliedPTransform_TestWriteToCSV/Write/WriteImpl/Pair_20))+(TestWriteToCSV/Write/WriteImpl/GroupByKey/Write)\n",
            "INFO:apache_beam.runners.portability.fn_api_runner.fn_runner:Running ((TestWriteToCSV/Write/WriteImpl/GroupByKey/Read)+(ref_AppliedPTransform_TestWriteToCSV/Write/WriteImpl/Extract_22))+(ref_PCollection_PCollection_13/Write)\n",
            "INFO:apache_beam.runners.portability.fn_api_runner.fn_runner:Running ((ref_PCollection_PCollection_7/Read)+(ref_AppliedPTransform_TestWriteToCSV/Write/WriteImpl/PreFinalize_23))+(ref_PCollection_PCollection_14/Write)\n",
            "WARNING:apache_beam.io.filebasedsink:Deleting 2 existing files in target path matching: -*-of-%(num_shards)05d\n",
            "INFO:apache_beam.runners.portability.fn_api_runner.fn_runner:Running (ref_PCollection_PCollection_7/Read)+(ref_AppliedPTransform_TestWriteToCSV/Write/WriteImpl/FinalizeWrite_24)\n",
            "INFO:apache_beam.io.filebasedsink:Starting finalize_write threads with num_shards: 2 (skipped: 0), batches: 2, num_threads: 2\n",
            "INFO:apache_beam.io.filebasedsink:Renamed 2 shards in 0.10 seconds.\n"
          ]
        }
      ]
    },
    {
      "cell_type": "markdown",
      "metadata": {
        "id": "geZM9Sbj45LK"
      },
      "source": [
        "## Entregable 2 (1.25 puntos)\n",
        "\n",
        "Desarrollar una tarea de entrenamiento para los datos preprocesados. Requisitos:\n",
        "\n",
        "- Soportar ejecuciones en local usando el SDK de AI-Platform y ejecuciones en GCP con el mismo código."
      ]
    },
    {
      "cell_type": "markdown",
      "metadata": {
        "id": "OMUwXgm_5el-"
      },
      "source": [
        "Se crea el directorio donde se dejará este entregable."
      ]
    },
    {
      "cell_type": "code",
      "metadata": {
        "id": "HMi8dI1gLoIc",
        "colab": {
          "base_uri": "https://localhost:8080/"
        },
        "outputId": "1d81a6f6-5555-40f3-e6ad-69eb792edbc2"
      },
      "source": [
        "%mkdir /content/batch/trainer\n",
        "%mkdir /content/batch/trainer/data"
      ],
      "execution_count": null,
      "outputs": [
        {
          "output_type": "stream",
          "name": "stdout",
          "text": [
            "mkdir: cannot create directory ‘/content/batch/trainer’: File exists\n",
            "mkdir: cannot create directory ‘/content/batch/trainer/data’: File exists\n"
          ]
        }
      ]
    },
    {
      "cell_type": "code",
      "metadata": {
        "id": "3dJyMXTuNPwo",
        "colab": {
          "base_uri": "https://localhost:8080/"
        },
        "outputId": "8d80b901-7867-4262-b2c4-b845a139ef06"
      },
      "source": [
        "%%writefile trainer/__init__.py\n",
        "\n",
        "version = \"0.1.0\""
      ],
      "execution_count": null,
      "outputs": [
        {
          "output_type": "stream",
          "name": "stdout",
          "text": [
            "Overwriting trainer/__init__.py\n"
          ]
        }
      ]
    },
    {
      "cell_type": "code",
      "metadata": {
        "id": "mUu6gKaTL_S2",
        "colab": {
          "base_uri": "https://localhost:8080/"
        },
        "outputId": "0fd9615f-792e-4bc2-dfcf-4fdbda052c7e"
      },
      "source": [
        "%%writefile trainer/task.py\n",
        "\n",
        "from __future__ import absolute_import\n",
        "\n",
        "import argparse\n",
        "import multiprocessing as mp\n",
        "import logging\n",
        "import tempfile\n",
        "import os\n",
        "\n",
        "import pickle\n",
        "import gensim\n",
        "import pandas as pd\n",
        "import numpy as np\n",
        "import tensorflow as tf\n",
        "import json\n",
        "\n",
        "from tensorflow.keras.preprocessing.text import Tokenizer\n",
        "from tensorflow.keras.preprocessing.sequence import pad_sequences\n",
        "from tensorflow.keras.models import Sequential\n",
        "from tensorflow.keras.layers import (\n",
        "    Dense,\n",
        "    Dropout,\n",
        "    Embedding,\n",
        "    LSTM,\n",
        ")\n",
        "from tensorflow.keras.callbacks import ReduceLROnPlateau, EarlyStopping\n",
        "from sklearn.preprocessing import LabelEncoder\n",
        "\n",
        "\n",
        "# WORD2VEC\n",
        "W2V_SIZE = 300\n",
        "W2V_WINDOW = 7\n",
        "# 32\n",
        "W2V_EPOCH = 5\n",
        "W2V_MIN_COUNT = 10\n",
        "\n",
        "# KERAS\n",
        "SEQUENCE_LENGTH = 300\n",
        "\n",
        "#Trolls\n",
        "POSITIVE = \"TROLL\"\n",
        "NEGATIVE = \"NO_TROLL\"\n",
        "#TROLL_THRESHOLDS = 0.5\n",
        "\n",
        "# SENTIMENT\n",
        "#POSITIVE = \"POSITIVE\"\n",
        "#NEGATIVE = \"NEGATIVE\"\n",
        "#NEUTRAL = \"NEUTRAL\"\n",
        "#SENTIMENT_THRESHOLDS = (0.4, 0.7)\n",
        "\n",
        "\n",
        "# EXPORT\n",
        "KERAS_MODEL = \"model.h5\"\n",
        "WORD2VEC_MODEL = \"model.w2v\"\n",
        "TOKENIZER_MODEL = \"tokenizer.pkl\"\n",
        "ENCODER_MODEL = \"encoder.pkl\"\n",
        "\n",
        "\n",
        "def generate_word2vec(train_df):\n",
        "    documents = [_text.split() for _text in train_df.text.values]\n",
        "    w2v_model = gensim.models.word2vec.Word2Vec(\n",
        "        size=W2V_SIZE,\n",
        "        window=W2V_WINDOW,\n",
        "        min_count=W2V_MIN_COUNT,\n",
        "        workers=mp.cpu_count(),\n",
        "    )\n",
        "    w2v_model.build_vocab(documents)\n",
        "\n",
        "    words = w2v_model.wv.vocab.keys()\n",
        "    vocab_size = len(words)\n",
        "    logging.info(f\"Vocab size: {vocab_size}\")\n",
        "    w2v_model.train(documents, total_examples=len(documents), epochs=W2V_EPOCH)\n",
        "\n",
        "    return w2v_model\n",
        "\n",
        "\n",
        "def generate_tokenizer(train_df):\n",
        "    tokenizer = Tokenizer()\n",
        "    tokenizer.fit_on_texts(train_df.text)\n",
        "    vocab_size = len(tokenizer.word_index) + 1\n",
        "    logging.info(f\"Total words: {vocab_size}\")\n",
        "    return tokenizer, vocab_size\n",
        "\n",
        "\n",
        "def generate_label_encoder(train_df):\n",
        "    encoder = LabelEncoder()\n",
        "    encoder.fit(train_df.sentiment.tolist())\n",
        "    return encoder\n",
        "\n",
        "\n",
        "def generate_embedding(word2vec_model, vocab_size, tokenizer):\n",
        "    embedding_matrix = np.zeros((vocab_size, W2V_SIZE))\n",
        "    for word, i in tokenizer.word_index.items():\n",
        "        if word in word2vec_model.wv:\n",
        "            embedding_matrix[i] = word2vec_model.wv[word]\n",
        "    return Embedding(\n",
        "        vocab_size,\n",
        "        W2V_SIZE,\n",
        "        weights=[embedding_matrix],\n",
        "        input_length=SEQUENCE_LENGTH,\n",
        "        trainable=False,\n",
        "    )\n",
        "\n",
        "\n",
        "def train_and_evaluate(\n",
        "    work_dir, train_df, eval_df, batch_size=1024, epochs=8, steps=1000\n",
        "):\n",
        "\n",
        "    \"\"\"\n",
        "    Trains and evaluates the estimator given.\n",
        "    The input functions are generated by the preprocessing function.\n",
        "    \"\"\"\n",
        "\n",
        "    model_dir = os.path.join(work_dir, \"model\")\n",
        "    if tf.io.gfile.exists(model_dir):\n",
        "        tf.io.gfile.rmtree(model_dir)\n",
        "    tf.io.gfile.mkdir(model_dir)\n",
        "\n",
        "    # Specify where to store our model\n",
        "    run_config = tf.estimator.RunConfig()\n",
        "    run_config = run_config.replace(model_dir=model_dir)\n",
        "\n",
        "    # This will give us a more granular visualization of the training\n",
        "    run_config = run_config.replace(save_summary_steps=10)\n",
        "\n",
        "    # Create Word2vec of training data\n",
        "    logging.info(\"---- Generating word2vec model ----\")\n",
        "    word2vec_model = generate_word2vec(train_df)\n",
        "\n",
        "    # Tokenize training data\n",
        "    logging.info(\"---- Generating tokenizer ----\")\n",
        "    tokenizer, vocab_size = generate_tokenizer(train_df)\n",
        "\n",
        "    logging.info(\"---- Tokenizing train data ----\")\n",
        "    x_train = pad_sequences(\n",
        "        tokenizer.texts_to_sequences(train_df.text), maxlen=SEQUENCE_LENGTH\n",
        "    )\n",
        "    logging.info(\"---- Tokenizing eval data ----\")\n",
        "    x_eval = pad_sequences(\n",
        "        tokenizer.texts_to_sequences(eval_df.text), maxlen=SEQUENCE_LENGTH\n",
        "    )\n",
        "\n",
        "    # Label Encoder\n",
        "    logging.info(\"---- Generating label encoder ----\")\n",
        "    label_encoder = generate_label_encoder(train_df)\n",
        "\n",
        "    logging.info(\"---- Encoding train target ----\")\n",
        "    y_train = label_encoder.transform(train_df.sentiment.tolist())\n",
        "    logging.info(\"---- Encoding eval target ----\")\n",
        "    y_eval = label_encoder.transform(eval_df.sentiment.tolist())\n",
        "\n",
        "    y_train = y_train.reshape(-1, 1)\n",
        "    y_eval = y_eval.reshape(-1, 1)\n",
        "\n",
        "    # Create Embedding Layer\n",
        "    logging.info(\"---- Generating embedding layer ----\")\n",
        "    embedding_layer = generate_embedding(word2vec_model, vocab_size, tokenizer)\n",
        "\n",
        "    logging.info(\"---- Generating Sequential model ----\")\n",
        "    model = Sequential()\n",
        "    model.add(embedding_layer)\n",
        "    model.add(Dropout(0.5))\n",
        "    model.add(LSTM(100, dropout=0.2, recurrent_dropout=0.2))\n",
        "    model.add(Dense(1, activation=\"sigmoid\"))\n",
        "\n",
        "    model.summary()\n",
        "\n",
        "    logging.info(\"---- Adding loss function to model ----\")\n",
        "    model.compile(loss=\"binary_crossentropy\", optimizer=\"adam\", metrics=[\"accuracy\"])\n",
        "\n",
        "    logging.info(\"---- Adding callbacks to model ----\")\n",
        "    callbacks = [\n",
        "        ReduceLROnPlateau(monitor=\"val_loss\", patience=5, cooldown=0),\n",
        "        EarlyStopping(monitor=\"val_accuracy\", min_delta=1e-4, patience=5),\n",
        "    ]\n",
        "\n",
        "    logging.info(\"---- Training model ----\")\n",
        "    model.fit(\n",
        "        x_train,\n",
        "        y_train,\n",
        "        batch_size=batch_size,\n",
        "        steps_per_epoch=steps,\n",
        "        epochs=epochs,\n",
        "        validation_split=0.1,\n",
        "        verbose=1,\n",
        "        callbacks=callbacks,\n",
        "    )\n",
        "\n",
        "    logging.info(\"---- Evaluating model ----\")\n",
        "    score = model.evaluate(x_eval, y_eval, batch_size=batch_size)\n",
        "    logging.info(f\"ACCURACY: {score[1]}\")\n",
        "    logging.info(f\"LOSS: {score[0]}\")\n",
        "\n",
        "    logging.info(\"---- Saving models ----\")\n",
        "    pickle.dump(\n",
        "        tokenizer,\n",
        "        tf.io.gfile.GFile(os.path.join(model_dir, TOKENIZER_MODEL), mode=\"wb\"),\n",
        "        protocol=0,\n",
        "    )\n",
        "    with tempfile.NamedTemporaryFile(suffix=\".h5\") as local_file:\n",
        "        with tf.io.gfile.GFile(\n",
        "            os.path.join(model_dir, KERAS_MODEL), mode=\"wb\"\n",
        "        ) as gcs_file:\n",
        "            model.save(local_file.name)\n",
        "            gcs_file.write(local_file.read())\n",
        "\n",
        "    # word2vec_model.save(os.path.join(model_dir, WORD2VEC_MODEL))\n",
        "\n",
        "    # pickle.dump(\n",
        "    #     label_encoder, open(os.path.join(model_dir, ENCODER_MODEL), \"wb\"), protocol=0\n",
        "    # )\n",
        "\n",
        "\n",
        "if __name__ == \"__main__\":\n",
        "\n",
        "    \"\"\"Main function called by AI Platform.\"\"\"\n",
        "\n",
        "    logging.getLogger().setLevel(logging.INFO)\n",
        "\n",
        "    parser = argparse.ArgumentParser(\n",
        "        formatter_class=argparse.ArgumentDefaultsHelpFormatter\n",
        "    )\n",
        "\n",
        "    parser.add_argument(\n",
        "        \"--job-dir\",\n",
        "        help=\"Directory for staging trainer files. \"\n",
        "        \"This can be a Google Cloud Storage path.\",\n",
        "    )\n",
        "\n",
        "    parser.add_argument(\n",
        "        \"--work-dir\",\n",
        "        required=True,\n",
        "        help=\"Directory for staging and working files. \"\n",
        "        \"This can be a Google Cloud Storage path.\",\n",
        "    )\n",
        "\n",
        "    parser.add_argument(\n",
        "        \"--batch-size\",\n",
        "        type=int,\n",
        "        default=1024,\n",
        "        help=\"Batch size for training and evaluation.\",\n",
        "    )\n",
        "\n",
        "    parser.add_argument(\n",
        "        \"--epochs\", type=int, default=8, help=\"Number of epochs to train the model\",\n",
        "    )\n",
        "\n",
        "    parser.add_argument(\n",
        "        \"--steps\",\n",
        "        type=int,\n",
        "        default=1000,\n",
        "        help=\"Number of steps per epoch to train the model\",\n",
        "    )\n",
        "\n",
        "    args = parser.parse_args()\n",
        "\n",
        "    train_data_files = tf.io.gfile.glob(\n",
        "        os.path.join(args.work_dir, \"transformed_data/train/part-*\")\n",
        "    )\n",
        "    eval_data_files = tf.io.gfile.glob(\n",
        "        os.path.join(args.work_dir, \"transformed_data/eval/part-*\")\n",
        "    )\n",
        "\n",
        "    train_df = pd.concat(\n",
        "        [\n",
        "            pd.read_csv(\n",
        "                f,\n",
        "                names=[\"text\", \"sentiment\"],\n",
        "                dtype={\"text\": \"str\", \"sentiment\": \"str\"},\n",
        "            )\n",
        "            for f in train_data_files\n",
        "        ]\n",
        "    ).dropna()\n",
        "\n",
        "    eval_df = pd.concat(\n",
        "        [\n",
        "            pd.read_csv(\n",
        "                f,\n",
        "                names=[\"text\", \"sentiment\"],\n",
        "                dtype={\"text\": \"str\", \"sentiment\": \"str\"},\n",
        "            )\n",
        "            for f in eval_data_files\n",
        "        ]\n",
        "    ).dropna()\n",
        "\n",
        "    train_and_evaluate(\n",
        "        args.work_dir,\n",
        "        train_df=train_df,\n",
        "        eval_df=eval_df,\n",
        "        batch_size=args.batch_size,\n",
        "        epochs=args.epochs,\n",
        "        steps=args.steps,\n",
        "    )"
      ],
      "execution_count": null,
      "outputs": [
        {
          "output_type": "stream",
          "name": "stdout",
          "text": [
            "Overwriting trainer/task.py\n"
          ]
        }
      ]
    },
    {
      "cell_type": "markdown",
      "metadata": {
        "id": "8axPHdHX6d9W"
      },
      "source": [
        "### Validación Train en local\n",
        "\n",
        "Con el comando mostrado a continuación se valida el correcto entrenamiento del modelo usando los datos preprocesados del apartado anterior."
      ]
    },
    {
      "cell_type": "code",
      "metadata": {
        "id": "m9997ZzsLmq-",
        "colab": {
          "base_uri": "https://localhost:8080/"
        },
        "outputId": "209d6d00-b1cd-4c6f-bbf8-8bdf019702f1"
      },
      "source": [
        "# Explicitly tell `gcloud ai-platform local train` to use Python 3 \n",
        "! gcloud config set ml_engine/local_python $(which python3)\n",
        "\n",
        "# This is similar to `python -m trainer.task --job-dir local-training-output`\n",
        "# but it better replicates the AI Platform environment, especially for\n",
        "# distributed training (not applicable here).\n",
        "! gcloud ai-platform local train \\\n",
        "  --package-path trainer \\\n",
        "  --module-name trainer.task \\\n",
        "  -- \\\n",
        "  --work-dir $WORK_DIR \\\n",
        "  --epochs 1"
      ],
      "execution_count": null,
      "outputs": [
        {
          "output_type": "stream",
          "name": "stdout",
          "text": [
            "Updated property [ml_engine/local_python].\n",
            "Traceback (most recent call last):\n",
            "  File \"/usr/lib/python3.7/runpy.py\", line 193, in _run_module_as_main\n",
            "    \"__main__\", mod_spec)\n",
            "  File \"/usr/lib/python3.7/runpy.py\", line 85, in _run_code\n",
            "    exec(code, run_globals)\n",
            "  File \"/content/batch/trainer/task.py\", line 11, in <module>\n",
            "    import gensim\n",
            "  File \"/usr/local/lib/python3.7/dist-packages/gensim/__init__.py\", line 5, in <module>\n",
            "    from gensim import parsing, corpora, matutils, interfaces, models, similarities, summarization, utils  # noqa:F401\n",
            "  File \"/usr/local/lib/python3.7/dist-packages/gensim/corpora/__init__.py\", line 6, in <module>\n",
            "    from .indexedcorpus import IndexedCorpus  # noqa:F401 must appear before the other classes\n",
            "  File \"/usr/local/lib/python3.7/dist-packages/gensim/corpora/indexedcorpus.py\", line 15, in <module>\n",
            "    from gensim import interfaces, utils\n",
            "  File \"/usr/local/lib/python3.7/dist-packages/gensim/interfaces.py\", line 21, in <module>\n",
            "    from gensim import utils, matutils\n",
            "  File \"/usr/local/lib/python3.7/dist-packages/gensim/matutils.py\", line 1076, in <module>\n",
            "    from gensim._matutils import logsumexp, mean_absolute_difference, dirichlet_expectation\n",
            "  File \"__init__.pxd\", line 199, in init gensim._matutils\n",
            "ValueError: numpy.ndarray has the wrong size, try recompiling. Expected 80, got 88\n"
          ]
        }
      ]
    },
    {
      "cell_type": "markdown",
      "metadata": {
        "id": "0nhlkcjn62Zo"
      },
      "source": [
        "## Entregable 3 (0.5 puntos)\n",
        "\n",
        "Desarrollar un pipeline de inferencia utilizando Apache Beam para generar predicciones usando los modelos generados en el apartado anterior así como los de test generados en el primer entregable.\n"
      ]
    },
    {
      "cell_type": "code",
      "metadata": {
        "id": "eHBpLXB-OmjT",
        "colab": {
          "base_uri": "https://localhost:8080/"
        },
        "outputId": "47dd9f53-b0fe-420f-e9b1-07b41521da14"
      },
      "source": [
        "%%writefile predict.py\n",
        "\n",
        "from __future__ import absolute_import\n",
        "from __future__ import print_function\n",
        "\n",
        "import argparse\n",
        "import tempfile\n",
        "import json\n",
        "import os\n",
        "import sys\n",
        "import time\n",
        "\n",
        "import apache_beam as beam\n",
        "from apache_beam.io import ReadFromText\n",
        "from apache_beam.io import WriteToText\n",
        "from apache_beam.options.pipeline_options import GoogleCloudOptions\n",
        "from apache_beam.options.pipeline_options import PipelineOptions\n",
        "from apache_beam.options.pipeline_options import SetupOptions\n",
        "from apache_beam.coders.coders import Coder\n",
        "\n",
        "import pickle\n",
        "import tensorflow as tf\n",
        "from tensorflow.keras.preprocessing.sequence import pad_sequences\n",
        "\n",
        "# KERAS\n",
        "SEQUENCE_LENGTH = 300\n",
        "\n",
        "# SENTIMENT\n",
        "POSITIVE = \"TROLL\"\n",
        "NEGATIVE = \"NO_TROLL\"\n",
        "# NEUTRAL = \"NEUTRAL\"\n",
        "# SENTIMENT_THRESHOLDS = (0.4, 0.7)\n",
        "\n",
        "# EXPORT\n",
        "KERAS_MODEL = \"model.h5\"\n",
        "TOKENIZER_MODEL = \"tokenizer.pkl\"\n",
        "\n",
        "\n",
        "class Predict(beam.DoFn):\n",
        "    def __init__(\n",
        "        self, model_dir,\n",
        "    ):\n",
        "        self.model_dir = model_dir\n",
        "        self.model = None\n",
        "        self.tokenizer = None\n",
        "\n",
        "    def setup(self):\n",
        "        keras_model_path = os.path.join(self.model_dir, KERAS_MODEL)\n",
        "        with tempfile.NamedTemporaryFile(suffix=\".h5\") as local_file:\n",
        "            with tf.io.gfile.GFile(keras_model_path, mode=\"rb\") as gcs_file:\n",
        "                local_file.write(gcs_file.read())\n",
        "                self.model = tf.keras.models.load_model(local_file.name)\n",
        "\n",
        "        tokenizer_path = os.path.join(self.model_dir, TOKENIZER_MODEL)\n",
        "        self.tokenizer = pickle.load(tf.io.gfile.GFile(tokenizer_path, mode=\"rb\"))\n",
        "\n",
        "    def decode_sentiment(self, score, include_neutral=True):\n",
        "        return NEGATIVE if score < 0.5 else POSITIVE\n",
        "\n",
        "    def process(self, element):\n",
        "        start_at = time.time()\n",
        "        # Tokenize text\n",
        "        x_test = pad_sequences(\n",
        "            self.tokenizer.texts_to_sequences([element]), maxlen=SEQUENCE_LENGTH\n",
        "        )\n",
        "        # Predict\n",
        "        score = self.model.predict([x_test])[0]\n",
        "        # Decode sentiment\n",
        "        label = self.decode_sentiment(score)\n",
        "\n",
        "        yield {\n",
        "            \"text\": element,\n",
        "            \"label\": label,\n",
        "            \"score\": float(score),\n",
        "            \"elapsed_time\": time.time() - start_at,\n",
        "        }\n",
        "\n",
        "\n",
        "class CustomCoder(Coder):\n",
        "    \"\"\"A custom coder used for reading and writing strings\"\"\"\n",
        "\n",
        "    def __init__(self, encoding: str):\n",
        "        # latin-1\n",
        "        # iso-8859-1\n",
        "        self.enconding = encoding\n",
        "\n",
        "    def encode(self, value):\n",
        "        return value.encode(self.enconding)\n",
        "\n",
        "    def decode(self, value):\n",
        "        return value.decode(self.enconding)\n",
        "\n",
        "    def is_deterministic(self):\n",
        "        return True\n",
        "\n",
        "\n",
        "def run(model_dir, source, sink, beam_options=None):\n",
        "    with beam.Pipeline(options=beam_options) as p:\n",
        "        _ = (\n",
        "            p\n",
        "            | \"Read data\" >> source\n",
        "            # | \"Preprocess\" >> beam.ParDo(PreprocessTextFn(model_dir, \"ID\"))\n",
        "            | \"Predict\" >> beam.ParDo(Predict(model_dir))\n",
        "            | \"Format as JSON\" >> beam.Map(json.dumps)\n",
        "            | \"Write predictions\" >> sink\n",
        "        )\n",
        "\n",
        "\n",
        "if __name__ == \"__main__\":\n",
        "    \"\"\"Main function\"\"\"\n",
        "    parser = argparse.ArgumentParser(\n",
        "        formatter_class=argparse.ArgumentDefaultsHelpFormatter\n",
        "    )\n",
        "\n",
        "    parser.add_argument(\n",
        "        \"--work-dir\",\n",
        "        dest=\"work_dir\",\n",
        "        required=True,\n",
        "        help=\"Directory for temporary files and preprocessed datasets to. \"\n",
        "        \"This can be a Google Cloud Storage path.\",\n",
        "    )\n",
        "\n",
        "    parser.add_argument(\n",
        "        \"--model-dir\",\n",
        "        dest=\"model_dir\",\n",
        "        required=True,\n",
        "        help=\"Path to the exported TensorFlow model. \"\n",
        "        \"This can be a Google Cloud Storage path.\",\n",
        "    )\n",
        "\n",
        "    verbs = parser.add_subparsers(dest=\"verb\")\n",
        "    batch_verb = verbs.add_parser(\"batch\", help=\"Batch prediction\")\n",
        "    batch_verb.add_argument(\n",
        "        \"--inputs-dir\",\n",
        "        dest=\"inputs_dir\",\n",
        "        required=True,\n",
        "        help=\"Input directory where CSV data files are read from. \"\n",
        "        \"This can be a Google Cloud Storage path.\",\n",
        "    )\n",
        "    batch_verb.add_argument(\n",
        "        \"--outputs-dir\",\n",
        "        dest=\"outputs_dir\",\n",
        "        required=True,\n",
        "        help=\"Directory to store prediction results. \"\n",
        "        \"This can be a Google Cloud Storage path.\",\n",
        "    )\n",
        "\n",
        "    args, pipeline_args = parser.parse_known_args()\n",
        "    print(args)\n",
        "    beam_options = PipelineOptions(pipeline_args)\n",
        "    beam_options.view_as(SetupOptions).save_main_session = True\n",
        "    # beam_options.view_as(DirectOptions).direct_num_workers = 0\n",
        "\n",
        "    project = beam_options.view_as(GoogleCloudOptions).project\n",
        "\n",
        "    if args.verb == \"batch\":\n",
        "        results_prefix = os.path.join(args.outputs_dir, \"part\")\n",
        "\n",
        "        source = ReadFromText(args.inputs_dir, coder=CustomCoder(\"latin-1\"))\n",
        "        sink = WriteToText(results_prefix)\n",
        "\n",
        "    else:\n",
        "        parser.print_usage()\n",
        "        sys.exit(1)\n",
        "\n",
        "    run(args.model_dir, source, sink, beam_options)"
      ],
      "execution_count": null,
      "outputs": [
        {
          "output_type": "stream",
          "name": "stdout",
          "text": [
            "Writing predict.py\n"
          ]
        }
      ]
    },
    {
      "cell_type": "markdown",
      "metadata": {
        "id": "MUdgcLIP7a42"
      },
      "source": [
        "Generamos un timestamp para la ejecución de las predicciones"
      ]
    },
    {
      "cell_type": "code",
      "metadata": {
        "id": "_pvKMtuQPOlr"
      },
      "source": [
        "from datetime import datetime\n",
        "\n",
        "# current date and time\n",
        "TIMESTAMP = datetime.now().strftime('%Y-%m-%d_%H-%M-%S')"
      ],
      "execution_count": null,
      "outputs": []
    },
    {
      "cell_type": "markdown",
      "metadata": {
        "id": "RkLMdMup70ne"
      },
      "source": [
        "### Validación Predict en local\n",
        "\n",
        "Con el comando mostrado a continuación se valida la correcta inferencia usando los modelos anteriores y los datos de test generados anteriormente."
      ]
    },
    {
      "cell_type": "code",
      "metadata": {
        "id": "iUJN0XCLPR_X",
        "colab": {
          "base_uri": "https://localhost:8080/"
        },
        "outputId": "1d2fde5d-c184-4b63-f843-cb5e21acd94e"
      },
      "source": [
        "! python3 predict.py \\\n",
        "  --work-dir $WORK_DIR \\\n",
        "  --model-dir $WORK_DIR/model \\\n",
        "  batch \\\n",
        "  --inputs-dir $WORK_DIR/transformed_data/test/part* \\\n",
        "  --outputs-dir $WORK_DIR/predictions/$TIMESTAMP"
      ],
      "execution_count": null,
      "outputs": [
        {
          "output_type": "stream",
          "name": "stdout",
          "text": [
            "2022-07-10 17:41:18.300393: W tensorflow/stream_executor/platform/default/dso_loader.cc:55] Could not load dynamic library 'libnvinfer.so.6'; dlerror: libnvinfer.so.6: cannot open shared object file: No such file or directory; LD_LIBRARY_PATH: /usr/local/nvidia/lib:/usr/local/nvidia/lib64\n",
            "2022-07-10 17:41:18.300532: W tensorflow/stream_executor/platform/default/dso_loader.cc:55] Could not load dynamic library 'libnvinfer_plugin.so.6'; dlerror: libnvinfer_plugin.so.6: cannot open shared object file: No such file or directory; LD_LIBRARY_PATH: /usr/local/nvidia/lib:/usr/local/nvidia/lib64\n",
            "2022-07-10 17:41:18.300570: W tensorflow/compiler/tf2tensorrt/utils/py_utils.cc:30] Cannot dlopen some TensorRT libraries. If you would like to use Nvidia GPU with TensorRT, please make sure the missing libraries mentioned above are installed properly.\n",
            "Namespace(inputs_dir='/content/batch/transformed_data/test/part-00000-of-00002', model_dir='/content/batch/model', outputs_dir='/content/batch/predictions/2022-07-10_17-41-14', verb='batch', work_dir='/content/batch')\n",
            "Traceback (most recent call last):\n",
            "  File \"/usr/local/lib/python3.7/dist-packages/apache_beam/runners/worker/sdk_worker.py\", line 379, in get\n",
            "    processor = self.cached_bundle_processors[bundle_descriptor_id].pop()\n",
            "IndexError: pop from empty list\n",
            "\n",
            "During handling of the above exception, another exception occurred:\n",
            "\n",
            "Traceback (most recent call last):\n",
            "  File \"apache_beam/runners/common.py\", line 1253, in apache_beam.runners.common.DoFnRunner._invoke_lifecycle_method\n",
            "  File \"apache_beam/runners/common.py\", line 504, in apache_beam.runners.common.DoFnInvoker.invoke_setup\n",
            "  File \"predict.py\", line 50, in setup\n",
            "    local_file.write(gcs_file.read())\n",
            "  File \"/usr/local/lib/python3.7/dist-packages/tensorflow_core/python/lib/io/file_io.py\", line 122, in read\n",
            "    self._preread_check()\n",
            "  File \"/usr/local/lib/python3.7/dist-packages/tensorflow_core/python/lib/io/file_io.py\", line 84, in _preread_check\n",
            "    compat.as_bytes(self.__name), 1024 * 512)\n",
            "tensorflow.python.framework.errors_impl.NotFoundError: /content/batch/model/model.h5; No such file or directory\n",
            "\n",
            "During handling of the above exception, another exception occurred:\n",
            "\n",
            "Traceback (most recent call last):\n",
            "  File \"predict.py\", line 165, in <module>\n",
            "    run(args.model_dir, source, sink, beam_options)\n",
            "  File \"predict.py\", line 104, in run\n",
            "    | \"Write predictions\" >> sink\n",
            "  File \"/usr/local/lib/python3.7/dist-packages/apache_beam/pipeline.py\", line 555, in __exit__\n",
            "    self.result = self.run()\n",
            "  File \"/usr/local/lib/python3.7/dist-packages/apache_beam/pipeline.py\", line 534, in run\n",
            "    return self.runner.run_pipeline(self, self._options)\n",
            "  File \"/usr/local/lib/python3.7/dist-packages/apache_beam/runners/direct/direct_runner.py\", line 119, in run_pipeline\n",
            "    return runner.run_pipeline(pipeline, options)\n",
            "  File \"/usr/local/lib/python3.7/dist-packages/apache_beam/runners/portability/fn_api_runner/fn_runner.py\", line 176, in run_pipeline\n",
            "    pipeline.to_runner_api(default_environment=self._default_environment))\n",
            "  File \"/usr/local/lib/python3.7/dist-packages/apache_beam/runners/portability/fn_api_runner/fn_runner.py\", line 186, in run_via_runner_api\n",
            "    return self.run_stages(stage_context, stages)\n",
            "  File \"/usr/local/lib/python3.7/dist-packages/apache_beam/runners/portability/fn_api_runner/fn_runner.py\", line 344, in run_stages\n",
            "    bundle_context_manager,\n",
            "  File \"/usr/local/lib/python3.7/dist-packages/apache_beam/runners/portability/fn_api_runner/fn_runner.py\", line 523, in _run_stage\n",
            "    bundle_manager)\n",
            "  File \"/usr/local/lib/python3.7/dist-packages/apache_beam/runners/portability/fn_api_runner/fn_runner.py\", line 561, in _run_bundle\n",
            "    data_input, data_output, input_timers, expected_timer_output)\n",
            "  File \"/usr/local/lib/python3.7/dist-packages/apache_beam/runners/portability/fn_api_runner/fn_runner.py\", line 945, in process_bundle\n",
            "    timer_inputs)):\n",
            "  File \"/usr/lib/python3.7/concurrent/futures/_base.py\", line 598, in result_iterator\n",
            "    yield fs.pop().result()\n",
            "  File \"/usr/lib/python3.7/concurrent/futures/_base.py\", line 435, in result\n",
            "    return self.__get_result()\n",
            "  File \"/usr/lib/python3.7/concurrent/futures/_base.py\", line 384, in __get_result\n",
            "    raise self._exception\n",
            "  File \"/usr/local/lib/python3.7/dist-packages/apache_beam/utils/thread_pool_executor.py\", line 44, in run\n",
            "    self._future.set_result(self._fn(*self._fn_args, **self._fn_kwargs))\n",
            "  File \"/usr/local/lib/python3.7/dist-packages/apache_beam/runners/portability/fn_api_runner/fn_runner.py\", line 941, in execute\n",
            "    dry_run)\n",
            "  File \"/usr/local/lib/python3.7/dist-packages/apache_beam/runners/portability/fn_api_runner/fn_runner.py\", line 841, in process_bundle\n",
            "    result_future = self._worker_handler.control_conn.push(process_bundle_req)\n",
            "  File \"/usr/local/lib/python3.7/dist-packages/apache_beam/runners/portability/fn_api_runner/worker_handlers.py\", line 353, in push\n",
            "    response = self.worker.do_instruction(request)\n",
            "  File \"/usr/local/lib/python3.7/dist-packages/apache_beam/runners/worker/sdk_worker.py\", line 483, in do_instruction\n",
            "    getattr(request, request_type), request.instruction_id)\n",
            "  File \"/usr/local/lib/python3.7/dist-packages/apache_beam/runners/worker/sdk_worker.py\", line 512, in process_bundle\n",
            "    instruction_id, request.process_bundle_descriptor_id)\n",
            "  File \"/usr/local/lib/python3.7/dist-packages/apache_beam/runners/worker/sdk_worker.py\", line 385, in get\n",
            "    self.data_channel_factory)\n",
            "  File \"/usr/local/lib/python3.7/dist-packages/apache_beam/runners/worker/bundle_processor.py\", line 854, in __init__\n",
            "    op.setup()\n",
            "  File \"apache_beam/runners/worker/operations.py\", line 611, in apache_beam.runners.worker.operations.DoOperation.setup\n",
            "  File \"apache_beam/runners/worker/operations.py\", line 660, in apache_beam.runners.worker.operations.DoOperation.setup\n",
            "  File \"apache_beam/runners/common.py\", line 1259, in apache_beam.runners.common.DoFnRunner.setup\n",
            "  File \"apache_beam/runners/common.py\", line 1255, in apache_beam.runners.common.DoFnRunner._invoke_lifecycle_method\n",
            "  File \"apache_beam/runners/common.py\", line 1294, in apache_beam.runners.common.DoFnRunner._reraise_augmented\n",
            "  File \"/usr/local/lib/python3.7/dist-packages/future/utils/__init__.py\", line 446, in raise_with_traceback\n",
            "    raise exc.with_traceback(traceback)\n",
            "  File \"apache_beam/runners/common.py\", line 1253, in apache_beam.runners.common.DoFnRunner._invoke_lifecycle_method\n",
            "  File \"apache_beam/runners/common.py\", line 504, in apache_beam.runners.common.DoFnInvoker.invoke_setup\n",
            "  File \"predict.py\", line 50, in setup\n",
            "    local_file.write(gcs_file.read())\n",
            "  File \"/usr/local/lib/python3.7/dist-packages/tensorflow_core/python/lib/io/file_io.py\", line 122, in read\n",
            "    self._preread_check()\n",
            "  File \"/usr/local/lib/python3.7/dist-packages/tensorflow_core/python/lib/io/file_io.py\", line 84, in _preread_check\n",
            "    compat.as_bytes(self.__name), 1024 * 512)\n",
            "RuntimeError: tensorflow.python.framework.errors_impl.NotFoundError: /content/batch/model/model.h5; No such file or directory [while running 'Predict']\n"
          ]
        }
      ]
    },
    {
      "cell_type": "markdown",
      "metadata": {
        "id": "Um68jx_F8mjF"
      },
      "source": [
        "##Entregable 4 (1.25 puntos)\n",
        "\n",
        "En este entregable se validará el funcionamiento del código en un proyecto de GCP sobre DataFlow y AI Platform"
      ]
    },
    {
      "cell_type": "markdown",
      "metadata": {
        "id": "_JHC9dCT83FH"
      },
      "source": [
        "Establecemos el bucket y region de GCP sobre el que trabajaremos:"
      ]
    },
    {
      "cell_type": "code",
      "metadata": {
        "id": "cgUpX__KQvt-"
      },
      "source": [
        "GCP_WORK_DIR = 'gs://bucket-clase-implementacion'\n",
        "GCP_REGION = 'europe-west1'"
      ],
      "execution_count": null,
      "outputs": []
    },
    {
      "cell_type": "markdown",
      "metadata": {
        "id": "_A66WAfm9DmU"
      },
      "source": [
        "### Validación preprocess train en Dataflow (0.25 puntos)\n",
        "\n",
        "Con el comando mostrado a continuación se valida la correcta generación de los datos de entrenamiento y validación en GCP con el servicio DataFlow."
      ]
    },
    {
      "cell_type": "code",
      "metadata": {
        "id": "EJYVuWyJP1Ya",
        "colab": {
          "base_uri": "https://localhost:8080/"
        },
        "outputId": "d231c806-fe51-466f-d4cd-ae353514fea8"
      },
      "source": [
        "! python3 preprocess.py \\\n",
        "  --project $PROJECT_ID \\\n",
        "  --region $GCP_REGION \\\n",
        "  --runner DataflowRunner \\\n",
        "  --temp_location $GCP_WORK_DIR/beam-temp \\\n",
        "  --setup_file ./setup.py \\\n",
        "  --work-dir $GCP_WORK_DIR \\\n",
        "  --input $GCP_WORK_DIR/data.json \\\n",
        "  --output $GCP_WORK_DIR/transformed_data \\\n",
        "  --mode train"
      ],
      "execution_count": null,
      "outputs": [
        {
          "output_type": "stream",
          "name": "stdout",
          "text": [
            "[nltk_data] Downloading package stopwords to /root/nltk_data...\n",
            "[nltk_data]   Package stopwords is already up-to-date!\n",
            "INFO:apache_beam.internal.gcp.auth:Setting socket default timeout to 60 seconds.\n",
            "INFO:apache_beam.internal.gcp.auth:socket default timeout is 60.0 seconds.\n",
            "INFO:oauth2client.transport:Attempting refresh to obtain initial access_token\n",
            "INFO:apache_beam.runners.portability.stager:Executing command: ['/usr/bin/python3', 'setup.py', 'sdist', '--dist-dir', '/tmp/tmpfffb9gkm']\n",
            "warning: sdist: standard file not found: should have one of README, README.rst, README.txt, README.md\n",
            "\n",
            "warning: check: missing required meta-data: url\n",
            "\n",
            "warning: check: missing meta-data: either (author and author_email) or (maintainer and maintainer_email) must be supplied\n",
            "\n",
            "INFO:apache_beam.runners.portability.stager:Downloading source distribution of the SDK from PyPi\n",
            "INFO:apache_beam.runners.portability.stager:Executing command: ['/usr/bin/python3', '-m', 'pip', 'download', '--dest', '/tmp/tmpfffb9gkm', 'apache-beam==2.24.0', '--no-deps', '--no-binary', ':all:']\n",
            "INFO:apache_beam.runners.portability.stager:Staging SDK sources from PyPI: dataflow_python_sdk.tar\n",
            "INFO:apache_beam.runners.portability.stager:Downloading binary distribution of the SDK from PyPi\n",
            "INFO:apache_beam.runners.portability.stager:Executing command: ['/usr/bin/python3', '-m', 'pip', 'download', '--dest', '/tmp/tmpfffb9gkm', 'apache-beam==2.24.0', '--no-deps', '--only-binary', ':all:', '--python-version', '37', '--implementation', 'cp', '--abi', 'cp37m', '--platform', 'manylinux1_x86_64']\n",
            "INFO:apache_beam.runners.portability.stager:Staging binary distribution of the SDK from PyPI: apache_beam-2.24.0-cp37-cp37m-manylinux1_x86_64.whl\n",
            "WARNING:root:Make sure that locally built Python SDK docker image has Python 3.7 interpreter.\n",
            "INFO:root:Using Python SDK docker image: apache/beam_python3.7_sdk:2.24.0. If the image is not available at local, we will try to pull from hub.docker.com\n",
            "INFO:apache_beam.runners.dataflow.internal.apiclient:Defaulting to the temp_location as staging_location: gs://bucket-clase-implementacion/beam-temp\n",
            "INFO:apache_beam.runners.dataflow.internal.apiclient:Starting GCS upload to gs://bucket-clase-implementacion/beam-temp/beamapp-root-0709212035-214675.1657401635.214971/pipeline.pb...\n",
            "INFO:apache_beam.runners.dataflow.internal.apiclient:Completed GCS upload to gs://bucket-clase-implementacion/beam-temp/beamapp-root-0709212035-214675.1657401635.214971/pipeline.pb in 2 seconds.\n",
            "INFO:apache_beam.runners.dataflow.internal.apiclient:Starting GCS upload to gs://bucket-clase-implementacion/beam-temp/beamapp-root-0709212035-214675.1657401635.214971/workflow.tar.gz...\n",
            "INFO:apache_beam.runners.dataflow.internal.apiclient:Completed GCS upload to gs://bucket-clase-implementacion/beam-temp/beamapp-root-0709212035-214675.1657401635.214971/workflow.tar.gz in 0 seconds.\n",
            "INFO:apache_beam.runners.dataflow.internal.apiclient:Starting GCS upload to gs://bucket-clase-implementacion/beam-temp/beamapp-root-0709212035-214675.1657401635.214971/pickled_main_session...\n",
            "INFO:apache_beam.runners.dataflow.internal.apiclient:Completed GCS upload to gs://bucket-clase-implementacion/beam-temp/beamapp-root-0709212035-214675.1657401635.214971/pickled_main_session in 1 seconds.\n",
            "INFO:apache_beam.runners.dataflow.internal.apiclient:Starting GCS upload to gs://bucket-clase-implementacion/beam-temp/beamapp-root-0709212035-214675.1657401635.214971/dataflow_python_sdk.tar...\n",
            "INFO:apache_beam.runners.dataflow.internal.apiclient:Completed GCS upload to gs://bucket-clase-implementacion/beam-temp/beamapp-root-0709212035-214675.1657401635.214971/dataflow_python_sdk.tar in 4 seconds.\n",
            "INFO:apache_beam.runners.dataflow.internal.apiclient:Starting GCS upload to gs://bucket-clase-implementacion/beam-temp/beamapp-root-0709212035-214675.1657401635.214971/apache_beam-2.24.0-cp37-cp37m-manylinux1_x86_64.whl...\n",
            "INFO:apache_beam.runners.dataflow.internal.apiclient:Completed GCS upload to gs://bucket-clase-implementacion/beam-temp/beamapp-root-0709212035-214675.1657401635.214971/apache_beam-2.24.0-cp37-cp37m-manylinux1_x86_64.whl in 27 seconds.\n",
            "INFO:apache_beam.runners.dataflow.internal.apiclient:Create job: <Job\n",
            " createTime: '2022-07-09T21:21:19.081918Z'\n",
            " currentStateTime: '1970-01-01T00:00:00Z'\n",
            " id: '2022-07-09_14_21_18-14327765826810641226'\n",
            " location: 'europe-west1'\n",
            " name: 'beamapp-root-0709212035-214675'\n",
            " projectId: 'clase-implementacion'\n",
            " stageStates: []\n",
            " startTime: '2022-07-09T21:21:19.081918Z'\n",
            " steps: []\n",
            " tempFiles: []\n",
            " type: TypeValueValuesEnum(JOB_TYPE_BATCH, 1)>\n",
            "INFO:apache_beam.runners.dataflow.internal.apiclient:Created job with id: [2022-07-09_14_21_18-14327765826810641226]\n",
            "INFO:apache_beam.runners.dataflow.internal.apiclient:Submitted job: 2022-07-09_14_21_18-14327765826810641226\n",
            "INFO:apache_beam.runners.dataflow.internal.apiclient:To access the Dataflow monitoring console, please navigate to https://console.cloud.google.com/dataflow/jobs/europe-west1/2022-07-09_14_21_18-14327765826810641226?project=clase-implementacion\n",
            "INFO:apache_beam.runners.dataflow.dataflow_runner:Job 2022-07-09_14_21_18-14327765826810641226 is in state JOB_STATE_PENDING\n",
            "INFO:apache_beam.runners.dataflow.dataflow_runner:2022-07-09T21:21:19.650Z: JOB_MESSAGE_DETAILED: Autoscaling is enabled for job 2022-07-09_14_21_18-14327765826810641226. The number of workers will be between 1 and 1000.\n",
            "INFO:apache_beam.runners.dataflow.dataflow_runner:2022-07-09T21:21:19.790Z: JOB_MESSAGE_DETAILED: Autoscaling was automatically enabled for job 2022-07-09_14_21_18-14327765826810641226.\n",
            "INFO:apache_beam.runners.dataflow.dataflow_runner:2022-07-09T21:21:21.702Z: JOB_MESSAGE_BASIC: Worker configuration: n1-standard-1 in europe-west1-d.\n",
            "INFO:apache_beam.runners.dataflow.dataflow_runner:2022-07-09T21:21:22.658Z: JOB_MESSAGE_DETAILED: Expanding CoGroupByKey operations into optimizable parts.\n",
            "INFO:apache_beam.runners.dataflow.dataflow_runner:2022-07-09T21:21:22.691Z: JOB_MESSAGE_DEBUG: Combiner lifting skipped for step EvalWriteToCSV/Write/WriteImpl/GroupByKey: GroupByKey not followed by a combiner.\n",
            "INFO:apache_beam.runners.dataflow.dataflow_runner:2022-07-09T21:21:22.735Z: JOB_MESSAGE_DEBUG: Combiner lifting skipped for step TrainWriteToCSV/Write/WriteImpl/GroupByKey: GroupByKey not followed by a combiner.\n",
            "INFO:apache_beam.runners.dataflow.dataflow_runner:2022-07-09T21:21:22.765Z: JOB_MESSAGE_DETAILED: Expanding GroupByKey operations into optimizable parts.\n",
            "INFO:apache_beam.runners.dataflow.dataflow_runner:2022-07-09T21:21:22.793Z: JOB_MESSAGE_DETAILED: Lifting ValueCombiningMappingFns into MergeBucketsMappingFns\n",
            "INFO:apache_beam.runners.dataflow.dataflow_runner:2022-07-09T21:21:22.891Z: JOB_MESSAGE_DEBUG: Annotating graph with Autotuner information.\n",
            "INFO:apache_beam.runners.dataflow.dataflow_runner:2022-07-09T21:21:22.936Z: JOB_MESSAGE_DETAILED: Fusing adjacent ParDo, Read, Write, and Flatten operations\n",
            "INFO:apache_beam.runners.dataflow.dataflow_runner:2022-07-09T21:21:22.960Z: JOB_MESSAGE_DETAILED: Fusing consumer ExtractColumns into ReadTwitterData/Read\n",
            "INFO:apache_beam.runners.dataflow.dataflow_runner:2022-07-09T21:21:22.991Z: JOB_MESSAGE_DETAILED: Fusing consumer Preprocess into ExtractColumns\n",
            "INFO:apache_beam.runners.dataflow.dataflow_runner:2022-07-09T21:21:23.048Z: JOB_MESSAGE_DETAILED: Fusing consumer Split dataset/ParDo(ApplyPartitionFnFn)/ParDo(ApplyPartitionFnFn) into Preprocess\n",
            "INFO:apache_beam.runners.dataflow.dataflow_runner:2022-07-09T21:21:23.081Z: JOB_MESSAGE_DETAILED: Fusing consumer TrainWriteToCSV/Write/WriteImpl/WindowInto(WindowIntoFn) into Split dataset/ParDo(ApplyPartitionFnFn)/ParDo(ApplyPartitionFnFn)\n",
            "INFO:apache_beam.runners.dataflow.dataflow_runner:2022-07-09T21:21:23.115Z: JOB_MESSAGE_DETAILED: Fusing consumer TrainWriteToCSV/Write/WriteImpl/WriteBundles/WriteBundles into TrainWriteToCSV/Write/WriteImpl/WindowInto(WindowIntoFn)\n",
            "INFO:apache_beam.runners.dataflow.dataflow_runner:2022-07-09T21:21:23.180Z: JOB_MESSAGE_DETAILED: Fusing consumer TrainWriteToCSV/Write/WriteImpl/Pair into TrainWriteToCSV/Write/WriteImpl/WriteBundles/WriteBundles\n",
            "INFO:apache_beam.runners.dataflow.dataflow_runner:2022-07-09T21:21:23.203Z: JOB_MESSAGE_DETAILED: Fusing consumer TrainWriteToCSV/Write/WriteImpl/GroupByKey/Reify into TrainWriteToCSV/Write/WriteImpl/Pair\n",
            "INFO:apache_beam.runners.dataflow.dataflow_runner:2022-07-09T21:21:23.230Z: JOB_MESSAGE_DETAILED: Fusing consumer TrainWriteToCSV/Write/WriteImpl/GroupByKey/Write into TrainWriteToCSV/Write/WriteImpl/GroupByKey/Reify\n",
            "INFO:apache_beam.runners.dataflow.dataflow_runner:2022-07-09T21:21:23.265Z: JOB_MESSAGE_DETAILED: Fusing consumer TrainWriteToCSV/Write/WriteImpl/GroupByKey/GroupByWindow into TrainWriteToCSV/Write/WriteImpl/GroupByKey/Read\n",
            "INFO:apache_beam.runners.dataflow.dataflow_runner:2022-07-09T21:21:23.295Z: JOB_MESSAGE_DETAILED: Fusing consumer TrainWriteToCSV/Write/WriteImpl/Extract into TrainWriteToCSV/Write/WriteImpl/GroupByKey/GroupByWindow\n",
            "INFO:apache_beam.runners.dataflow.dataflow_runner:2022-07-09T21:21:23.321Z: JOB_MESSAGE_DETAILED: Fusing consumer EvalWriteToCSV/Write/WriteImpl/WindowInto(WindowIntoFn) into Split dataset/ParDo(ApplyPartitionFnFn)/ParDo(ApplyPartitionFnFn)\n",
            "INFO:apache_beam.runners.dataflow.dataflow_runner:2022-07-09T21:21:23.348Z: JOB_MESSAGE_DETAILED: Fusing consumer EvalWriteToCSV/Write/WriteImpl/WriteBundles/WriteBundles into EvalWriteToCSV/Write/WriteImpl/WindowInto(WindowIntoFn)\n",
            "INFO:apache_beam.runners.dataflow.dataflow_runner:2022-07-09T21:21:23.377Z: JOB_MESSAGE_DETAILED: Fusing consumer EvalWriteToCSV/Write/WriteImpl/Pair into EvalWriteToCSV/Write/WriteImpl/WriteBundles/WriteBundles\n",
            "INFO:apache_beam.runners.dataflow.dataflow_runner:2022-07-09T21:21:23.410Z: JOB_MESSAGE_DETAILED: Fusing consumer EvalWriteToCSV/Write/WriteImpl/GroupByKey/Reify into EvalWriteToCSV/Write/WriteImpl/Pair\n",
            "INFO:apache_beam.runners.dataflow.dataflow_runner:2022-07-09T21:21:23.481Z: JOB_MESSAGE_DETAILED: Fusing consumer EvalWriteToCSV/Write/WriteImpl/GroupByKey/Write into EvalWriteToCSV/Write/WriteImpl/GroupByKey/Reify\n",
            "INFO:apache_beam.runners.dataflow.dataflow_runner:2022-07-09T21:21:23.506Z: JOB_MESSAGE_DETAILED: Fusing consumer EvalWriteToCSV/Write/WriteImpl/GroupByKey/GroupByWindow into EvalWriteToCSV/Write/WriteImpl/GroupByKey/Read\n",
            "INFO:apache_beam.runners.dataflow.dataflow_runner:2022-07-09T21:21:23.527Z: JOB_MESSAGE_DETAILED: Fusing consumer EvalWriteToCSV/Write/WriteImpl/Extract into EvalWriteToCSV/Write/WriteImpl/GroupByKey/GroupByWindow\n",
            "INFO:apache_beam.runners.dataflow.dataflow_runner:2022-07-09T21:21:23.554Z: JOB_MESSAGE_DETAILED: Fusing consumer TrainWriteToCSV/Write/WriteImpl/InitializeWrite into TrainWriteToCSV/Write/WriteImpl/DoOnce/Read\n",
            "INFO:apache_beam.runners.dataflow.dataflow_runner:2022-07-09T21:21:23.580Z: JOB_MESSAGE_DETAILED: Fusing consumer EvalWriteToCSV/Write/WriteImpl/InitializeWrite into EvalWriteToCSV/Write/WriteImpl/DoOnce/Read\n",
            "INFO:apache_beam.runners.dataflow.dataflow_runner:2022-07-09T21:21:23.632Z: JOB_MESSAGE_DEBUG: Workflow config is missing a default resource spec.\n",
            "INFO:apache_beam.runners.dataflow.dataflow_runner:2022-07-09T21:21:23.659Z: JOB_MESSAGE_DEBUG: Adding StepResource setup and teardown to workflow graph.\n",
            "INFO:apache_beam.runners.dataflow.dataflow_runner:2022-07-09T21:21:23.683Z: JOB_MESSAGE_DEBUG: Adding workflow start and stop steps.\n",
            "INFO:apache_beam.runners.dataflow.dataflow_runner:2022-07-09T21:21:23.739Z: JOB_MESSAGE_DEBUG: Assigning stage ids.\n",
            "INFO:apache_beam.runners.dataflow.dataflow_runner:2022-07-09T21:21:23.916Z: JOB_MESSAGE_DEBUG: Executing wait step start29\n",
            "INFO:apache_beam.runners.dataflow.dataflow_runner:2022-07-09T21:21:23.982Z: JOB_MESSAGE_BASIC: Executing operation EvalWriteToCSV/Write/WriteImpl/DoOnce/Read+EvalWriteToCSV/Write/WriteImpl/InitializeWrite\n",
            "INFO:apache_beam.runners.dataflow.dataflow_runner:2022-07-09T21:21:24.022Z: JOB_MESSAGE_BASIC: Executing operation TrainWriteToCSV/Write/WriteImpl/DoOnce/Read+TrainWriteToCSV/Write/WriteImpl/InitializeWrite\n",
            "INFO:apache_beam.runners.dataflow.dataflow_runner:2022-07-09T21:21:24.064Z: JOB_MESSAGE_DEBUG: Starting worker pool setup.\n",
            "INFO:apache_beam.runners.dataflow.dataflow_runner:2022-07-09T21:21:24.094Z: JOB_MESSAGE_BASIC: Starting 1 workers in europe-west1-d...\n",
            "INFO:apache_beam.runners.dataflow.dataflow_runner:Job 2022-07-09_14_21_18-14327765826810641226 is in state JOB_STATE_RUNNING\n",
            "INFO:apache_beam.runners.dataflow.dataflow_runner:2022-07-09T21:21:51.857Z: JOB_MESSAGE_DETAILED: Autoscaling: Raised the number of workers to 1 based on the rate of progress in the currently running stage(s).\n",
            "INFO:apache_beam.runners.dataflow.dataflow_runner:2022-07-09T21:22:27.320Z: JOB_MESSAGE_DETAILED: Workers have started successfully.\n",
            "INFO:apache_beam.runners.dataflow.dataflow_runner:2022-07-09T21:27:15.356Z: JOB_MESSAGE_BASIC: Finished operation EvalWriteToCSV/Write/WriteImpl/DoOnce/Read+EvalWriteToCSV/Write/WriteImpl/InitializeWrite\n",
            "INFO:apache_beam.runners.dataflow.dataflow_runner:2022-07-09T21:27:15.421Z: JOB_MESSAGE_DEBUG: Value \"EvalWriteToCSV/Write/WriteImpl/DoOnce/Read.out\" materialized.\n",
            "INFO:apache_beam.runners.dataflow.dataflow_runner:2022-07-09T21:27:15.453Z: JOB_MESSAGE_DEBUG: Value \"EvalWriteToCSV/Write/WriteImpl/InitializeWrite.out\" materialized.\n",
            "INFO:apache_beam.runners.dataflow.dataflow_runner:2022-07-09T21:27:15.514Z: JOB_MESSAGE_BASIC: Executing operation EvalWriteToCSV/Write/WriteImpl/WriteBundles/_UnpickledSideInput(InitializeWrite.out.0)\n",
            "INFO:apache_beam.runners.dataflow.dataflow_runner:2022-07-09T21:27:15.547Z: JOB_MESSAGE_BASIC: Executing operation EvalWriteToCSV/Write/WriteImpl/FinalizeWrite/_UnpickledSideInput(InitializeWrite.out.0)\n",
            "INFO:apache_beam.runners.dataflow.dataflow_runner:2022-07-09T21:27:15.574Z: JOB_MESSAGE_BASIC: Finished operation EvalWriteToCSV/Write/WriteImpl/WriteBundles/_UnpickledSideInput(InitializeWrite.out.0)\n",
            "INFO:apache_beam.runners.dataflow.dataflow_runner:2022-07-09T21:27:15.580Z: JOB_MESSAGE_BASIC: Executing operation EvalWriteToCSV/Write/WriteImpl/PreFinalize/_UnpickledSideInput(InitializeWrite.out.0)\n",
            "INFO:apache_beam.runners.dataflow.dataflow_runner:2022-07-09T21:27:15.603Z: JOB_MESSAGE_BASIC: Finished operation EvalWriteToCSV/Write/WriteImpl/FinalizeWrite/_UnpickledSideInput(InitializeWrite.out.0)\n",
            "INFO:apache_beam.runners.dataflow.dataflow_runner:2022-07-09T21:27:15.634Z: JOB_MESSAGE_BASIC: Finished operation EvalWriteToCSV/Write/WriteImpl/PreFinalize/_UnpickledSideInput(InitializeWrite.out.0)\n",
            "INFO:apache_beam.runners.dataflow.dataflow_runner:2022-07-09T21:27:15.677Z: JOB_MESSAGE_DEBUG: Value \"EvalWriteToCSV/Write/WriteImpl/WriteBundles/_UnpickledSideInput(InitializeWrite.out.0).output\" materialized.\n",
            "INFO:apache_beam.runners.dataflow.dataflow_runner:2022-07-09T21:27:15.713Z: JOB_MESSAGE_DEBUG: Value \"EvalWriteToCSV/Write/WriteImpl/FinalizeWrite/_UnpickledSideInput(InitializeWrite.out.0).output\" materialized.\n",
            "INFO:apache_beam.runners.dataflow.dataflow_runner:2022-07-09T21:27:15.747Z: JOB_MESSAGE_DEBUG: Value \"EvalWriteToCSV/Write/WriteImpl/PreFinalize/_UnpickledSideInput(InitializeWrite.out.0).output\" materialized.\n",
            "INFO:apache_beam.runners.dataflow.dataflow_runner:2022-07-09T21:27:18.734Z: JOB_MESSAGE_BASIC: Finished operation TrainWriteToCSV/Write/WriteImpl/DoOnce/Read+TrainWriteToCSV/Write/WriteImpl/InitializeWrite\n",
            "INFO:apache_beam.runners.dataflow.dataflow_runner:2022-07-09T21:27:18.820Z: JOB_MESSAGE_DEBUG: Value \"TrainWriteToCSV/Write/WriteImpl/DoOnce/Read.out\" materialized.\n",
            "INFO:apache_beam.runners.dataflow.dataflow_runner:2022-07-09T21:27:18.850Z: JOB_MESSAGE_DEBUG: Value \"TrainWriteToCSV/Write/WriteImpl/InitializeWrite.out\" materialized.\n",
            "INFO:apache_beam.runners.dataflow.dataflow_runner:2022-07-09T21:27:18.915Z: JOB_MESSAGE_BASIC: Executing operation TrainWriteToCSV/Write/WriteImpl/FinalizeWrite/_UnpickledSideInput(InitializeWrite.out.0)\n",
            "INFO:apache_beam.runners.dataflow.dataflow_runner:2022-07-09T21:27:18.937Z: JOB_MESSAGE_BASIC: Executing operation TrainWriteToCSV/Write/WriteImpl/WriteBundles/_UnpickledSideInput(InitializeWrite.out.0)\n",
            "INFO:apache_beam.runners.dataflow.dataflow_runner:2022-07-09T21:27:18.960Z: JOB_MESSAGE_BASIC: Executing operation TrainWriteToCSV/Write/WriteImpl/PreFinalize/_UnpickledSideInput(InitializeWrite.out.0)\n",
            "INFO:apache_beam.runners.dataflow.dataflow_runner:2022-07-09T21:27:18.968Z: JOB_MESSAGE_BASIC: Finished operation TrainWriteToCSV/Write/WriteImpl/FinalizeWrite/_UnpickledSideInput(InitializeWrite.out.0)\n",
            "INFO:apache_beam.runners.dataflow.dataflow_runner:2022-07-09T21:27:18.990Z: JOB_MESSAGE_BASIC: Finished operation TrainWriteToCSV/Write/WriteImpl/WriteBundles/_UnpickledSideInput(InitializeWrite.out.0)\n",
            "INFO:apache_beam.runners.dataflow.dataflow_runner:2022-07-09T21:27:19.017Z: JOB_MESSAGE_BASIC: Finished operation TrainWriteToCSV/Write/WriteImpl/PreFinalize/_UnpickledSideInput(InitializeWrite.out.0)\n",
            "INFO:apache_beam.runners.dataflow.dataflow_runner:2022-07-09T21:27:19.026Z: JOB_MESSAGE_DEBUG: Value \"TrainWriteToCSV/Write/WriteImpl/FinalizeWrite/_UnpickledSideInput(InitializeWrite.out.0).output\" materialized.\n",
            "INFO:apache_beam.runners.dataflow.dataflow_runner:2022-07-09T21:27:19.059Z: JOB_MESSAGE_DEBUG: Value \"TrainWriteToCSV/Write/WriteImpl/WriteBundles/_UnpickledSideInput(InitializeWrite.out.0).output\" materialized.\n",
            "INFO:apache_beam.runners.dataflow.dataflow_runner:2022-07-09T21:27:19.091Z: JOB_MESSAGE_DEBUG: Value \"TrainWriteToCSV/Write/WriteImpl/PreFinalize/_UnpickledSideInput(InitializeWrite.out.0).output\" materialized.\n",
            "INFO:apache_beam.runners.dataflow.dataflow_runner:2022-07-09T21:27:19.126Z: JOB_MESSAGE_BASIC: Executing operation EvalWriteToCSV/Write/WriteImpl/GroupByKey/Create\n",
            "INFO:apache_beam.runners.dataflow.dataflow_runner:2022-07-09T21:27:19.157Z: JOB_MESSAGE_BASIC: Executing operation TrainWriteToCSV/Write/WriteImpl/GroupByKey/Create\n",
            "INFO:apache_beam.runners.dataflow.dataflow_runner:2022-07-09T21:27:19.432Z: JOB_MESSAGE_BASIC: Finished operation EvalWriteToCSV/Write/WriteImpl/GroupByKey/Create\n",
            "INFO:apache_beam.runners.dataflow.dataflow_runner:2022-07-09T21:27:19.432Z: JOB_MESSAGE_BASIC: Finished operation TrainWriteToCSV/Write/WriteImpl/GroupByKey/Create\n",
            "INFO:apache_beam.runners.dataflow.dataflow_runner:2022-07-09T21:27:19.503Z: JOB_MESSAGE_DEBUG: Value \"TrainWriteToCSV/Write/WriteImpl/GroupByKey/Session\" materialized.\n",
            "INFO:apache_beam.runners.dataflow.dataflow_runner:2022-07-09T21:27:19.537Z: JOB_MESSAGE_DEBUG: Value \"EvalWriteToCSV/Write/WriteImpl/GroupByKey/Session\" materialized.\n",
            "INFO:apache_beam.runners.dataflow.dataflow_runner:2022-07-09T21:27:19.663Z: JOB_MESSAGE_BASIC: Executing operation ReadTwitterData/Read+ExtractColumns+Preprocess+Split dataset/ParDo(ApplyPartitionFnFn)/ParDo(ApplyPartitionFnFn)+TrainWriteToCSV/Write/WriteImpl/WindowInto(WindowIntoFn)+TrainWriteToCSV/Write/WriteImpl/WriteBundles/WriteBundles+TrainWriteToCSV/Write/WriteImpl/Pair+TrainWriteToCSV/Write/WriteImpl/GroupByKey/Reify+TrainWriteToCSV/Write/WriteImpl/GroupByKey/Write+EvalWriteToCSV/Write/WriteImpl/WindowInto(WindowIntoFn)+EvalWriteToCSV/Write/WriteImpl/WriteBundles/WriteBundles+EvalWriteToCSV/Write/WriteImpl/Pair+EvalWriteToCSV/Write/WriteImpl/GroupByKey/Reify+EvalWriteToCSV/Write/WriteImpl/GroupByKey/Write\n",
            "INFO:apache_beam.runners.dataflow.dataflow_runner:2022-07-09T21:27:28.619Z: JOB_MESSAGE_BASIC: Finished operation ReadTwitterData/Read+ExtractColumns+Preprocess+Split dataset/ParDo(ApplyPartitionFnFn)/ParDo(ApplyPartitionFnFn)+TrainWriteToCSV/Write/WriteImpl/WindowInto(WindowIntoFn)+TrainWriteToCSV/Write/WriteImpl/WriteBundles/WriteBundles+TrainWriteToCSV/Write/WriteImpl/Pair+TrainWriteToCSV/Write/WriteImpl/GroupByKey/Reify+TrainWriteToCSV/Write/WriteImpl/GroupByKey/Write+EvalWriteToCSV/Write/WriteImpl/WindowInto(WindowIntoFn)+EvalWriteToCSV/Write/WriteImpl/WriteBundles/WriteBundles+EvalWriteToCSV/Write/WriteImpl/Pair+EvalWriteToCSV/Write/WriteImpl/GroupByKey/Reify+EvalWriteToCSV/Write/WriteImpl/GroupByKey/Write\n",
            "INFO:apache_beam.runners.dataflow.dataflow_runner:2022-07-09T21:27:28.679Z: JOB_MESSAGE_BASIC: Executing operation EvalWriteToCSV/Write/WriteImpl/GroupByKey/Close\n",
            "INFO:apache_beam.runners.dataflow.dataflow_runner:2022-07-09T21:27:28.701Z: JOB_MESSAGE_BASIC: Executing operation TrainWriteToCSV/Write/WriteImpl/GroupByKey/Close\n",
            "INFO:apache_beam.runners.dataflow.dataflow_runner:2022-07-09T21:27:28.738Z: JOB_MESSAGE_BASIC: Finished operation EvalWriteToCSV/Write/WriteImpl/GroupByKey/Close\n",
            "INFO:apache_beam.runners.dataflow.dataflow_runner:2022-07-09T21:27:28.738Z: JOB_MESSAGE_BASIC: Finished operation TrainWriteToCSV/Write/WriteImpl/GroupByKey/Close\n",
            "INFO:apache_beam.runners.dataflow.dataflow_runner:2022-07-09T21:27:28.823Z: JOB_MESSAGE_BASIC: Executing operation EvalWriteToCSV/Write/WriteImpl/GroupByKey/Read+EvalWriteToCSV/Write/WriteImpl/GroupByKey/GroupByWindow+EvalWriteToCSV/Write/WriteImpl/Extract\n",
            "INFO:apache_beam.runners.dataflow.dataflow_runner:2022-07-09T21:27:28.845Z: JOB_MESSAGE_BASIC: Executing operation TrainWriteToCSV/Write/WriteImpl/GroupByKey/Read+TrainWriteToCSV/Write/WriteImpl/GroupByKey/GroupByWindow+TrainWriteToCSV/Write/WriteImpl/Extract\n",
            "INFO:apache_beam.runners.dataflow.dataflow_runner:2022-07-09T21:27:32.284Z: JOB_MESSAGE_BASIC: Finished operation EvalWriteToCSV/Write/WriteImpl/GroupByKey/Read+EvalWriteToCSV/Write/WriteImpl/GroupByKey/GroupByWindow+EvalWriteToCSV/Write/WriteImpl/Extract\n",
            "INFO:apache_beam.runners.dataflow.dataflow_runner:2022-07-09T21:27:32.342Z: JOB_MESSAGE_DEBUG: Value \"EvalWriteToCSV/Write/WriteImpl/Extract.out\" materialized.\n",
            "INFO:apache_beam.runners.dataflow.dataflow_runner:2022-07-09T21:27:32.407Z: JOB_MESSAGE_BASIC: Executing operation EvalWriteToCSV/Write/WriteImpl/FinalizeWrite/_UnpickledSideInput(Extract.out.0)\n",
            "INFO:apache_beam.runners.dataflow.dataflow_runner:2022-07-09T21:27:32.440Z: JOB_MESSAGE_BASIC: Executing operation EvalWriteToCSV/Write/WriteImpl/PreFinalize/_UnpickledSideInput(Extract.out.0)\n",
            "INFO:apache_beam.runners.dataflow.dataflow_runner:2022-07-09T21:27:32.457Z: JOB_MESSAGE_BASIC: Finished operation EvalWriteToCSV/Write/WriteImpl/FinalizeWrite/_UnpickledSideInput(Extract.out.0)\n",
            "INFO:apache_beam.runners.dataflow.dataflow_runner:2022-07-09T21:27:32.485Z: JOB_MESSAGE_BASIC: Finished operation EvalWriteToCSV/Write/WriteImpl/PreFinalize/_UnpickledSideInput(Extract.out.0)\n",
            "INFO:apache_beam.runners.dataflow.dataflow_runner:2022-07-09T21:27:32.520Z: JOB_MESSAGE_DEBUG: Value \"EvalWriteToCSV/Write/WriteImpl/FinalizeWrite/_UnpickledSideInput(Extract.out.0).output\" materialized.\n",
            "INFO:apache_beam.runners.dataflow.dataflow_runner:2022-07-09T21:27:32.572Z: JOB_MESSAGE_DEBUG: Value \"EvalWriteToCSV/Write/WriteImpl/PreFinalize/_UnpickledSideInput(Extract.out.0).output\" materialized.\n",
            "INFO:apache_beam.runners.dataflow.dataflow_runner:2022-07-09T21:27:32.675Z: JOB_MESSAGE_BASIC: Executing operation EvalWriteToCSV/Write/WriteImpl/PreFinalize/PreFinalize\n",
            "INFO:apache_beam.runners.dataflow.dataflow_runner:2022-07-09T21:27:35.627Z: JOB_MESSAGE_BASIC: Finished operation TrainWriteToCSV/Write/WriteImpl/GroupByKey/Read+TrainWriteToCSV/Write/WriteImpl/GroupByKey/GroupByWindow+TrainWriteToCSV/Write/WriteImpl/Extract\n",
            "INFO:apache_beam.runners.dataflow.dataflow_runner:2022-07-09T21:27:35.691Z: JOB_MESSAGE_DEBUG: Value \"TrainWriteToCSV/Write/WriteImpl/Extract.out\" materialized.\n",
            "INFO:apache_beam.runners.dataflow.dataflow_runner:2022-07-09T21:27:35.763Z: JOB_MESSAGE_BASIC: Executing operation TrainWriteToCSV/Write/WriteImpl/FinalizeWrite/_UnpickledSideInput(Extract.out.0)\n",
            "INFO:apache_beam.runners.dataflow.dataflow_runner:2022-07-09T21:27:35.820Z: JOB_MESSAGE_BASIC: Executing operation TrainWriteToCSV/Write/WriteImpl/PreFinalize/_UnpickledSideInput(Extract.out.0)\n",
            "INFO:apache_beam.runners.dataflow.dataflow_runner:2022-07-09T21:27:35.838Z: JOB_MESSAGE_BASIC: Finished operation TrainWriteToCSV/Write/WriteImpl/FinalizeWrite/_UnpickledSideInput(Extract.out.0)\n",
            "INFO:apache_beam.runners.dataflow.dataflow_runner:2022-07-09T21:27:35.866Z: JOB_MESSAGE_BASIC: Finished operation TrainWriteToCSV/Write/WriteImpl/PreFinalize/_UnpickledSideInput(Extract.out.0)\n",
            "INFO:apache_beam.runners.dataflow.dataflow_runner:2022-07-09T21:27:35.910Z: JOB_MESSAGE_DEBUG: Value \"TrainWriteToCSV/Write/WriteImpl/FinalizeWrite/_UnpickledSideInput(Extract.out.0).output\" materialized.\n",
            "INFO:apache_beam.runners.dataflow.dataflow_runner:2022-07-09T21:27:35.942Z: JOB_MESSAGE_DEBUG: Value \"TrainWriteToCSV/Write/WriteImpl/PreFinalize/_UnpickledSideInput(Extract.out.0).output\" materialized.\n",
            "INFO:apache_beam.runners.dataflow.dataflow_runner:2022-07-09T21:27:36.007Z: JOB_MESSAGE_BASIC: Executing operation TrainWriteToCSV/Write/WriteImpl/PreFinalize/PreFinalize\n",
            "INFO:apache_beam.runners.dataflow.dataflow_runner:2022-07-09T21:27:39.544Z: JOB_MESSAGE_BASIC: Finished operation EvalWriteToCSV/Write/WriteImpl/PreFinalize/PreFinalize\n",
            "INFO:apache_beam.runners.dataflow.dataflow_runner:2022-07-09T21:27:39.605Z: JOB_MESSAGE_DEBUG: Value \"EvalWriteToCSV/Write/WriteImpl/PreFinalize.out\" materialized.\n",
            "INFO:apache_beam.runners.dataflow.dataflow_runner:2022-07-09T21:27:39.667Z: JOB_MESSAGE_BASIC: Executing operation EvalWriteToCSV/Write/WriteImpl/FinalizeWrite/_UnpickledSideInput(PreFinalize.out.0)\n",
            "INFO:apache_beam.runners.dataflow.dataflow_runner:2022-07-09T21:27:39.713Z: JOB_MESSAGE_BASIC: Finished operation EvalWriteToCSV/Write/WriteImpl/FinalizeWrite/_UnpickledSideInput(PreFinalize.out.0)\n",
            "INFO:apache_beam.runners.dataflow.dataflow_runner:2022-07-09T21:27:39.777Z: JOB_MESSAGE_DEBUG: Value \"EvalWriteToCSV/Write/WriteImpl/FinalizeWrite/_UnpickledSideInput(PreFinalize.out.0).output\" materialized.\n",
            "INFO:apache_beam.runners.dataflow.dataflow_runner:2022-07-09T21:27:39.854Z: JOB_MESSAGE_BASIC: Executing operation EvalWriteToCSV/Write/WriteImpl/FinalizeWrite/FinalizeWrite\n",
            "INFO:apache_beam.runners.dataflow.dataflow_runner:2022-07-09T21:27:43.392Z: JOB_MESSAGE_BASIC: Finished operation TrainWriteToCSV/Write/WriteImpl/PreFinalize/PreFinalize\n",
            "INFO:apache_beam.runners.dataflow.dataflow_runner:2022-07-09T21:27:43.461Z: JOB_MESSAGE_DEBUG: Value \"TrainWriteToCSV/Write/WriteImpl/PreFinalize.out\" materialized.\n",
            "INFO:apache_beam.runners.dataflow.dataflow_runner:2022-07-09T21:27:43.526Z: JOB_MESSAGE_BASIC: Executing operation TrainWriteToCSV/Write/WriteImpl/FinalizeWrite/_UnpickledSideInput(PreFinalize.out.0)\n",
            "INFO:apache_beam.runners.dataflow.dataflow_runner:2022-07-09T21:27:43.573Z: JOB_MESSAGE_BASIC: Finished operation TrainWriteToCSV/Write/WriteImpl/FinalizeWrite/_UnpickledSideInput(PreFinalize.out.0)\n",
            "INFO:apache_beam.runners.dataflow.dataflow_runner:2022-07-09T21:27:43.663Z: JOB_MESSAGE_DEBUG: Value \"TrainWriteToCSV/Write/WriteImpl/FinalizeWrite/_UnpickledSideInput(PreFinalize.out.0).output\" materialized.\n",
            "INFO:apache_beam.runners.dataflow.dataflow_runner:2022-07-09T21:27:43.731Z: JOB_MESSAGE_BASIC: Executing operation TrainWriteToCSV/Write/WriteImpl/FinalizeWrite/FinalizeWrite\n",
            "INFO:apache_beam.runners.dataflow.dataflow_runner:2022-07-09T21:27:47.143Z: JOB_MESSAGE_BASIC: Finished operation TrainWriteToCSV/Write/WriteImpl/FinalizeWrite/FinalizeWrite\n",
            "INFO:apache_beam.runners.dataflow.dataflow_runner:2022-07-09T21:27:51.257Z: JOB_MESSAGE_BASIC: Finished operation EvalWriteToCSV/Write/WriteImpl/FinalizeWrite/FinalizeWrite\n",
            "INFO:apache_beam.runners.dataflow.dataflow_runner:2022-07-09T21:27:51.317Z: JOB_MESSAGE_DEBUG: Executing success step success27\n",
            "INFO:apache_beam.runners.dataflow.dataflow_runner:2022-07-09T21:27:51.403Z: JOB_MESSAGE_DETAILED: Cleaning up.\n",
            "INFO:apache_beam.runners.dataflow.dataflow_runner:2022-07-09T21:27:51.459Z: JOB_MESSAGE_DEBUG: Starting worker pool teardown.\n",
            "INFO:apache_beam.runners.dataflow.dataflow_runner:2022-07-09T21:27:51.494Z: JOB_MESSAGE_BASIC: Stopping worker pool...\n",
            "INFO:apache_beam.runners.dataflow.dataflow_runner:2022-07-09T21:28:28.756Z: JOB_MESSAGE_DETAILED: Autoscaling: Resized worker pool from 1 to 0.\n",
            "INFO:apache_beam.runners.dataflow.dataflow_runner:2022-07-09T21:28:28.805Z: JOB_MESSAGE_BASIC: Worker pool stopped.\n",
            "INFO:apache_beam.runners.dataflow.dataflow_runner:2022-07-09T21:28:28.842Z: JOB_MESSAGE_DEBUG: Tearing down pending resources...\n",
            "INFO:apache_beam.runners.dataflow.dataflow_runner:Job 2022-07-09_14_21_18-14327765826810641226 is in state JOB_STATE_DONE\n"
          ]
        }
      ]
    },
    {
      "cell_type": "markdown",
      "metadata": {
        "id": "8czKRMb99ZRX"
      },
      "source": [
        "### Validación preprocess test en Dataflow (0.25 puntos)\n",
        "\n",
        "Con el comando mostrado a continuación se valida la correcta generación de los datos de test en GCP con el servicio DataFlow."
      ]
    },
    {
      "cell_type": "code",
      "metadata": {
        "id": "45mfSRGdQLBO",
        "colab": {
          "base_uri": "https://localhost:8080/"
        },
        "outputId": "5c9c9b72-281d-4a43-e8db-8f3517f5d931"
      },
      "source": [
        "! python3 preprocess.py \\\n",
        "  --project $PROJECT_ID \\\n",
        "  --region $GCP_REGION \\\n",
        "  --runner DataflowRunner \\\n",
        "  --temp_location $GCP_WORK_DIR/beam-temp \\\n",
        "  --setup_file ./setup.py \\\n",
        "  --work-dir $GCP_WORK_DIR \\\n",
        "  --input $GCP_WORK_DIR/data.json \\\n",
        "  --output $GCP_WORK_DIR/transformed_data \\\n",
        "  --mode test"
      ],
      "execution_count": null,
      "outputs": [
        {
          "output_type": "stream",
          "name": "stdout",
          "text": [
            "[nltk_data] Downloading package stopwords to /root/nltk_data...\n",
            "[nltk_data]   Package stopwords is already up-to-date!\n",
            "INFO:apache_beam.internal.gcp.auth:Setting socket default timeout to 60 seconds.\n",
            "INFO:apache_beam.internal.gcp.auth:socket default timeout is 60.0 seconds.\n",
            "INFO:oauth2client.transport:Attempting refresh to obtain initial access_token\n",
            "INFO:apache_beam.runners.portability.stager:Executing command: ['/usr/bin/python3', 'setup.py', 'sdist', '--dist-dir', '/tmp/tmpj458lnq0']\n",
            "warning: sdist: standard file not found: should have one of README, README.rst, README.txt, README.md\n",
            "\n",
            "warning: check: missing required meta-data: url\n",
            "\n",
            "warning: check: missing meta-data: either (author and author_email) or (maintainer and maintainer_email) must be supplied\n",
            "\n",
            "INFO:apache_beam.runners.portability.stager:Downloading source distribution of the SDK from PyPi\n",
            "INFO:apache_beam.runners.portability.stager:Executing command: ['/usr/bin/python3', '-m', 'pip', 'download', '--dest', '/tmp/tmpj458lnq0', 'apache-beam==2.24.0', '--no-deps', '--no-binary', ':all:']\n",
            "INFO:apache_beam.runners.portability.stager:Staging SDK sources from PyPI: dataflow_python_sdk.tar\n",
            "INFO:apache_beam.runners.portability.stager:Downloading binary distribution of the SDK from PyPi\n",
            "INFO:apache_beam.runners.portability.stager:Executing command: ['/usr/bin/python3', '-m', 'pip', 'download', '--dest', '/tmp/tmpj458lnq0', 'apache-beam==2.24.0', '--no-deps', '--only-binary', ':all:', '--python-version', '37', '--implementation', 'cp', '--abi', 'cp37m', '--platform', 'manylinux1_x86_64']\n",
            "INFO:apache_beam.runners.portability.stager:Staging binary distribution of the SDK from PyPI: apache_beam-2.24.0-cp37-cp37m-manylinux1_x86_64.whl\n",
            "WARNING:root:Make sure that locally built Python SDK docker image has Python 3.7 interpreter.\n",
            "INFO:root:Using Python SDK docker image: apache/beam_python3.7_sdk:2.24.0. If the image is not available at local, we will try to pull from hub.docker.com\n",
            "INFO:apache_beam.runners.dataflow.internal.apiclient:Defaulting to the temp_location as staging_location: gs://bucket-clase-implementacion/beam-temp\n",
            "INFO:apache_beam.runners.dataflow.internal.apiclient:Starting GCS upload to gs://bucket-clase-implementacion/beam-temp/beamapp-root-0709212904-238838.1657402144.239087/pipeline.pb...\n",
            "INFO:apache_beam.runners.dataflow.internal.apiclient:Completed GCS upload to gs://bucket-clase-implementacion/beam-temp/beamapp-root-0709212904-238838.1657402144.239087/pipeline.pb in 1 seconds.\n",
            "INFO:apache_beam.runners.dataflow.internal.apiclient:Starting GCS upload to gs://bucket-clase-implementacion/beam-temp/beamapp-root-0709212904-238838.1657402144.239087/workflow.tar.gz...\n",
            "INFO:apache_beam.runners.dataflow.internal.apiclient:Completed GCS upload to gs://bucket-clase-implementacion/beam-temp/beamapp-root-0709212904-238838.1657402144.239087/workflow.tar.gz in 0 seconds.\n",
            "INFO:apache_beam.runners.dataflow.internal.apiclient:Starting GCS upload to gs://bucket-clase-implementacion/beam-temp/beamapp-root-0709212904-238838.1657402144.239087/pickled_main_session...\n",
            "INFO:apache_beam.runners.dataflow.internal.apiclient:Completed GCS upload to gs://bucket-clase-implementacion/beam-temp/beamapp-root-0709212904-238838.1657402144.239087/pickled_main_session in 1 seconds.\n",
            "INFO:apache_beam.runners.dataflow.internal.apiclient:Starting GCS upload to gs://bucket-clase-implementacion/beam-temp/beamapp-root-0709212904-238838.1657402144.239087/dataflow_python_sdk.tar...\n",
            "INFO:apache_beam.runners.dataflow.internal.apiclient:Completed GCS upload to gs://bucket-clase-implementacion/beam-temp/beamapp-root-0709212904-238838.1657402144.239087/dataflow_python_sdk.tar in 3 seconds.\n",
            "INFO:apache_beam.runners.dataflow.internal.apiclient:Starting GCS upload to gs://bucket-clase-implementacion/beam-temp/beamapp-root-0709212904-238838.1657402144.239087/apache_beam-2.24.0-cp37-cp37m-manylinux1_x86_64.whl...\n",
            "INFO:apache_beam.runners.dataflow.internal.apiclient:Completed GCS upload to gs://bucket-clase-implementacion/beam-temp/beamapp-root-0709212904-238838.1657402144.239087/apache_beam-2.24.0-cp37-cp37m-manylinux1_x86_64.whl in 25 seconds.\n",
            "INFO:apache_beam.runners.dataflow.internal.apiclient:Create job: <Job\n",
            " createTime: '2022-07-09T21:29:43.754615Z'\n",
            " currentStateTime: '1970-01-01T00:00:00Z'\n",
            " id: '2022-07-09_14_29_43-10064352878954383829'\n",
            " location: 'europe-west1'\n",
            " name: 'beamapp-root-0709212904-238838'\n",
            " projectId: 'clase-implementacion'\n",
            " stageStates: []\n",
            " startTime: '2022-07-09T21:29:43.754615Z'\n",
            " steps: []\n",
            " tempFiles: []\n",
            " type: TypeValueValuesEnum(JOB_TYPE_BATCH, 1)>\n",
            "INFO:apache_beam.runners.dataflow.internal.apiclient:Created job with id: [2022-07-09_14_29_43-10064352878954383829]\n",
            "INFO:apache_beam.runners.dataflow.internal.apiclient:Submitted job: 2022-07-09_14_29_43-10064352878954383829\n",
            "INFO:apache_beam.runners.dataflow.internal.apiclient:To access the Dataflow monitoring console, please navigate to https://console.cloud.google.com/dataflow/jobs/europe-west1/2022-07-09_14_29_43-10064352878954383829?project=clase-implementacion\n",
            "INFO:apache_beam.runners.dataflow.dataflow_runner:Job 2022-07-09_14_29_43-10064352878954383829 is in state JOB_STATE_PENDING\n",
            "INFO:apache_beam.runners.dataflow.dataflow_runner:2022-07-09T21:29:44.246Z: JOB_MESSAGE_DETAILED: Autoscaling is enabled for job 2022-07-09_14_29_43-10064352878954383829. The number of workers will be between 1 and 1000.\n",
            "INFO:apache_beam.runners.dataflow.dataflow_runner:2022-07-09T21:29:44.308Z: JOB_MESSAGE_DETAILED: Autoscaling was automatically enabled for job 2022-07-09_14_29_43-10064352878954383829.\n",
            "INFO:apache_beam.runners.dataflow.dataflow_runner:2022-07-09T21:29:45.786Z: JOB_MESSAGE_BASIC: Worker configuration: n1-standard-1 in europe-west1-d.\n",
            "INFO:apache_beam.runners.dataflow.dataflow_runner:2022-07-09T21:29:46.678Z: JOB_MESSAGE_DETAILED: Expanding CoGroupByKey operations into optimizable parts.\n",
            "INFO:apache_beam.runners.dataflow.dataflow_runner:2022-07-09T21:29:46.713Z: JOB_MESSAGE_DEBUG: Combiner lifting skipped for step TestWriteToCSV/Write/WriteImpl/GroupByKey: GroupByKey not followed by a combiner.\n",
            "INFO:apache_beam.runners.dataflow.dataflow_runner:2022-07-09T21:29:46.749Z: JOB_MESSAGE_DETAILED: Expanding GroupByKey operations into optimizable parts.\n",
            "INFO:apache_beam.runners.dataflow.dataflow_runner:2022-07-09T21:29:46.779Z: JOB_MESSAGE_DETAILED: Lifting ValueCombiningMappingFns into MergeBucketsMappingFns\n",
            "INFO:apache_beam.runners.dataflow.dataflow_runner:2022-07-09T21:29:46.843Z: JOB_MESSAGE_DEBUG: Annotating graph with Autotuner information.\n",
            "INFO:apache_beam.runners.dataflow.dataflow_runner:2022-07-09T21:29:46.876Z: JOB_MESSAGE_DETAILED: Fusing adjacent ParDo, Read, Write, and Flatten operations\n",
            "INFO:apache_beam.runners.dataflow.dataflow_runner:2022-07-09T21:29:46.912Z: JOB_MESSAGE_DETAILED: Fusing consumer ExtractColumns into ReadTwitterData/Read\n",
            "INFO:apache_beam.runners.dataflow.dataflow_runner:2022-07-09T21:29:46.943Z: JOB_MESSAGE_DETAILED: Fusing consumer Preprocess into ExtractColumns\n",
            "INFO:apache_beam.runners.dataflow.dataflow_runner:2022-07-09T21:29:46.967Z: JOB_MESSAGE_DETAILED: Fusing consumer TestWriteToCSV/Write/WriteImpl/WindowInto(WindowIntoFn) into Preprocess\n",
            "INFO:apache_beam.runners.dataflow.dataflow_runner:2022-07-09T21:29:46.999Z: JOB_MESSAGE_DETAILED: Fusing consumer TestWriteToCSV/Write/WriteImpl/WriteBundles/WriteBundles into TestWriteToCSV/Write/WriteImpl/WindowInto(WindowIntoFn)\n",
            "INFO:apache_beam.runners.dataflow.dataflow_runner:2022-07-09T21:29:47.033Z: JOB_MESSAGE_DETAILED: Fusing consumer TestWriteToCSV/Write/WriteImpl/Pair into TestWriteToCSV/Write/WriteImpl/WriteBundles/WriteBundles\n",
            "INFO:apache_beam.runners.dataflow.dataflow_runner:2022-07-09T21:29:47.066Z: JOB_MESSAGE_DETAILED: Fusing consumer TestWriteToCSV/Write/WriteImpl/GroupByKey/Reify into TestWriteToCSV/Write/WriteImpl/Pair\n",
            "INFO:apache_beam.runners.dataflow.dataflow_runner:2022-07-09T21:29:47.089Z: JOB_MESSAGE_DETAILED: Fusing consumer TestWriteToCSV/Write/WriteImpl/GroupByKey/Write into TestWriteToCSV/Write/WriteImpl/GroupByKey/Reify\n",
            "INFO:apache_beam.runners.dataflow.dataflow_runner:2022-07-09T21:29:47.112Z: JOB_MESSAGE_DETAILED: Fusing consumer TestWriteToCSV/Write/WriteImpl/GroupByKey/GroupByWindow into TestWriteToCSV/Write/WriteImpl/GroupByKey/Read\n",
            "INFO:apache_beam.runners.dataflow.dataflow_runner:2022-07-09T21:29:47.145Z: JOB_MESSAGE_DETAILED: Fusing consumer TestWriteToCSV/Write/WriteImpl/Extract into TestWriteToCSV/Write/WriteImpl/GroupByKey/GroupByWindow\n",
            "INFO:apache_beam.runners.dataflow.dataflow_runner:2022-07-09T21:29:47.179Z: JOB_MESSAGE_DETAILED: Fusing consumer TestWriteToCSV/Write/WriteImpl/InitializeWrite into TestWriteToCSV/Write/WriteImpl/DoOnce/Read\n",
            "INFO:apache_beam.runners.dataflow.dataflow_runner:2022-07-09T21:29:47.206Z: JOB_MESSAGE_DEBUG: Workflow config is missing a default resource spec.\n",
            "INFO:apache_beam.runners.dataflow.dataflow_runner:2022-07-09T21:29:47.266Z: JOB_MESSAGE_DEBUG: Adding StepResource setup and teardown to workflow graph.\n",
            "INFO:apache_beam.runners.dataflow.dataflow_runner:2022-07-09T21:29:47.290Z: JOB_MESSAGE_DEBUG: Adding workflow start and stop steps.\n",
            "INFO:apache_beam.runners.dataflow.dataflow_runner:2022-07-09T21:29:47.325Z: JOB_MESSAGE_DEBUG: Assigning stage ids.\n",
            "INFO:apache_beam.runners.dataflow.dataflow_runner:2022-07-09T21:29:47.538Z: JOB_MESSAGE_DEBUG: Executing wait step start16\n",
            "INFO:apache_beam.runners.dataflow.dataflow_runner:2022-07-09T21:29:47.611Z: JOB_MESSAGE_BASIC: Executing operation TestWriteToCSV/Write/WriteImpl/DoOnce/Read+TestWriteToCSV/Write/WriteImpl/InitializeWrite\n",
            "INFO:apache_beam.runners.dataflow.dataflow_runner:2022-07-09T21:29:47.658Z: JOB_MESSAGE_DEBUG: Starting worker pool setup.\n",
            "INFO:apache_beam.runners.dataflow.dataflow_runner:2022-07-09T21:29:47.692Z: JOB_MESSAGE_BASIC: Starting 1 workers in europe-west1-d...\n",
            "INFO:apache_beam.runners.dataflow.dataflow_runner:Job 2022-07-09_14_29_43-10064352878954383829 is in state JOB_STATE_RUNNING\n",
            "INFO:apache_beam.runners.dataflow.dataflow_runner:2022-07-09T21:30:14.816Z: JOB_MESSAGE_DETAILED: Autoscaling: Raised the number of workers to 1 based on the rate of progress in the currently running stage(s).\n",
            "INFO:apache_beam.runners.dataflow.dataflow_runner:2022-07-09T21:30:47.873Z: JOB_MESSAGE_DETAILED: Workers have started successfully.\n",
            "INFO:apache_beam.runners.dataflow.dataflow_runner:2022-07-09T21:35:43.585Z: JOB_MESSAGE_BASIC: Finished operation TestWriteToCSV/Write/WriteImpl/DoOnce/Read+TestWriteToCSV/Write/WriteImpl/InitializeWrite\n",
            "INFO:apache_beam.runners.dataflow.dataflow_runner:2022-07-09T21:35:43.647Z: JOB_MESSAGE_DEBUG: Value \"TestWriteToCSV/Write/WriteImpl/DoOnce/Read.out\" materialized.\n",
            "INFO:apache_beam.runners.dataflow.dataflow_runner:2022-07-09T21:35:43.684Z: JOB_MESSAGE_DEBUG: Value \"TestWriteToCSV/Write/WriteImpl/InitializeWrite.out\" materialized.\n",
            "INFO:apache_beam.runners.dataflow.dataflow_runner:2022-07-09T21:35:43.744Z: JOB_MESSAGE_BASIC: Executing operation TestWriteToCSV/Write/WriteImpl/WriteBundles/_UnpickledSideInput(InitializeWrite.out.0)\n",
            "INFO:apache_beam.runners.dataflow.dataflow_runner:2022-07-09T21:35:43.778Z: JOB_MESSAGE_BASIC: Executing operation TestWriteToCSV/Write/WriteImpl/PreFinalize/_UnpickledSideInput(InitializeWrite.out.0)\n",
            "INFO:apache_beam.runners.dataflow.dataflow_runner:2022-07-09T21:35:43.797Z: JOB_MESSAGE_BASIC: Finished operation TestWriteToCSV/Write/WriteImpl/WriteBundles/_UnpickledSideInput(InitializeWrite.out.0)\n",
            "INFO:apache_beam.runners.dataflow.dataflow_runner:2022-07-09T21:35:43.800Z: JOB_MESSAGE_BASIC: Executing operation TestWriteToCSV/Write/WriteImpl/FinalizeWrite/_UnpickledSideInput(InitializeWrite.out.0)\n",
            "INFO:apache_beam.runners.dataflow.dataflow_runner:2022-07-09T21:35:43.840Z: JOB_MESSAGE_BASIC: Finished operation TestWriteToCSV/Write/WriteImpl/PreFinalize/_UnpickledSideInput(InitializeWrite.out.0)\n",
            "INFO:apache_beam.runners.dataflow.dataflow_runner:2022-07-09T21:35:43.856Z: JOB_MESSAGE_DEBUG: Value \"TestWriteToCSV/Write/WriteImpl/WriteBundles/_UnpickledSideInput(InitializeWrite.out.0).output\" materialized.\n",
            "INFO:apache_beam.runners.dataflow.dataflow_runner:2022-07-09T21:35:43.863Z: JOB_MESSAGE_BASIC: Finished operation TestWriteToCSV/Write/WriteImpl/FinalizeWrite/_UnpickledSideInput(InitializeWrite.out.0)\n",
            "INFO:apache_beam.runners.dataflow.dataflow_runner:2022-07-09T21:35:43.901Z: JOB_MESSAGE_DEBUG: Value \"TestWriteToCSV/Write/WriteImpl/PreFinalize/_UnpickledSideInput(InitializeWrite.out.0).output\" materialized.\n",
            "INFO:apache_beam.runners.dataflow.dataflow_runner:2022-07-09T21:35:43.934Z: JOB_MESSAGE_BASIC: Executing operation TestWriteToCSV/Write/WriteImpl/GroupByKey/Create\n",
            "INFO:apache_beam.runners.dataflow.dataflow_runner:2022-07-09T21:35:43.960Z: JOB_MESSAGE_DEBUG: Value \"TestWriteToCSV/Write/WriteImpl/FinalizeWrite/_UnpickledSideInput(InitializeWrite.out.0).output\" materialized.\n",
            "INFO:apache_beam.runners.dataflow.dataflow_runner:2022-07-09T21:35:44.187Z: JOB_MESSAGE_BASIC: Finished operation TestWriteToCSV/Write/WriteImpl/GroupByKey/Create\n",
            "INFO:apache_beam.runners.dataflow.dataflow_runner:2022-07-09T21:35:44.234Z: JOB_MESSAGE_DEBUG: Value \"TestWriteToCSV/Write/WriteImpl/GroupByKey/Session\" materialized.\n",
            "INFO:apache_beam.runners.dataflow.dataflow_runner:2022-07-09T21:35:44.334Z: JOB_MESSAGE_BASIC: Executing operation ReadTwitterData/Read+ExtractColumns+Preprocess+TestWriteToCSV/Write/WriteImpl/WindowInto(WindowIntoFn)+TestWriteToCSV/Write/WriteImpl/WriteBundles/WriteBundles+TestWriteToCSV/Write/WriteImpl/Pair+TestWriteToCSV/Write/WriteImpl/GroupByKey/Reify+TestWriteToCSV/Write/WriteImpl/GroupByKey/Write\n",
            "INFO:apache_beam.runners.dataflow.dataflow_runner:2022-07-09T21:35:51.353Z: JOB_MESSAGE_BASIC: Finished operation ReadTwitterData/Read+ExtractColumns+Preprocess+TestWriteToCSV/Write/WriteImpl/WindowInto(WindowIntoFn)+TestWriteToCSV/Write/WriteImpl/WriteBundles/WriteBundles+TestWriteToCSV/Write/WriteImpl/Pair+TestWriteToCSV/Write/WriteImpl/GroupByKey/Reify+TestWriteToCSV/Write/WriteImpl/GroupByKey/Write\n",
            "INFO:apache_beam.runners.dataflow.dataflow_runner:2022-07-09T21:35:51.405Z: JOB_MESSAGE_BASIC: Executing operation TestWriteToCSV/Write/WriteImpl/GroupByKey/Close\n",
            "INFO:apache_beam.runners.dataflow.dataflow_runner:2022-07-09T21:35:51.465Z: JOB_MESSAGE_BASIC: Finished operation TestWriteToCSV/Write/WriteImpl/GroupByKey/Close\n",
            "INFO:apache_beam.runners.dataflow.dataflow_runner:2022-07-09T21:35:51.527Z: JOB_MESSAGE_BASIC: Executing operation TestWriteToCSV/Write/WriteImpl/GroupByKey/Read+TestWriteToCSV/Write/WriteImpl/GroupByKey/GroupByWindow+TestWriteToCSV/Write/WriteImpl/Extract\n",
            "INFO:apache_beam.runners.dataflow.dataflow_runner:2022-07-09T21:35:54.976Z: JOB_MESSAGE_BASIC: Finished operation TestWriteToCSV/Write/WriteImpl/GroupByKey/Read+TestWriteToCSV/Write/WriteImpl/GroupByKey/GroupByWindow+TestWriteToCSV/Write/WriteImpl/Extract\n",
            "INFO:apache_beam.runners.dataflow.dataflow_runner:2022-07-09T21:35:55.037Z: JOB_MESSAGE_DEBUG: Value \"TestWriteToCSV/Write/WriteImpl/Extract.out\" materialized.\n",
            "INFO:apache_beam.runners.dataflow.dataflow_runner:2022-07-09T21:35:55.098Z: JOB_MESSAGE_BASIC: Executing operation TestWriteToCSV/Write/WriteImpl/PreFinalize/_UnpickledSideInput(Extract.out.0)\n",
            "INFO:apache_beam.runners.dataflow.dataflow_runner:2022-07-09T21:35:55.125Z: JOB_MESSAGE_BASIC: Executing operation TestWriteToCSV/Write/WriteImpl/FinalizeWrite/_UnpickledSideInput(Extract.out.0)\n",
            "INFO:apache_beam.runners.dataflow.dataflow_runner:2022-07-09T21:35:55.147Z: JOB_MESSAGE_BASIC: Finished operation TestWriteToCSV/Write/WriteImpl/PreFinalize/_UnpickledSideInput(Extract.out.0)\n",
            "INFO:apache_beam.runners.dataflow.dataflow_runner:2022-07-09T21:35:55.177Z: JOB_MESSAGE_BASIC: Finished operation TestWriteToCSV/Write/WriteImpl/FinalizeWrite/_UnpickledSideInput(Extract.out.0)\n",
            "INFO:apache_beam.runners.dataflow.dataflow_runner:2022-07-09T21:35:55.213Z: JOB_MESSAGE_DEBUG: Value \"TestWriteToCSV/Write/WriteImpl/PreFinalize/_UnpickledSideInput(Extract.out.0).output\" materialized.\n",
            "INFO:apache_beam.runners.dataflow.dataflow_runner:2022-07-09T21:35:55.246Z: JOB_MESSAGE_DEBUG: Value \"TestWriteToCSV/Write/WriteImpl/FinalizeWrite/_UnpickledSideInput(Extract.out.0).output\" materialized.\n",
            "INFO:apache_beam.runners.dataflow.dataflow_runner:2022-07-09T21:35:55.280Z: JOB_MESSAGE_BASIC: Executing operation TestWriteToCSV/Write/WriteImpl/PreFinalize/PreFinalize\n",
            "INFO:apache_beam.runners.dataflow.dataflow_runner:2022-07-09T21:35:59.118Z: JOB_MESSAGE_BASIC: Finished operation TestWriteToCSV/Write/WriteImpl/PreFinalize/PreFinalize\n",
            "INFO:apache_beam.runners.dataflow.dataflow_runner:2022-07-09T21:35:59.172Z: JOB_MESSAGE_DEBUG: Value \"TestWriteToCSV/Write/WriteImpl/PreFinalize.out\" materialized.\n",
            "INFO:apache_beam.runners.dataflow.dataflow_runner:2022-07-09T21:35:59.216Z: JOB_MESSAGE_BASIC: Executing operation TestWriteToCSV/Write/WriteImpl/FinalizeWrite/_UnpickledSideInput(PreFinalize.out.0)\n",
            "INFO:apache_beam.runners.dataflow.dataflow_runner:2022-07-09T21:35:59.262Z: JOB_MESSAGE_BASIC: Finished operation TestWriteToCSV/Write/WriteImpl/FinalizeWrite/_UnpickledSideInput(PreFinalize.out.0)\n",
            "INFO:apache_beam.runners.dataflow.dataflow_runner:2022-07-09T21:35:59.371Z: JOB_MESSAGE_DEBUG: Value \"TestWriteToCSV/Write/WriteImpl/FinalizeWrite/_UnpickledSideInput(PreFinalize.out.0).output\" materialized.\n",
            "INFO:apache_beam.runners.dataflow.dataflow_runner:2022-07-09T21:35:59.427Z: JOB_MESSAGE_BASIC: Executing operation TestWriteToCSV/Write/WriteImpl/FinalizeWrite/FinalizeWrite\n",
            "INFO:apache_beam.runners.dataflow.dataflow_runner:2022-07-09T21:36:02.938Z: JOB_MESSAGE_BASIC: Finished operation TestWriteToCSV/Write/WriteImpl/FinalizeWrite/FinalizeWrite\n",
            "INFO:apache_beam.runners.dataflow.dataflow_runner:2022-07-09T21:36:03Z: JOB_MESSAGE_DEBUG: Executing success step success14\n",
            "INFO:apache_beam.runners.dataflow.dataflow_runner:2022-07-09T21:36:03.079Z: JOB_MESSAGE_DETAILED: Cleaning up.\n",
            "INFO:apache_beam.runners.dataflow.dataflow_runner:2022-07-09T21:36:03.118Z: JOB_MESSAGE_DEBUG: Starting worker pool teardown.\n",
            "INFO:apache_beam.runners.dataflow.dataflow_runner:2022-07-09T21:36:03.154Z: JOB_MESSAGE_BASIC: Stopping worker pool...\n",
            "INFO:apache_beam.runners.dataflow.dataflow_runner:2022-07-09T21:36:49.358Z: JOB_MESSAGE_DETAILED: Autoscaling: Resized worker pool from 1 to 0.\n",
            "INFO:apache_beam.runners.dataflow.dataflow_runner:2022-07-09T21:36:49.395Z: JOB_MESSAGE_BASIC: Worker pool stopped.\n",
            "INFO:apache_beam.runners.dataflow.dataflow_runner:2022-07-09T21:36:49.431Z: JOB_MESSAGE_DEBUG: Tearing down pending resources...\n",
            "INFO:apache_beam.runners.dataflow.dataflow_runner:Job 2022-07-09_14_29_43-10064352878954383829 is in state JOB_STATE_DONE\n"
          ]
        }
      ]
    },
    {
      "cell_type": "markdown",
      "metadata": {
        "id": "NFNxYtxW9fP9"
      },
      "source": [
        "### Validación Train en AI Platform (0.5 puntos)\n",
        "\n",
        "Con el comando mostrado a continuación se valida el correcto entrenamiento del modelo usando los datos de las ejecuciones anteriores en GCP con los datos obtenidos almacenados en Google Cloud Storage."
      ]
    },
    {
      "cell_type": "markdown",
      "metadata": {
        "id": "b0fP_5Gy9zfz"
      },
      "source": [
        "Generamos un nombre para el job de entrenamiento y donde se almacenarán los metadatos."
      ]
    },
    {
      "cell_type": "code",
      "metadata": {
        "id": "_eU0FkyLQPt6"
      },
      "source": [
        "JOB = \"troll_detection_batch_$(date +%Y%m%d_%H%M%S)\"\n",
        "JOB_DIR = GCP_WORK_DIR + \"/trainer\""
      ],
      "execution_count": null,
      "outputs": []
    },
    {
      "cell_type": "code",
      "metadata": {
        "id": "3Z33nVs5QSEI",
        "colab": {
          "base_uri": "https://localhost:8080/"
        },
        "outputId": "a9e358bb-6530-4e58-db52-7465699ea39c"
      },
      "source": [
        "! gcloud ai-platform jobs submit training $JOB \\\n",
        "  --module-name trainer.task \\\n",
        "  --package-path trainer \\\n",
        "  --scale-tier basic_gpu \\\n",
        "  --python-version 3.7 \\\n",
        "  --runtime-version 2.1 \\\n",
        "  --region $GCP_REGION \\\n",
        "  --job-dir $JOB_DIR \\\n",
        "  --stream-logs \\\n",
        "  -- \\\n",
        "  --work-dir $GCP_WORK_DIR \\\n",
        "  --epochs 1"
      ],
      "execution_count": null,
      "outputs": [
        {
          "output_type": "stream",
          "name": "stdout",
          "text": [
            "\u001b[1;31mERROR:\u001b[0m (gcloud.ai-platform.jobs.submit.training) HttpError accessing <https://ml.googleapis.com/v1/projects/clase-implementacion/jobs?alt=json>: response: <{'vary': 'Origin, X-Origin, Referer', 'content-type': 'application/json; charset=UTF-8', 'content-encoding': 'gzip', 'date': 'Sat, 09 Jul 2022 21:43:09 GMT', 'server': 'ESF', 'cache-control': 'private', 'x-xss-protection': '0', 'x-frame-options': 'SAMEORIGIN', 'x-content-type-options': 'nosniff', 'transfer-encoding': 'chunked', 'status': 429}>, content <{\n",
            "  \"error\": {\n",
            "    \"code\": 429,\n",
            "    \"message\": \"Quota failure for project clase-implementacion. The request for 1 K80 accelerators exceeds the allowed maximum of 0 A100, 0 K80, 0 P100, 0 P4, 0 T4, 0 TPU_V2, 0 TPU_V2_POD, 0 TPU_V3, 0 TPU_V3_POD, 0 V100 accelerators. To read more about Cloud ML Engine quota, see https://cloud.google.com/ml-engine/quotas.\",\n",
            "    \"status\": \"RESOURCE_EXHAUSTED\",\n",
            "    \"details\": [\n",
            "      {\n",
            "        \"@type\": \"type.googleapis.com/google.rpc.QuotaFailure\",\n",
            "        \"violations\": [\n",
            "          {\n",
            "            \"subject\": \"clase-implementacion\",\n",
            "            \"description\": \"The request for 1 K80 accelerators exceeds the allowed maximum of 0 A100, 0 K80, 0 P100, 0 P4, 0 T4, 0 TPU_V2, 0 TPU_V2_POD, 0 TPU_V3, 0 TPU_V3_POD, 0 V100 accelerators.\"\n",
            "          }\n",
            "        ]\n",
            "      }\n",
            "    ]\n",
            "  }\n",
            "}\n",
            ">\n",
            "This may be due to network connectivity issues. Please check your network settings, and the status of the service you are trying to reach.\n"
          ]
        }
      ]
    },
    {
      "cell_type": "markdown",
      "metadata": {
        "id": "wu5SOWsy9886"
      },
      "source": [
        "### Validación predict en Dataflow (0.25 puntos)\n",
        "\n",
        "Con el comando mostrado a continuación se valida la predicción correcta de los datos de test usando los modelos generados en el comando anterior."
      ]
    },
    {
      "cell_type": "markdown",
      "metadata": {
        "id": "OXoHCgMg-LUD"
      },
      "source": [
        "Generamos un timestamp para el almacenamiento de las inferencias en Google Cloud Storage."
      ]
    },
    {
      "cell_type": "code",
      "metadata": {
        "id": "fmcetQtnQjVo"
      },
      "source": [
        "from datetime import datetime\n",
        "\n",
        "# current date and time\n",
        "TIMESTAMP = datetime.now().strftime('%Y-%m-%d_%H-%M-%S')"
      ],
      "execution_count": null,
      "outputs": []
    },
    {
      "cell_type": "code",
      "metadata": {
        "id": "zT_NxsKDQlxD",
        "colab": {
          "base_uri": "https://localhost:8080/"
        },
        "outputId": "f5b67018-9b46-4de6-c834-c3edfced9d19"
      },
      "source": [
        "# For using sample models: --model-dir gs://$BUCKET_NAME/models/\n",
        "! python3 predict.py \\\n",
        "  --work-dir $GCP_WORK_DIR \\\n",
        "  --model-dir $GCP_WORK_DIR/model/ \\\n",
        "  batch \\\n",
        "  --project $PROJECT_ID \\\n",
        "  --region $GCP_REGION \\\n",
        "  --runner DataflowRunner \\\n",
        "  --temp_location $GCP_WORK_DIR/beam-temp \\\n",
        "  --setup_file ./setup.py \\\n",
        "  --inputs-dir $GCP_WORK_DIR/transformed_data/test/part* \\\n",
        "  --outputs-dir $GCP_WORK_DIR/predictions/$TIMESTAMP"
      ],
      "execution_count": null,
      "outputs": [
        {
          "output_type": "stream",
          "name": "stdout",
          "text": [
            "Namespace(inputs_dir='gs://bucket-clase-implementacion/transformed_data/test/part*', model_dir='gs://bucket-clase-implementacion/model/', outputs_dir='gs://bucket-clase-implementacion/predictions/2022-07-09_21-43-24', verb='batch', work_dir='gs://bucket-clase-implementacion')\n",
            "warning: sdist: standard file not found: should have one of README, README.rst, README.txt, README.md\n",
            "\n",
            "warning: check: missing required meta-data: url\n",
            "\n",
            "warning: check: missing meta-data: either (author and author_email) or (maintainer and maintainer_email) must be supplied\n",
            "\n",
            "WARNING:root:Make sure that locally built Python SDK docker image has Python 3.7 interpreter.\n",
            "Traceback (most recent call last):\n",
            "  File \"predict.py\", line 165, in <module>\n",
            "    run(args.model_dir, source, sink, beam_options)\n",
            "  File \"predict.py\", line 104, in run\n",
            "    | \"Write predictions\" >> sink\n",
            "  File \"/usr/local/lib/python3.7/dist-packages/apache_beam/pipeline.py\", line 556, in __exit__\n",
            "    self.result.wait_until_finish()\n",
            "  File \"/usr/local/lib/python3.7/dist-packages/apache_beam/runners/dataflow/dataflow_runner.py\", line 1633, in wait_until_finish\n",
            "    self)\n",
            "apache_beam.runners.dataflow.dataflow_runner.DataflowRuntimeException: Dataflow pipeline failed. State: FAILED, Error:\n",
            "Traceback (most recent call last):\n",
            "  File \"apache_beam/runners/common.py\", line 1253, in apache_beam.runners.common.DoFnRunner._invoke_lifecycle_method\n",
            "  File \"apache_beam/runners/common.py\", line 504, in apache_beam.runners.common.DoFnInvoker.invoke_setup\n",
            "  File \"predict.py\", line 54, in setup\n",
            "  File \"/usr/local/lib/python3.7/site-packages/tensorflow/python/lib/io/file_io.py\", line 119, in read\n",
            "    return self._prepare_value(self._read_buf.read(length))\n",
            "tensorflow.python.framework.errors_impl.NotFoundError: Error executing an HTTP request: HTTP response code 404 with body '<?xml version='1.0' encoding='UTF-8'?><Error><Code>NoSuchKey</Code><Message>The specified key does not exist.</Message><Details>No such object: bucket-clase-implementacion/model/tokenizer.pkl</Details></Error>'\n",
            "\t when reading gs://bucket-clase-implementacion/model/tokenizer.pkl\n",
            "\n",
            "During handling of the above exception, another exception occurred:\n",
            "\n",
            "Traceback (most recent call last):\n",
            "  File \"/usr/local/lib/python3.7/site-packages/dataflow_worker/batchworker.py\", line 649, in do_work\n",
            "    work_executor.execute()\n",
            "  File \"/usr/local/lib/python3.7/site-packages/dataflow_worker/executor.py\", line 179, in execute\n",
            "    op.start()\n",
            "  File \"apache_beam/runners/worker/operations.py\", line 662, in apache_beam.runners.worker.operations.DoOperation.start\n",
            "  File \"apache_beam/runners/worker/operations.py\", line 664, in apache_beam.runners.worker.operations.DoOperation.start\n",
            "  File \"apache_beam/runners/worker/operations.py\", line 665, in apache_beam.runners.worker.operations.DoOperation.start\n",
            "  File \"apache_beam/runners/worker/operations.py\", line 284, in apache_beam.runners.worker.operations.Operation.start\n",
            "  File \"apache_beam/runners/worker/operations.py\", line 290, in apache_beam.runners.worker.operations.Operation.start\n",
            "  File \"apache_beam/runners/worker/operations.py\", line 611, in apache_beam.runners.worker.operations.DoOperation.setup\n",
            "  File \"apache_beam/runners/worker/operations.py\", line 660, in apache_beam.runners.worker.operations.DoOperation.setup\n",
            "  File \"apache_beam/runners/common.py\", line 1259, in apache_beam.runners.common.DoFnRunner.setup\n",
            "  File \"apache_beam/runners/common.py\", line 1255, in apache_beam.runners.common.DoFnRunner._invoke_lifecycle_method\n",
            "  File \"apache_beam/runners/common.py\", line 1294, in apache_beam.runners.common.DoFnRunner._reraise_augmented\n",
            "  File \"/usr/local/lib/python3.7/site-packages/future/utils/__init__.py\", line 446, in raise_with_traceback\n",
            "    raise exc.with_traceback(traceback)\n",
            "  File \"apache_beam/runners/common.py\", line 1253, in apache_beam.runners.common.DoFnRunner._invoke_lifecycle_method\n",
            "  File \"apache_beam/runners/common.py\", line 504, in apache_beam.runners.common.DoFnInvoker.invoke_setup\n",
            "  File \"predict.py\", line 54, in setup\n",
            "  File \"/usr/local/lib/python3.7/site-packages/tensorflow/python/lib/io/file_io.py\", line 119, in read\n",
            "    return self._prepare_value(self._read_buf.read(length))\n",
            "RuntimeError: tensorflow.python.framework.errors_impl.NotFoundError: Error executing an HTTP request: HTTP response code 404 with body '<?xml version='1.0' encoding='UTF-8'?><Error><Code>NoSuchKey</Code><Message>The specified key does not exist.</Message><Details>No such object: bucket-clase-implementacion/model/tokenizer.pkl</Details></Error>'\n",
            "\t when reading gs://bucket-clase-implementacion/model/tokenizer.pkl [while running 'Predict']\n",
            "\n"
          ]
        }
      ]
    },
    {
      "cell_type": "markdown",
      "metadata": {
        "id": "9GWbfFvwQTGS"
      },
      "source": [
        "# Inferencia online\n",
        "\n",
        "En esta segunda parte de la práctica se realizará un microservicio de inferencia online usando los modelos generados en la primera parte. Para esta parte de la práctica el código de vuestro microservicio deberá estar subido en un repositorio. En la variable de debajo deberéis dejar la URL a vuestro repositorrio pues será el contenido con el que serás evaluado. \n",
        "\n",
        "**Importante:** asegúrate de crear el repositorio de manera pública para poder clonarlo.\n",
        "\n",
        "A continuación os dejo un diagrama con la arquitectura que se va a desarrollar:\n",
        "\n",
        "![online_diagram](https://drive.google.com/uc?export=view&id=1zR7Cwp0Vq1QeTxwLoJ8YJNRM9G5KVh2S)"
      ]
    },
    {
      "cell_type": "code",
      "metadata": {
        "id": "REn23OCIBjXF"
      },
      "source": [
        "REPOSITORIO = \"https://github.com/Chuequi/Practica_Implementacion_Algoritmos-KeepCoding_Bootcamp_BD_IX.git\""
      ],
      "execution_count": null,
      "outputs": []
    },
    {
      "cell_type": "markdown",
      "metadata": {
        "id": "NqBT-b_8BsIR"
      },
      "source": [
        "Creamos el directorio donde trabajaremos."
      ]
    },
    {
      "cell_type": "code",
      "metadata": {
        "id": "VAskyBUAQZHx",
        "colab": {
          "base_uri": "https://localhost:8080/"
        },
        "outputId": "8df8e96a-2faa-4fd7-ddf6-fb80f750e62f"
      },
      "source": [
        "%mkdir /content/online\n",
        "%cd /content/online"
      ],
      "execution_count": null,
      "outputs": [
        {
          "output_type": "stream",
          "name": "stdout",
          "text": [
            "/content/online\n"
          ]
        }
      ]
    },
    {
      "cell_type": "code",
      "metadata": {
        "id": "xlj7lGW3Q6CS",
        "colab": {
          "base_uri": "https://localhost:8080/"
        },
        "outputId": "f3c8d749-65ec-408f-ecb0-d33e688e5eab"
      },
      "source": [
        "# Clone the repository\n",
        "! git clone $REPOSITORIO\n",
        "\n",
        "# Set the working directory to the sample code directory\n",
        "%cd ./Practica_Implementacion_Algoritmos-KeepCoding_Bootcamp_BD_IX\n",
        "\n",
        "# Change to develop\n",
        "! git checkout develop"
      ],
      "execution_count": null,
      "outputs": [
        {
          "output_type": "stream",
          "name": "stdout",
          "text": [
            "Cloning into 'Practica_Implementacion_Algoritmos-KeepCoding_Bootcamp_BD_IX'...\n",
            "remote: Enumerating objects: 47, done.\u001b[K\n",
            "remote: Total 47 (delta 0), reused 0 (delta 0), pack-reused 47\u001b[K\n",
            "Unpacking objects: 100% (47/47), done.\n",
            "/content/Practica_Implementacion_Algoritmos-KeepCoding_Bootcamp_BD_IX\n",
            "error: pathspec 'develop' did not match any file(s) known to git.\n"
          ]
        }
      ]
    },
    {
      "cell_type": "code",
      "metadata": {
        "id": "FndkRszYQ8_f",
        "colab": {
          "base_uri": "https://localhost:8080/",
          "height": 1000
        },
        "outputId": "3063c569-e70a-4e47-8bb1-55b780cbf8ef"
      },
      "source": [
        "! pip install -r requirements.txt"
      ],
      "execution_count": null,
      "outputs": [
        {
          "output_type": "stream",
          "name": "stdout",
          "text": [
            "Looking in indexes: https://pypi.org/simple, https://us-python.pkg.dev/colab-wheels/public/simple/\n",
            "Collecting requests==2.25.0\n",
            "  Downloading requests-2.25.0-py2.py3-none-any.whl (61 kB)\n",
            "\u001b[K     |████████████████████████████████| 61 kB 7.5 MB/s \n",
            "\u001b[?25hCollecting uvicorn==0.12.2\n",
            "  Downloading uvicorn-0.12.2-py3-none-any.whl (45 kB)\n",
            "\u001b[K     |████████████████████████████████| 45 kB 3.6 MB/s \n",
            "\u001b[?25hCollecting fastapi==0.61.2\n",
            "  Downloading fastapi-0.61.2-py3-none-any.whl (48 kB)\n",
            "\u001b[K     |████████████████████████████████| 48 kB 5.0 MB/s \n",
            "\u001b[?25hCollecting h5py==2.10.0\n",
            "  Downloading h5py-2.10.0-cp37-cp37m-manylinux1_x86_64.whl (2.9 MB)\n",
            "\u001b[K     |████████████████████████████████| 2.9 MB 59.8 MB/s \n",
            "\u001b[?25hCollecting scikit-learn==0.23.2\n",
            "  Downloading scikit_learn-0.23.2-cp37-cp37m-manylinux1_x86_64.whl (6.8 MB)\n",
            "\u001b[K     |████████████████████████████████| 6.8 MB 61.7 MB/s \n",
            "\u001b[?25hRequirement already satisfied: scipy==1.4.1 in /usr/local/lib/python3.7/dist-packages (from -r requirements.txt (line 6)) (1.4.1)\n",
            "Collecting tensorflow==2.1.0\n",
            "  Downloading tensorflow-2.1.0-cp37-cp37m-manylinux2010_x86_64.whl (421.8 MB)\n",
            "\u001b[K     |████████████████████████████████| 421.8 MB 24 kB/s \n",
            "\u001b[?25hCollecting loguru==0.5.3\n",
            "  Downloading loguru-0.5.3-py3-none-any.whl (57 kB)\n",
            "\u001b[K     |████████████████████████████████| 57 kB 3.0 MB/s \n",
            "\u001b[?25hRequirement already satisfied: gensim==3.6.0 in /usr/local/lib/python3.7/dist-packages (from -r requirements.txt (line 9)) (3.6.0)\n",
            "Requirement already satisfied: fsspec==0.8.4 in /usr/local/lib/python3.7/dist-packages (from -r requirements.txt (line 10)) (0.8.4)\n",
            "Requirement already satisfied: gcsfs==0.7.1 in /usr/local/lib/python3.7/dist-packages (from -r requirements.txt (line 11)) (0.7.1)\n",
            "Collecting numpy==1.19.5\n",
            "  Downloading numpy-1.19.5-cp37-cp37m-manylinux2010_x86_64.whl (14.8 MB)\n",
            "\u001b[K     |████████████████████████████████| 14.8 MB 53.3 MB/s \n",
            "\u001b[?25hRequirement already satisfied: urllib3<1.27,>=1.21.1 in /usr/local/lib/python3.7/dist-packages (from requests==2.25.0->-r requirements.txt (line 1)) (1.24.3)\n",
            "Requirement already satisfied: certifi>=2017.4.17 in /usr/local/lib/python3.7/dist-packages (from requests==2.25.0->-r requirements.txt (line 1)) (2022.6.15)\n",
            "Requirement already satisfied: idna<3,>=2.5 in /usr/local/lib/python3.7/dist-packages (from requests==2.25.0->-r requirements.txt (line 1)) (2.10)\n",
            "Requirement already satisfied: chardet<4,>=3.0.2 in /usr/local/lib/python3.7/dist-packages (from requests==2.25.0->-r requirements.txt (line 1)) (3.0.4)\n",
            "Requirement already satisfied: typing-extensions in /usr/local/lib/python3.7/dist-packages (from uvicorn==0.12.2->-r requirements.txt (line 2)) (3.7.4.3)\n",
            "Collecting h11>=0.8\n",
            "  Downloading h11-0.13.0-py3-none-any.whl (58 kB)\n",
            "\u001b[K     |████████████████████████████████| 58 kB 8.1 MB/s \n",
            "\u001b[?25hRequirement already satisfied: click==7.* in /usr/local/lib/python3.7/dist-packages (from uvicorn==0.12.2->-r requirements.txt (line 2)) (7.1.2)\n",
            "Collecting starlette==0.13.6\n",
            "  Downloading starlette-0.13.6-py3-none-any.whl (59 kB)\n",
            "\u001b[K     |████████████████████████████████| 59 kB 9.6 MB/s \n",
            "\u001b[?25hRequirement already satisfied: pydantic<2.0.0,>=1.0.0 in /usr/local/lib/python3.7/dist-packages (from fastapi==0.61.2->-r requirements.txt (line 3)) (1.8.2)\n",
            "Requirement already satisfied: six in /usr/local/lib/python3.7/dist-packages (from h5py==2.10.0->-r requirements.txt (line 4)) (1.15.0)\n",
            "Requirement already satisfied: joblib>=0.11 in /usr/local/lib/python3.7/dist-packages (from scikit-learn==0.23.2->-r requirements.txt (line 5)) (1.1.0)\n",
            "Requirement already satisfied: threadpoolctl>=2.0.0 in /usr/local/lib/python3.7/dist-packages (from scikit-learn==0.23.2->-r requirements.txt (line 5)) (3.1.0)\n",
            "Requirement already satisfied: protobuf>=3.8.0 in /usr/local/lib/python3.7/dist-packages (from tensorflow==2.1.0->-r requirements.txt (line 7)) (3.17.3)\n",
            "Collecting keras-applications>=1.0.8\n",
            "  Downloading Keras_Applications-1.0.8-py3-none-any.whl (50 kB)\n",
            "\u001b[K     |████████████████████████████████| 50 kB 9.5 MB/s \n",
            "\u001b[?25hRequirement already satisfied: absl-py>=0.7.0 in /usr/local/lib/python3.7/dist-packages (from tensorflow==2.1.0->-r requirements.txt (line 7)) (1.1.0)\n",
            "Requirement already satisfied: opt-einsum>=2.3.2 in /usr/local/lib/python3.7/dist-packages (from tensorflow==2.1.0->-r requirements.txt (line 7)) (3.3.0)\n",
            "Collecting tensorflow-estimator<2.2.0,>=2.1.0rc0\n",
            "  Downloading tensorflow_estimator-2.1.0-py2.py3-none-any.whl (448 kB)\n",
            "\u001b[K     |████████████████████████████████| 448 kB 35.7 MB/s \n",
            "\u001b[?25hCollecting gast==0.2.2\n",
            "  Downloading gast-0.2.2.tar.gz (10 kB)\n",
            "Requirement already satisfied: termcolor>=1.1.0 in /usr/local/lib/python3.7/dist-packages (from tensorflow==2.1.0->-r requirements.txt (line 7)) (1.1.0)\n",
            "Requirement already satisfied: wheel>=0.26 in /usr/local/lib/python3.7/dist-packages (from tensorflow==2.1.0->-r requirements.txt (line 7)) (0.37.1)\n",
            "Requirement already satisfied: grpcio>=1.8.6 in /usr/local/lib/python3.7/dist-packages (from tensorflow==2.1.0->-r requirements.txt (line 7)) (1.46.3)\n",
            "Collecting tensorboard<2.2.0,>=2.1.0\n",
            "  Downloading tensorboard-2.1.1-py3-none-any.whl (3.8 MB)\n",
            "\u001b[K     |████████████████████████████████| 3.8 MB 30.7 MB/s \n",
            "\u001b[?25hRequirement already satisfied: keras-preprocessing>=1.1.0 in /usr/local/lib/python3.7/dist-packages (from tensorflow==2.1.0->-r requirements.txt (line 7)) (1.1.2)\n",
            "Requirement already satisfied: wrapt>=1.11.1 in /usr/local/lib/python3.7/dist-packages (from tensorflow==2.1.0->-r requirements.txt (line 7)) (1.14.1)\n",
            "Requirement already satisfied: astor>=0.6.0 in /usr/local/lib/python3.7/dist-packages (from tensorflow==2.1.0->-r requirements.txt (line 7)) (0.8.1)\n",
            "Requirement already satisfied: google-pasta>=0.1.6 in /usr/local/lib/python3.7/dist-packages (from tensorflow==2.1.0->-r requirements.txt (line 7)) (0.2.0)\n",
            "Requirement already satisfied: smart-open>=1.2.1 in /usr/local/lib/python3.7/dist-packages (from gensim==3.6.0->-r requirements.txt (line 9)) (5.2.1)\n",
            "Requirement already satisfied: decorator in /usr/local/lib/python3.7/dist-packages (from gcsfs==0.7.1->-r requirements.txt (line 11)) (4.4.2)\n",
            "Requirement already satisfied: aiohttp in /usr/local/lib/python3.7/dist-packages (from gcsfs==0.7.1->-r requirements.txt (line 11)) (3.8.1)\n",
            "Requirement already satisfied: google-auth-oauthlib in /usr/local/lib/python3.7/dist-packages (from gcsfs==0.7.1->-r requirements.txt (line 11)) (0.4.6)\n",
            "Requirement already satisfied: google-auth>=1.2 in /usr/local/lib/python3.7/dist-packages (from gcsfs==0.7.1->-r requirements.txt (line 11)) (1.35.0)\n",
            "Requirement already satisfied: setuptools>=40.3.0 in /usr/local/lib/python3.7/dist-packages (from google-auth>=1.2->gcsfs==0.7.1->-r requirements.txt (line 11)) (57.4.0)\n",
            "Requirement already satisfied: pyasn1-modules>=0.2.1 in /usr/local/lib/python3.7/dist-packages (from google-auth>=1.2->gcsfs==0.7.1->-r requirements.txt (line 11)) (0.2.8)\n",
            "Requirement already satisfied: cachetools<5.0,>=2.0.0 in /usr/local/lib/python3.7/dist-packages (from google-auth>=1.2->gcsfs==0.7.1->-r requirements.txt (line 11)) (3.1.1)\n",
            "Requirement already satisfied: rsa<5,>=3.1.4 in /usr/local/lib/python3.7/dist-packages (from google-auth>=1.2->gcsfs==0.7.1->-r requirements.txt (line 11)) (4.8)\n",
            "Requirement already satisfied: pyasn1<0.5.0,>=0.4.6 in /usr/local/lib/python3.7/dist-packages (from pyasn1-modules>=0.2.1->google-auth>=1.2->gcsfs==0.7.1->-r requirements.txt (line 11)) (0.4.8)\n",
            "Requirement already satisfied: werkzeug>=0.11.15 in /usr/local/lib/python3.7/dist-packages (from tensorboard<2.2.0,>=2.1.0->tensorflow==2.1.0->-r requirements.txt (line 7)) (1.0.1)\n",
            "Requirement already satisfied: markdown>=2.6.8 in /usr/local/lib/python3.7/dist-packages (from tensorboard<2.2.0,>=2.1.0->tensorflow==2.1.0->-r requirements.txt (line 7)) (3.3.7)\n",
            "Requirement already satisfied: requests-oauthlib>=0.7.0 in /usr/local/lib/python3.7/dist-packages (from google-auth-oauthlib->gcsfs==0.7.1->-r requirements.txt (line 11)) (1.3.1)\n",
            "Requirement already satisfied: importlib-metadata>=4.4 in /usr/local/lib/python3.7/dist-packages (from markdown>=2.6.8->tensorboard<2.2.0,>=2.1.0->tensorflow==2.1.0->-r requirements.txt (line 7)) (4.11.4)\n",
            "Requirement already satisfied: zipp>=0.5 in /usr/local/lib/python3.7/dist-packages (from importlib-metadata>=4.4->markdown>=2.6.8->tensorboard<2.2.0,>=2.1.0->tensorflow==2.1.0->-r requirements.txt (line 7)) (3.8.0)\n",
            "Requirement already satisfied: oauthlib>=3.0.0 in /usr/local/lib/python3.7/dist-packages (from requests-oauthlib>=0.7.0->google-auth-oauthlib->gcsfs==0.7.1->-r requirements.txt (line 11)) (3.2.0)\n",
            "Requirement already satisfied: multidict<7.0,>=4.5 in /usr/local/lib/python3.7/dist-packages (from aiohttp->gcsfs==0.7.1->-r requirements.txt (line 11)) (6.0.2)\n",
            "Requirement already satisfied: aiosignal>=1.1.2 in /usr/local/lib/python3.7/dist-packages (from aiohttp->gcsfs==0.7.1->-r requirements.txt (line 11)) (1.2.0)\n",
            "Requirement already satisfied: asynctest==0.13.0 in /usr/local/lib/python3.7/dist-packages (from aiohttp->gcsfs==0.7.1->-r requirements.txt (line 11)) (0.13.0)\n",
            "Requirement already satisfied: attrs>=17.3.0 in /usr/local/lib/python3.7/dist-packages (from aiohttp->gcsfs==0.7.1->-r requirements.txt (line 11)) (21.4.0)\n",
            "Requirement already satisfied: async-timeout<5.0,>=4.0.0a3 in /usr/local/lib/python3.7/dist-packages (from aiohttp->gcsfs==0.7.1->-r requirements.txt (line 11)) (4.0.2)\n",
            "Requirement already satisfied: yarl<2.0,>=1.0 in /usr/local/lib/python3.7/dist-packages (from aiohttp->gcsfs==0.7.1->-r requirements.txt (line 11)) (1.7.2)\n",
            "Requirement already satisfied: frozenlist>=1.1.1 in /usr/local/lib/python3.7/dist-packages (from aiohttp->gcsfs==0.7.1->-r requirements.txt (line 11)) (1.3.0)\n",
            "Requirement already satisfied: charset-normalizer<3.0,>=2.0 in /usr/local/lib/python3.7/dist-packages (from aiohttp->gcsfs==0.7.1->-r requirements.txt (line 11)) (2.1.0)\n",
            "Building wheels for collected packages: gast\n",
            "  Building wheel for gast (setup.py) ... \u001b[?25l\u001b[?25hdone\n",
            "  Created wheel for gast: filename=gast-0.2.2-py3-none-any.whl size=7554 sha256=81dc58211728872675ceea5ea0e278375f94194fffe45ccc301039fefcee64c9\n",
            "  Stored in directory: /root/.cache/pip/wheels/21/7f/02/420f32a803f7d0967b48dd823da3f558c5166991bfd204eef3\n",
            "Successfully built gast\n",
            "Installing collected packages: requests, numpy, h5py, tensorflow-estimator, tensorboard, starlette, keras-applications, h11, gast, uvicorn, tensorflow, scikit-learn, loguru, fastapi\n",
            "  Attempting uninstall: requests\n",
            "    Found existing installation: requests 2.28.1\n",
            "    Uninstalling requests-2.28.1:\n",
            "      Successfully uninstalled requests-2.28.1\n",
            "  Attempting uninstall: numpy\n",
            "    Found existing installation: numpy 1.20.0\n",
            "    Uninstalling numpy-1.20.0:\n",
            "      Successfully uninstalled numpy-1.20.0\n",
            "  Attempting uninstall: h5py\n",
            "    Found existing installation: h5py 3.1.0\n",
            "    Uninstalling h5py-3.1.0:\n",
            "      Successfully uninstalled h5py-3.1.0\n",
            "  Attempting uninstall: tensorflow-estimator\n",
            "    Found existing installation: tensorflow-estimator 2.8.0\n",
            "    Uninstalling tensorflow-estimator-2.8.0:\n",
            "      Successfully uninstalled tensorflow-estimator-2.8.0\n",
            "  Attempting uninstall: tensorboard\n",
            "    Found existing installation: tensorboard 2.8.0\n",
            "    Uninstalling tensorboard-2.8.0:\n",
            "      Successfully uninstalled tensorboard-2.8.0\n",
            "  Attempting uninstall: gast\n",
            "    Found existing installation: gast 0.5.3\n",
            "    Uninstalling gast-0.5.3:\n",
            "      Successfully uninstalled gast-0.5.3\n",
            "  Attempting uninstall: tensorflow\n",
            "    Found existing installation: tensorflow 2.8.2+zzzcolab20220527125636\n",
            "    Uninstalling tensorflow-2.8.2+zzzcolab20220527125636:\n",
            "      Successfully uninstalled tensorflow-2.8.2+zzzcolab20220527125636\n",
            "  Attempting uninstall: scikit-learn\n",
            "    Found existing installation: scikit-learn 1.0.2\n",
            "    Uninstalling scikit-learn-1.0.2:\n",
            "      Successfully uninstalled scikit-learn-1.0.2\n",
            "\u001b[31mERROR: pip's dependency resolver does not currently take into account all the packages that are installed. This behaviour is the source of the following dependency conflicts.\n",
            "yellowbrick 1.4 requires scikit-learn>=1.0.0, but you have scikit-learn 0.23.2 which is incompatible.\n",
            "xarray-einstats 0.2.2 requires numpy>=1.21, but you have numpy 1.19.5 which is incompatible.\n",
            "tensorflow-probability 0.16.0 requires gast>=0.3.2, but you have gast 0.2.2 which is incompatible.\n",
            "pymc3 3.11.4 requires cachetools>=4.2.1, but you have cachetools 3.1.1 which is incompatible.\n",
            "imbalanced-learn 0.8.1 requires scikit-learn>=0.24, but you have scikit-learn 0.23.2 which is incompatible.\n",
            "google-colab 1.0.0 requires requests~=2.23.0, but you have requests 2.25.0 which is incompatible.\n",
            "datascience 0.10.6 requires folium==0.2.1, but you have folium 0.8.3 which is incompatible.\n",
            "albumentations 0.1.12 requires imgaug<0.2.7,>=0.2.5, but you have imgaug 0.2.9 which is incompatible.\u001b[0m\n",
            "Successfully installed fastapi-0.61.2 gast-0.2.2 h11-0.13.0 h5py-2.10.0 keras-applications-1.0.8 loguru-0.5.3 numpy-1.19.5 requests-2.25.0 scikit-learn-0.23.2 starlette-0.13.6 tensorboard-2.1.1 tensorflow-2.1.0 tensorflow-estimator-2.1.0 uvicorn-0.12.2\n"
          ]
        },
        {
          "output_type": "display_data",
          "data": {
            "application/vnd.colab-display-data+json": {
              "pip_warning": {
                "packages": [
                  "numpy",
                  "requests"
                ]
              }
            }
          },
          "metadata": {}
        }
      ]
    },
    {
      "cell_type": "code",
      "metadata": {
        "id": "IefrYp6tJ4PE",
        "colab": {
          "base_uri": "https://localhost:8080/"
        },
        "outputId": "f7eb84dd-d171-40cd-9c74-d87401af68a6"
      },
      "source": [
        "! pip install pyngrok"
      ],
      "execution_count": null,
      "outputs": [
        {
          "output_type": "stream",
          "name": "stdout",
          "text": [
            "Looking in indexes: https://pypi.org/simple, https://us-python.pkg.dev/colab-wheels/public/simple/\n",
            "Collecting pyngrok\n",
            "  Downloading pyngrok-5.1.0.tar.gz (745 kB)\n",
            "\u001b[K     |████████████████████████████████| 745 kB 32.0 MB/s \n",
            "\u001b[?25hRequirement already satisfied: PyYAML in /usr/local/lib/python3.7/dist-packages (from pyngrok) (3.13)\n",
            "Building wheels for collected packages: pyngrok\n",
            "  Building wheel for pyngrok (setup.py) ... \u001b[?25l\u001b[?25hdone\n",
            "  Created wheel for pyngrok: filename=pyngrok-5.1.0-py3-none-any.whl size=19007 sha256=28c322248bf91b55a0e5f510f4a57f170c80ca1c821899708ae62b619d1f5602\n",
            "  Stored in directory: /root/.cache/pip/wheels/bf/e6/af/ccf6598ecefecd44104069371795cb9b3afbcd16987f6ccfb3\n",
            "Successfully built pyngrok\n",
            "Installing collected packages: pyngrok\n",
            "Successfully installed pyngrok-5.1.0\n"
          ]
        }
      ]
    },
    {
      "cell_type": "markdown",
      "metadata": {
        "id": "qNde3TEzCmjg"
      },
      "source": [
        "Para cuando estes modificando, probando y ejecutando ficheros os dejo en las celdas de abajo los comandos de git necesarios para interaccionar con vuestro repositorio en caso de que queráis:"
      ]
    },
    {
      "cell_type": "code",
      "metadata": {
        "id": "qsjWKcYZC6mm",
        "colab": {
          "base_uri": "https://localhost:8080/"
        },
        "outputId": "daf64021-1f5b-48f9-8d08-7a69eb3a1b19"
      },
      "source": [
        "! git status"
      ],
      "execution_count": null,
      "outputs": [
        {
          "output_type": "stream",
          "name": "stdout",
          "text": [
            "On branch main\n",
            "Your branch is up to date with 'origin/main'.\n",
            "\n",
            "nothing to commit, working tree clean\n"
          ]
        }
      ]
    },
    {
      "cell_type": "code",
      "metadata": {
        "id": "PuVHFtqvC8Kw"
      },
      "source": [
        "! git add <files>\n",
        "! git commit -m \"Nuevos cambios\"\n",
        "! git push origin master"
      ],
      "execution_count": null,
      "outputs": []
    },
    {
      "cell_type": "markdown",
      "metadata": {
        "id": "H88vcTU_DDpv"
      },
      "source": [
        "Será necesario definir y establecer la variable de entorno `DEFAULT_MODEL_PATH` para definir donde están almacenados nuestros modelos para hacer inferencia."
      ]
    },
    {
      "cell_type": "code",
      "metadata": {
        "id": "Tn9xsgx4u5xP"
      },
      "source": [
        "import os\n",
        "\n",
        "os.environ[\"DEFAULT_MODEL_PATH\"] = \"/content/batch/model/\""
      ],
      "execution_count": null,
      "outputs": []
    },
    {
      "cell_type": "markdown",
      "metadata": {
        "id": "z-IslHWwDSTU"
      },
      "source": [
        "### Validación inferencia online en local (1.75 puntos)\n",
        "\n",
        "Se validará la correcta inferencia del microservio en local utilizando Swagger. Para ejecutar en local solo hay que ejecutar los comandos a continuación. Después, entrar en la URL proporcionada por ngrock `<ngrok_url>/docs` para acceder a swagger y probar la inferencia como vimos en clase."
      ]
    },
    {
      "cell_type": "code",
      "metadata": {
        "id": "81vGToBWJ_h-",
        "colab": {
          "base_uri": "https://localhost:8080/"
        },
        "outputId": "4c9f1b44-139d-4978-aac8-7b534cd31872"
      },
      "source": [
        "# For testing purposes\n",
        "import nest_asyncio\n",
        "from pyngrok import ngrok\n",
        "\n",
        "conf.get_default()=auth_token=\"2BUiW2geHictg0dJyqoS9g5WCGn_4dXFdVgoXWAE3fjNd6xKT\"\n",
        "ngrok_tunnel = ngrok.connect(8000)\n",
        "print('Public URL:', ngrok_tunnel.public_url)\n",
        "nest_asyncio.apply()"
      ],
      "execution_count": null,
      "outputs": [
        {
          "output_type": "stream",
          "name": "stdout",
          "text": [
            "Public URL: http://cd08-34-124-252-237.ngrok.io\n"
          ]
        }
      ]
    },
    {
      "cell_type": "code",
      "metadata": {
        "id": "hFeSh7rcuG7L",
        "colab": {
          "base_uri": "https://localhost:8080/"
        },
        "outputId": "3d381a39-9e73-4851-90c6-e688e51850e7"
      },
      "source": [
        "! uvicorn app.main:app --port 8000"
      ],
      "execution_count": null,
      "outputs": [
        {
          "output_type": "stream",
          "name": "stdout",
          "text": [
            "2022-07-09 22:10:38.400385: W tensorflow/stream_executor/platform/default/dso_loader.cc:55] Could not load dynamic library 'libnvinfer.so.6'; dlerror: libnvinfer.so.6: cannot open shared object file: No such file or directory; LD_LIBRARY_PATH: /usr/lib64-nvidia\n",
            "2022-07-09 22:10:38.400559: W tensorflow/stream_executor/platform/default/dso_loader.cc:55] Could not load dynamic library 'libnvinfer_plugin.so.6'; dlerror: libnvinfer_plugin.so.6: cannot open shared object file: No such file or directory; LD_LIBRARY_PATH: /usr/lib64-nvidia\n",
            "2022-07-09 22:10:38.400578: W tensorflow/compiler/tf2tensorrt/utils/py_utils.cc:30] Cannot dlopen some TensorRT libraries. If you would like to use Nvidia GPU with TensorRT, please make sure the missing libraries mentioned above are installed properly.\n",
            "\u001b[32mINFO\u001b[0m:     Started server process [\u001b[36m60727\u001b[0m]\n",
            "\u001b[32mINFO\u001b[0m:     Waiting for application startup.\n",
            "\u001b[32m2022-07-09 22:10:39.278\u001b[0m | \u001b[1mINFO    \u001b[0m | \u001b[36mapp.core.event_handlers\u001b[0m:\u001b[36mstartup\u001b[0m:\u001b[36m22\u001b[0m - \u001b[1mRunning app start handler.\u001b[0m\n",
            "2022-07-09 22:10:39.325439: I tensorflow/stream_executor/platform/default/dso_loader.cc:44] Successfully opened dynamic library libcuda.so.1\n",
            "2022-07-09 22:10:39.353633: I tensorflow/stream_executor/cuda/cuda_gpu_executor.cc:981] successful NUMA node read from SysFS had negative value (-1), but there must be at least one NUMA node, so returning NUMA node zero\n",
            "2022-07-09 22:10:39.354227: I tensorflow/core/common_runtime/gpu/gpu_device.cc:1555] Found device 0 with properties: \n",
            "pciBusID: 0000:00:04.0 name: Tesla T4 computeCapability: 7.5\n",
            "coreClock: 1.59GHz coreCount: 40 deviceMemorySize: 14.75GiB deviceMemoryBandwidth: 298.08GiB/s\n",
            "2022-07-09 22:10:39.366573: I tensorflow/stream_executor/platform/default/dso_loader.cc:44] Successfully opened dynamic library libcudart.so.10.1\n",
            "2022-07-09 22:10:39.548169: I tensorflow/stream_executor/platform/default/dso_loader.cc:44] Successfully opened dynamic library libcublas.so.10\n",
            "2022-07-09 22:10:39.549173: I tensorflow/stream_executor/platform/default/dso_loader.cc:44] Successfully opened dynamic library libcufft.so.10\n",
            "2022-07-09 22:10:39.549796: I tensorflow/stream_executor/platform/default/dso_loader.cc:44] Successfully opened dynamic library libcurand.so.10\n",
            "2022-07-09 22:10:39.729436: I tensorflow/stream_executor/platform/default/dso_loader.cc:44] Successfully opened dynamic library libcusolver.so.10\n",
            "2022-07-09 22:10:39.744832: I tensorflow/stream_executor/platform/default/dso_loader.cc:44] Successfully opened dynamic library libcusparse.so.10\n",
            "2022-07-09 22:10:40.075800: I tensorflow/stream_executor/platform/default/dso_loader.cc:44] Successfully opened dynamic library libcudnn.so.7\n",
            "2022-07-09 22:10:40.075985: I tensorflow/stream_executor/cuda/cuda_gpu_executor.cc:981] successful NUMA node read from SysFS had negative value (-1), but there must be at least one NUMA node, so returning NUMA node zero\n",
            "2022-07-09 22:10:40.076655: I tensorflow/stream_executor/cuda/cuda_gpu_executor.cc:981] successful NUMA node read from SysFS had negative value (-1), but there must be at least one NUMA node, so returning NUMA node zero\n",
            "2022-07-09 22:10:40.077191: I tensorflow/core/common_runtime/gpu/gpu_device.cc:1697] Adding visible gpu devices: 0\n",
            "2022-07-09 22:10:40.077501: I tensorflow/core/platform/cpu_feature_guard.cc:142] Your CPU supports instructions that this TensorFlow binary was not compiled to use: AVX2 AVX512F FMA\n",
            "2022-07-09 22:10:40.081773: I tensorflow/core/platform/profile_utils/cpu_utils.cc:94] CPU Frequency: 2000200000 Hz\n",
            "2022-07-09 22:10:40.082156: I tensorflow/compiler/xla/service/service.cc:168] XLA service 0x1d7ca00 initialized for platform Host (this does not guarantee that XLA will be used). Devices:\n",
            "2022-07-09 22:10:40.082190: I tensorflow/compiler/xla/service/service.cc:176]   StreamExecutor device (0): Host, Default Version\n",
            "2022-07-09 22:10:40.177527: I tensorflow/stream_executor/cuda/cuda_gpu_executor.cc:981] successful NUMA node read from SysFS had negative value (-1), but there must be at least one NUMA node, so returning NUMA node zero\n",
            "2022-07-09 22:10:40.178255: I tensorflow/compiler/xla/service/service.cc:168] XLA service 0x1d7cbc0 initialized for platform CUDA (this does not guarantee that XLA will be used). Devices:\n",
            "2022-07-09 22:10:40.178291: I tensorflow/compiler/xla/service/service.cc:176]   StreamExecutor device (0): Tesla T4, Compute Capability 7.5\n",
            "2022-07-09 22:10:40.178508: I tensorflow/stream_executor/cuda/cuda_gpu_executor.cc:981] successful NUMA node read from SysFS had negative value (-1), but there must be at least one NUMA node, so returning NUMA node zero\n",
            "2022-07-09 22:10:40.179057: I tensorflow/core/common_runtime/gpu/gpu_device.cc:1555] Found device 0 with properties: \n",
            "pciBusID: 0000:00:04.0 name: Tesla T4 computeCapability: 7.5\n",
            "coreClock: 1.59GHz coreCount: 40 deviceMemorySize: 14.75GiB deviceMemoryBandwidth: 298.08GiB/s\n",
            "2022-07-09 22:10:40.179124: I tensorflow/stream_executor/platform/default/dso_loader.cc:44] Successfully opened dynamic library libcudart.so.10.1\n",
            "2022-07-09 22:10:40.179146: I tensorflow/stream_executor/platform/default/dso_loader.cc:44] Successfully opened dynamic library libcublas.so.10\n",
            "2022-07-09 22:10:40.179168: I tensorflow/stream_executor/platform/default/dso_loader.cc:44] Successfully opened dynamic library libcufft.so.10\n",
            "2022-07-09 22:10:40.179189: I tensorflow/stream_executor/platform/default/dso_loader.cc:44] Successfully opened dynamic library libcurand.so.10\n",
            "2022-07-09 22:10:40.179212: I tensorflow/stream_executor/platform/default/dso_loader.cc:44] Successfully opened dynamic library libcusolver.so.10\n",
            "2022-07-09 22:10:40.179233: I tensorflow/stream_executor/platform/default/dso_loader.cc:44] Successfully opened dynamic library libcusparse.so.10\n",
            "2022-07-09 22:10:40.179252: I tensorflow/stream_executor/platform/default/dso_loader.cc:44] Successfully opened dynamic library libcudnn.so.7\n",
            "2022-07-09 22:10:40.179327: I tensorflow/stream_executor/cuda/cuda_gpu_executor.cc:981] successful NUMA node read from SysFS had negative value (-1), but there must be at least one NUMA node, so returning NUMA node zero\n",
            "2022-07-09 22:10:40.179934: I tensorflow/stream_executor/cuda/cuda_gpu_executor.cc:981] successful NUMA node read from SysFS had negative value (-1), but there must be at least one NUMA node, so returning NUMA node zero\n",
            "2022-07-09 22:10:40.180454: I tensorflow/core/common_runtime/gpu/gpu_device.cc:1697] Adding visible gpu devices: 0\n",
            "2022-07-09 22:10:40.180528: I tensorflow/stream_executor/platform/default/dso_loader.cc:44] Successfully opened dynamic library libcudart.so.10.1\n",
            "2022-07-09 22:10:40.181767: I tensorflow/core/common_runtime/gpu/gpu_device.cc:1096] Device interconnect StreamExecutor with strength 1 edge matrix:\n",
            "2022-07-09 22:10:40.181798: I tensorflow/core/common_runtime/gpu/gpu_device.cc:1102]      0 \n",
            "2022-07-09 22:10:40.181811: I tensorflow/core/common_runtime/gpu/gpu_device.cc:1115] 0:   N \n",
            "2022-07-09 22:10:40.181946: I tensorflow/stream_executor/cuda/cuda_gpu_executor.cc:981] successful NUMA node read from SysFS had negative value (-1), but there must be at least one NUMA node, so returning NUMA node zero\n",
            "2022-07-09 22:10:40.182524: I tensorflow/stream_executor/cuda/cuda_gpu_executor.cc:981] successful NUMA node read from SysFS had negative value (-1), but there must be at least one NUMA node, so returning NUMA node zero\n",
            "2022-07-09 22:10:40.183056: W tensorflow/core/common_runtime/gpu/gpu_bfc_allocator.cc:39] Overriding allow_growth setting because the TF_FORCE_GPU_ALLOW_GROWTH environment variable is set. Original config value was 0.\n",
            "2022-07-09 22:10:40.183096: I tensorflow/core/common_runtime/gpu/gpu_device.cc:1241] Created TensorFlow device (/job:localhost/replica:0/task:0/device:GPU:0 with 14257 MB memory) -> physical GPU (device: 0, name: Tesla T4, pci bus id: 0000:00:04.0, compute capability: 7.5)\n",
            "\u001b[32mINFO\u001b[0m:     Application startup complete.\n",
            "\u001b[32mINFO\u001b[0m:     Uvicorn running on \u001b[1mhttp://127.0.0.1:8000\u001b[0m (Press CTRL+C to quit)\n",
            "\u001b[32mINFO\u001b[0m:     Shutting down\n",
            "\u001b[32mINFO\u001b[0m:     Finished server process [\u001b[36m60727\u001b[0m]\n"
          ]
        }
      ]
    },
    {
      "cell_type": "markdown",
      "metadata": {
        "id": "fuLtOjukEMIl"
      },
      "source": [
        "### Validación inferencia online en GCP (1.75 puntos)\n",
        "\n",
        "Se validará el correcto funcionamiento del microservicio haciendo una petición POST de inferencia a través de curl al microservicio desplegado en GCP."
      ]
    },
    {
      "cell_type": "markdown",
      "metadata": {
        "id": "MX1MiTGuD2KS"
      },
      "source": [
        "Primero, contruiremos una imagen Docker con el microservicio y subiremos el desarrollo al Container Repository en GCP a través de Cloud Build."
      ]
    },
    {
      "cell_type": "code",
      "metadata": {
        "id": "PRhq-d_E7-CY",
        "colab": {
          "base_uri": "https://localhost:8080/"
        },
        "outputId": "6dce9690-21ba-41dc-cd81-905df72b58fc"
      },
      "source": [
        "! gcloud builds submit --tag gcr.io/$PROJECT_ID/troll-detection-online-service"
      ],
      "execution_count": null,
      "outputs": [
        {
          "output_type": "stream",
          "name": "stdout",
          "text": [
            "Creating temporary tarball archive of 44 file(s) totalling 18.8 KiB before compression.\n",
            "Uploading tarball of [.] to [gs://clase-implementacion_cloudbuild/source/1657226074.306554-25adbea34d634047a41a8fd37d2758ad.tgz]\n",
            "API [cloudbuild.googleapis.com] not enabled on project [354989944294]. Would you\n",
            " like to enable and retry (this will take a few minutes)? (y/N)?  y\n",
            "\n",
            "Enabling service [cloudbuild.googleapis.com] on project [354989944294]...\n",
            "Operation \"operations/acf.p2-354989944294-9413dc50-e871-4daa-82d1-3b1457d87016\" finished successfully.\n",
            "Created [https://cloudbuild.googleapis.com/v1/projects/clase-implementacion/locations/global/builds/718d1b06-b63b-4c20-bb4b-9240830c82fc].\n",
            "Logs are available at [https://console.cloud.google.com/cloud-build/builds/718d1b06-b63b-4c20-bb4b-9240830c82fc?project=354989944294].\n",
            " REMOTE BUILD OUTPUT\n",
            "starting build \"718d1b06-b63b-4c20-bb4b-9240830c82fc\"\n",
            "\n",
            "FETCHSOURCE\n",
            "Fetching storage object: gs://clase-implementacion_cloudbuild/source/1657226074.306554-25adbea34d634047a41a8fd37d2758ad.tgz#1657226075389067\n",
            "Copying gs://clase-implementacion_cloudbuild/source/1657226074.306554-25adbea34d634047a41a8fd37d2758ad.tgz#1657226075389067...\n",
            "/ [1 files][  4.4 KiB/  4.4 KiB]                                                \n",
            "Operation completed over 1 objects/4.4 KiB.\n",
            "BUILD\n",
            "Already have image (with digest): gcr.io/cloud-builders/docker\n",
            "invalid argument \"gcr.io//troll-detection-online-service\" for \"-t, --tag\" flag: invalid reference format\n",
            "See 'docker build --help'.\n",
            "ERROR\n",
            "ERROR: build step 0 \"gcr.io/cloud-builders/docker\" failed: step exited with non-zero status: 125\n",
            "\n",
            "\n",
            "BUILD FAILURE: Build step failure: build step 0 \"gcr.io/cloud-builders/docker\" failed: step exited with non-zero status: 125\n",
            "\u001b[1;31mERROR:\u001b[0m (gcloud.builds.submit) build 718d1b06-b63b-4c20-bb4b-9240830c82fc completed with status \"FAILURE\"\n"
          ]
        }
      ]
    },
    {
      "cell_type": "markdown",
      "metadata": {
        "id": "aYVptQ0WEEd-"
      },
      "source": [
        "Desplegaremos la imagen Docker generada en el Container Registry en el servicio de Cloud Run. Después, validaremos que las inferencias funcionan en GCP usando el comando mostrado a continuación:"
      ]
    },
    {
      "cell_type": "code",
      "metadata": {
        "id": "KC0honui-W23"
      },
      "source": [
        "! curl -X POST \"https://troll-detection-service-g2v7skqfeq-uc.a.run.app/api/model/predict\" -H  \"accept: application/json\" -H  \"Content-Type: application/json\" -d \"{\\\"text\\\":\\\"i hate you\\\"}\""
      ],
      "execution_count": null,
      "outputs": []
    },
    {
      "cell_type": "markdown",
      "metadata": {
        "id": "ZvBWPoGGKwuJ"
      },
      "source": [
        "# Detección de Trolls en Twitch en Streaming\n",
        "\n",
        "En esta última parte de la práctica se realizará un pipeline de inferencia en tiempo real de un chat de Twitch alcualmente en vivo. Para ello, usaremos mi canal de Twitch `https://www.twitch.tv/franalgaba` donde tengo un bot deplegado poniendo mensajes troll y no troll de forma aleatoria del dataset que hemos usado en la primera parte.\n",
        "\n",
        "Para acceder al chat de Twitch os proporciono el conector correspondiente que será desplegado como Cloud Function como hicimos en clase y usando mis credenciales recogerá los mensajes del chat y los enviará a un topic de Pub/Sub en GCP. Después, desarrollarás un job en streaming de Dataflow con el que leerás esos mensajes de Pub/sub, los mandarás a tu microservicio de inferencia para que haga las predicciones y enviarás los resultados a un nuevo tópico de Pub/Sub.\n",
        "\n",
        "A continuación os dejo un diagrama con la arquitectura que se va a desarrollar:\n",
        "\n",
        "![streaming_diagram](https://drive.google.com/uc?export=view&id=1TEBPPc9ZF09IM5iGq9FwGAx9PVzAYNPg)"
      ]
    },
    {
      "cell_type": "markdown",
      "metadata": {
        "id": "Yw3oY8n5GjuU"
      },
      "source": [
        "Primero, creamos el publisher que será el encargado de recoger los mensajes de Twitch y enviarlos a Pub/Sub. Esto os lo doy yo desarrollado, sólo tendréis que desplegarlo en una Cloud Function."
      ]
    },
    {
      "cell_type": "code",
      "metadata": {
        "id": "HH8WcRKrKwKy"
      },
      "source": [
        "%mkdir -p /content/streaming/publisher"
      ],
      "execution_count": null,
      "outputs": []
    },
    {
      "cell_type": "code",
      "metadata": {
        "id": "75whqxX7K54B",
        "colab": {
          "base_uri": "https://localhost:8080/"
        },
        "outputId": "1f47272f-e731-4cce-de60-b7dd55ac0cf5"
      },
      "source": [
        "# Execute after restart\n",
        "%cd /content/streaming/publisher"
      ],
      "execution_count": null,
      "outputs": [
        {
          "output_type": "stream",
          "name": "stdout",
          "text": [
            "/content/streaming/publisher\n"
          ]
        }
      ]
    },
    {
      "cell_type": "code",
      "metadata": {
        "id": "jyOecviAK8QO",
        "colab": {
          "base_uri": "https://localhost:8080/"
        },
        "outputId": "629b9807-e2b5-41c1-b586-563a6586f3de"
      },
      "source": [
        "%%writefile requirements.txt\n",
        "\n",
        "twitchio==1.2.3\n",
        "loguru==0.5.3\n",
        "google-cloud-pubsub==2.1.0"
      ],
      "execution_count": null,
      "outputs": [
        {
          "output_type": "stream",
          "name": "stdout",
          "text": [
            "Writing requirements.txt\n"
          ]
        }
      ]
    },
    {
      "cell_type": "code",
      "metadata": {
        "id": "z-pnzR-jMkZ4",
        "colab": {
          "base_uri": "https://localhost:8080/"
        },
        "outputId": "27622d87-493b-45e7-a42c-274d547d38b4"
      },
      "source": [
        "%%writefile main.py\n",
        "\n",
        "import os  # for importing env vars for the bot to use\n",
        "import sys\n",
        "import json\n",
        "import time\n",
        "\n",
        "from twitchio.ext import commands\n",
        "from google.cloud import pubsub_v1\n",
        "from loguru import logger\n",
        "\n",
        "PROJECT_ID = os.getenv(\"PROJECT_ID\")\n",
        "TOPIC_NAME = os.getenv(\"TOPIC_NAME\")\n",
        "\n",
        "TOPIC_PATH = f\"projects/{PROJECT_ID}/topics/{TOPIC_NAME}\"\n",
        "\n",
        "publisher = pubsub_v1.PublisherClient()\n",
        "\n",
        "\n",
        "class Bot(commands.Bot):\n",
        "\n",
        "    def __init__(self, irc_token='...', client_id='...', nick='...', prefix=\"!\", initial_channels=['...'], debug=True):\n",
        "        super().__init__(irc_token=irc_token, client_id=client_id, nick=nick, prefix='!',\n",
        "                         initial_channels=initial_channels)\n",
        "        self.debug = debug\n",
        "\n",
        "    # Events don't need decorators when subclassed\n",
        "    async def event_ready(self):\n",
        "        logger.info('Ready')\n",
        "\n",
        "    async def event_message(self, message):\n",
        "        logger.info(message.content)\n",
        "        publisher.publish(TOPIC_PATH, str.encode(message.content))\n",
        "\n",
        "\n",
        "def main(request):\n",
        "\n",
        "    topic_name = f\"projects/{PROJECT_ID}/topics/{TOPIC_NAME}\"\n",
        "    # publisher.create_topic(topic_name)\n",
        "\n",
        "    request_json = request.get_json(silent=True)\n",
        "\n",
        "    logger.info(\"Starting listener...\")\n",
        "    if \"debug\" in request_json and isinstance(request_json[\"debug\"], bool):\n",
        "        logger.info(f\"Debug mode: {request_json['debug']}\")\n",
        "        bot = Bot(\n",
        "          # set up the bot\n",
        "          irc_token=\"oauth:xl5cpf8qe8tl1d03dppymchi6r04iz\",\n",
        "          client_id=\"ciliqxi534iwg4pfqj7swl1jmkt23y\",\n",
        "          nick=\"franalgaba\",\n",
        "          prefix=\"!\",\n",
        "          initial_channels=[\"franalgaba\"],\n",
        "          debug=request_json['debug'])\n",
        "    else:\n",
        "        bot = Bot(\n",
        "          # set up the bot\n",
        "          irc_token=\"oauth:xl5cpf8qe8tl1d03dppymchi6r04iz\",\n",
        "          client_id=\"ciliqxi534iwg4pfqj7swl1jmkt23y\",\n",
        "          nick=\"franalgaba\",\n",
        "          prefix=\"!\",\n",
        "          initial_channels=[\"franalgaba\"])\n",
        "\n",
        "    bot.run()"
      ],
      "execution_count": null,
      "outputs": [
        {
          "output_type": "stream",
          "name": "stdout",
          "text": [
            "Writing main.py\n"
          ]
        }
      ]
    },
    {
      "cell_type": "code",
      "metadata": {
        "id": "FDrQjJbsVO-4",
        "colab": {
          "base_uri": "https://localhost:8080/"
        },
        "outputId": "c70863fc-6b9d-4469-ab17-59a90bfe5c8a"
      },
      "source": [
        "# In case user service error...\n",
        "! gcloud iam service-accounts add-iam-policy-binding <project_id>@appspot.gserviceaccount.com --member=user:<mail> --role=roles/iam.serviceAccountUser"
      ],
      "execution_count": null,
      "outputs": [
        {
          "output_type": "stream",
          "name": "stdout",
          "text": [
            "/bin/bash: project_id: No such file or directory\n"
          ]
        }
      ]
    },
    {
      "cell_type": "markdown",
      "metadata": {
        "id": "7x_BX3FCG3mD"
      },
      "source": [
        "Para lanzar vuestra Cloud Function, que recoja y mande mensajes solo tenéis que ejecutar el comando siguiente (haced los pasos vistos en clase para desplegar el servicio):"
      ]
    },
    {
      "cell_type": "code",
      "metadata": {
        "id": "PcemNpnsKxFy",
        "colab": {
          "base_uri": "https://localhost:8080/"
        },
        "outputId": "2e1c6bed-fa3b-4fe0-8ef1-8089bc66dc18"
      },
      "source": [
        "! curl -X POST https://us-central1-twitch-practice.cloudfunctions.net/bot-reciever -H \"Content-Type:application/json\"  -d '{\"debug\": false}'"
      ],
      "execution_count": null,
      "outputs": [
        {
          "output_type": "stream",
          "name": "stdout",
          "text": [
            "Error: could not handle the request\n"
          ]
        }
      ]
    },
    {
      "cell_type": "markdown",
      "metadata": {
        "id": "Yr3SmFrUHCvN"
      },
      "source": [
        "## Entregable 1 (3 puntos)\n",
        "\n",
        "En este entregable desarrollarás un pipeline de inferencia en streaming usando Apache Beam para ejecutar en Dataflow un job en streaming que llamará a vuestro microservicio para realizar inferencias."
      ]
    },
    {
      "cell_type": "code",
      "metadata": {
        "id": "IwlDH0KFbn1q"
      },
      "source": [
        "%mkdir /content/streaming/subscriber"
      ],
      "execution_count": null,
      "outputs": []
    },
    {
      "cell_type": "code",
      "metadata": {
        "id": "DLNtrkgybtHE",
        "colab": {
          "base_uri": "https://localhost:8080/"
        },
        "outputId": "d312c2e4-ac76-4d3e-810f-d7e18a16a0ab"
      },
      "source": [
        "%cd /content/streaming/subscriber"
      ],
      "execution_count": null,
      "outputs": [
        {
          "output_type": "stream",
          "name": "stdout",
          "text": [
            "/content/streaming/subscriber\n"
          ]
        }
      ]
    },
    {
      "cell_type": "code",
      "metadata": {
        "id": "XtBrcF2zbz04",
        "colab": {
          "base_uri": "https://localhost:8080/"
        },
        "outputId": "111e7a04-65d6-4a57-843b-ab4c48ff107e"
      },
      "source": [
        "%%writefile requirements.txt\n",
        "\n",
        "apache-beam[gcp]==2.24.0\n",
        "fsspec==0.8.4\n",
        "gcsfs==0.7.1\n",
        "loguru==0.5.3"
      ],
      "execution_count": null,
      "outputs": [
        {
          "output_type": "stream",
          "name": "stdout",
          "text": [
            "Writing requirements.txt\n"
          ]
        }
      ]
    },
    {
      "cell_type": "code",
      "metadata": {
        "id": "6RN9KNMob1jY",
        "colab": {
          "base_uri": "https://localhost:8080/"
        },
        "outputId": "e742443f-f03d-4e6d-8920-144c91a4de59"
      },
      "source": [
        "! pip install -r requirements.txt"
      ],
      "execution_count": null,
      "outputs": [
        {
          "output_type": "stream",
          "name": "stdout",
          "text": [
            "Looking in indexes: https://pypi.org/simple, https://us-python.pkg.dev/colab-wheels/public/simple/\n",
            "Requirement already satisfied: apache-beam[gcp]==2.24.0 in /usr/local/lib/python3.7/dist-packages (from -r requirements.txt (line 2)) (2.24.0)\n",
            "Requirement already satisfied: fsspec==0.8.4 in /usr/local/lib/python3.7/dist-packages (from -r requirements.txt (line 3)) (0.8.4)\n",
            "Requirement already satisfied: gcsfs==0.7.1 in /usr/local/lib/python3.7/dist-packages (from -r requirements.txt (line 4)) (0.7.1)\n",
            "Requirement already satisfied: loguru==0.5.3 in /usr/local/lib/python3.7/dist-packages (from -r requirements.txt (line 5)) (0.5.3)\n",
            "Requirement already satisfied: google-auth>=1.2 in /usr/local/lib/python3.7/dist-packages (from gcsfs==0.7.1->-r requirements.txt (line 4)) (1.35.0)\n",
            "Requirement already satisfied: aiohttp in /usr/local/lib/python3.7/dist-packages (from gcsfs==0.7.1->-r requirements.txt (line 4)) (3.8.1)\n",
            "Requirement already satisfied: decorator in /usr/local/lib/python3.7/dist-packages (from gcsfs==0.7.1->-r requirements.txt (line 4)) (4.4.2)\n",
            "Requirement already satisfied: google-auth-oauthlib in /usr/local/lib/python3.7/dist-packages (from gcsfs==0.7.1->-r requirements.txt (line 4)) (0.4.6)\n",
            "Requirement already satisfied: requests in /usr/local/lib/python3.7/dist-packages (from gcsfs==0.7.1->-r requirements.txt (line 4)) (2.25.0)\n",
            "Requirement already satisfied: pyarrow<0.18.0,>=0.15.1 in /usr/local/lib/python3.7/dist-packages (from apache-beam[gcp]==2.24.0->-r requirements.txt (line 2)) (0.17.1)\n",
            "Requirement already satisfied: mock<3.0.0,>=1.0.1 in /usr/local/lib/python3.7/dist-packages (from apache-beam[gcp]==2.24.0->-r requirements.txt (line 2)) (2.0.0)\n",
            "Requirement already satisfied: python-dateutil<3,>=2.8.0 in /usr/local/lib/python3.7/dist-packages (from apache-beam[gcp]==2.24.0->-r requirements.txt (line 2)) (2.8.2)\n",
            "Requirement already satisfied: protobuf<4,>=3.12.2 in /usr/local/lib/python3.7/dist-packages (from apache-beam[gcp]==2.24.0->-r requirements.txt (line 2)) (3.17.3)\n",
            "Requirement already satisfied: numpy<2,>=1.14.3 in /usr/local/lib/python3.7/dist-packages (from apache-beam[gcp]==2.24.0->-r requirements.txt (line 2)) (1.19.5)\n",
            "Requirement already satisfied: pytz>=2018.3 in /usr/local/lib/python3.7/dist-packages (from apache-beam[gcp]==2.24.0->-r requirements.txt (line 2)) (2022.1)\n",
            "Requirement already satisfied: oauth2client<4,>=2.0.1 in /usr/local/lib/python3.7/dist-packages (from apache-beam[gcp]==2.24.0->-r requirements.txt (line 2)) (3.0.0)\n",
            "Requirement already satisfied: future<1.0.0,>=0.18.2 in /usr/local/lib/python3.7/dist-packages (from apache-beam[gcp]==2.24.0->-r requirements.txt (line 2)) (0.18.2)\n",
            "Requirement already satisfied: fastavro<0.24,>=0.21.4 in /usr/local/lib/python3.7/dist-packages (from apache-beam[gcp]==2.24.0->-r requirements.txt (line 2)) (0.23.6)\n",
            "Requirement already satisfied: typing-extensions<3.8.0,>=3.7.0 in /usr/local/lib/python3.7/dist-packages (from apache-beam[gcp]==2.24.0->-r requirements.txt (line 2)) (3.7.4.3)\n",
            "Requirement already satisfied: pymongo<4.0.0,>=3.8.0 in /usr/local/lib/python3.7/dist-packages (from apache-beam[gcp]==2.24.0->-r requirements.txt (line 2)) (3.12.3)\n",
            "Requirement already satisfied: grpcio<2,>=1.29.0 in /usr/local/lib/python3.7/dist-packages (from apache-beam[gcp]==2.24.0->-r requirements.txt (line 2)) (1.46.3)\n",
            "Requirement already satisfied: crcmod<2.0,>=1.7 in /usr/local/lib/python3.7/dist-packages (from apache-beam[gcp]==2.24.0->-r requirements.txt (line 2)) (1.7)\n",
            "Requirement already satisfied: pydot<2,>=1.2.0 in /usr/local/lib/python3.7/dist-packages (from apache-beam[gcp]==2.24.0->-r requirements.txt (line 2)) (1.3.0)\n",
            "Requirement already satisfied: httplib2<0.18.0,>=0.8 in /usr/local/lib/python3.7/dist-packages (from apache-beam[gcp]==2.24.0->-r requirements.txt (line 2)) (0.17.4)\n",
            "Requirement already satisfied: avro-python3!=1.9.2,<1.10.0,>=1.8.1 in /usr/local/lib/python3.7/dist-packages (from apache-beam[gcp]==2.24.0->-r requirements.txt (line 2)) (1.9.2.1)\n",
            "Requirement already satisfied: hdfs<3.0.0,>=2.1.0 in /usr/local/lib/python3.7/dist-packages (from apache-beam[gcp]==2.24.0->-r requirements.txt (line 2)) (2.7.0)\n",
            "Requirement already satisfied: dill<0.3.2,>=0.3.1.1 in /usr/local/lib/python3.7/dist-packages (from apache-beam[gcp]==2.24.0->-r requirements.txt (line 2)) (0.3.1.1)\n",
            "Requirement already satisfied: google-cloud-vision<2,>=0.38.0 in /usr/local/lib/python3.7/dist-packages (from apache-beam[gcp]==2.24.0->-r requirements.txt (line 2)) (1.0.2)\n",
            "Requirement already satisfied: google-cloud-pubsub<2,>=0.39.0 in /usr/local/lib/python3.7/dist-packages (from apache-beam[gcp]==2.24.0->-r requirements.txt (line 2)) (1.7.2)\n",
            "Requirement already satisfied: google-cloud-spanner<2,>=1.13.0 in /usr/local/lib/python3.7/dist-packages (from apache-beam[gcp]==2.24.0->-r requirements.txt (line 2)) (1.19.3)\n",
            "Requirement already satisfied: cachetools<4,>=3.1.0 in /usr/local/lib/python3.7/dist-packages (from apache-beam[gcp]==2.24.0->-r requirements.txt (line 2)) (3.1.1)\n",
            "Requirement already satisfied: grpcio-gcp<1,>=0.2.2 in /usr/local/lib/python3.7/dist-packages (from apache-beam[gcp]==2.24.0->-r requirements.txt (line 2)) (0.2.2)\n",
            "Requirement already satisfied: google-cloud-bigtable<2,>=0.31.1 in /usr/local/lib/python3.7/dist-packages (from apache-beam[gcp]==2.24.0->-r requirements.txt (line 2)) (1.7.2)\n",
            "Requirement already satisfied: google-cloud-datastore<2,>=1.7.1 in /usr/local/lib/python3.7/dist-packages (from apache-beam[gcp]==2.24.0->-r requirements.txt (line 2)) (1.8.0)\n",
            "Requirement already satisfied: google-cloud-core<2,>=0.28.1 in /usr/local/lib/python3.7/dist-packages (from apache-beam[gcp]==2.24.0->-r requirements.txt (line 2)) (1.7.2)\n",
            "Requirement already satisfied: google-cloud-language<2,>=1.3.0 in /usr/local/lib/python3.7/dist-packages (from apache-beam[gcp]==2.24.0->-r requirements.txt (line 2)) (1.3.2)\n",
            "Requirement already satisfied: google-cloud-videointelligence<2,>=1.8.0 in /usr/local/lib/python3.7/dist-packages (from apache-beam[gcp]==2.24.0->-r requirements.txt (line 2)) (1.16.3)\n",
            "Requirement already satisfied: google-cloud-bigquery<2,>=1.6.0 in /usr/local/lib/python3.7/dist-packages (from apache-beam[gcp]==2.24.0->-r requirements.txt (line 2)) (1.21.0)\n",
            "Requirement already satisfied: google-cloud-dlp<2,>=0.12.0 in /usr/local/lib/python3.7/dist-packages (from apache-beam[gcp]==2.24.0->-r requirements.txt (line 2)) (1.0.2)\n",
            "Requirement already satisfied: google-apitools<0.5.32,>=0.5.31 in /usr/local/lib/python3.7/dist-packages (from apache-beam[gcp]==2.24.0->-r requirements.txt (line 2)) (0.5.31)\n",
            "Requirement already satisfied: fasteners>=0.14 in /usr/local/lib/python3.7/dist-packages (from google-apitools<0.5.32,>=0.5.31->apache-beam[gcp]==2.24.0->-r requirements.txt (line 2)) (0.17.3)\n",
            "Requirement already satisfied: six>=1.12.0 in /usr/local/lib/python3.7/dist-packages (from google-apitools<0.5.32,>=0.5.31->apache-beam[gcp]==2.24.0->-r requirements.txt (line 2)) (1.15.0)\n",
            "Requirement already satisfied: setuptools>=40.3.0 in /usr/local/lib/python3.7/dist-packages (from google-auth>=1.2->gcsfs==0.7.1->-r requirements.txt (line 4)) (57.4.0)\n",
            "Requirement already satisfied: rsa<5,>=3.1.4 in /usr/local/lib/python3.7/dist-packages (from google-auth>=1.2->gcsfs==0.7.1->-r requirements.txt (line 4)) (4.8)\n",
            "Requirement already satisfied: pyasn1-modules>=0.2.1 in /usr/local/lib/python3.7/dist-packages (from google-auth>=1.2->gcsfs==0.7.1->-r requirements.txt (line 4)) (0.2.8)\n",
            "Requirement already satisfied: google-resumable-media!=0.4.0,<0.5.0dev,>=0.3.1 in /usr/local/lib/python3.7/dist-packages (from google-cloud-bigquery<2,>=1.6.0->apache-beam[gcp]==2.24.0->-r requirements.txt (line 2)) (0.4.1)\n",
            "Requirement already satisfied: google-api-core[grpc]!=2.0.*,!=2.1.*,!=2.2.*,!=2.3.0,<3.0.0dev,>=1.31.5 in /usr/local/lib/python3.7/dist-packages (from google-cloud-bigtable<2,>=0.31.1->apache-beam[gcp]==2.24.0->-r requirements.txt (line 2)) (1.31.6)\n",
            "Requirement already satisfied: grpc-google-iam-v1<0.13dev,>=0.12.3 in /usr/local/lib/python3.7/dist-packages (from google-cloud-bigtable<2,>=0.31.1->apache-beam[gcp]==2.24.0->-r requirements.txt (line 2)) (0.12.4)\n",
            "Requirement already satisfied: packaging>=14.3 in /usr/local/lib/python3.7/dist-packages (from google-api-core[grpc]!=2.0.*,!=2.1.*,!=2.2.*,!=2.3.0,<3.0.0dev,>=1.31.5->google-cloud-bigtable<2,>=0.31.1->apache-beam[gcp]==2.24.0->-r requirements.txt (line 2)) (21.3)\n",
            "Requirement already satisfied: googleapis-common-protos<2.0dev,>=1.6.0 in /usr/local/lib/python3.7/dist-packages (from google-api-core[grpc]!=2.0.*,!=2.1.*,!=2.2.*,!=2.3.0,<3.0.0dev,>=1.31.5->google-cloud-bigtable<2,>=0.31.1->apache-beam[gcp]==2.24.0->-r requirements.txt (line 2)) (1.56.2)\n",
            "Requirement already satisfied: docopt in /usr/local/lib/python3.7/dist-packages (from hdfs<3.0.0,>=2.1.0->apache-beam[gcp]==2.24.0->-r requirements.txt (line 2)) (0.6.2)\n",
            "Requirement already satisfied: pbr>=0.11 in /usr/local/lib/python3.7/dist-packages (from mock<3.0.0,>=1.0.1->apache-beam[gcp]==2.24.0->-r requirements.txt (line 2)) (5.9.0)\n",
            "Requirement already satisfied: pyasn1>=0.1.7 in /usr/local/lib/python3.7/dist-packages (from oauth2client<4,>=2.0.1->apache-beam[gcp]==2.24.0->-r requirements.txt (line 2)) (0.4.8)\n",
            "Requirement already satisfied: pyparsing!=3.0.5,>=2.0.2 in /usr/local/lib/python3.7/dist-packages (from packaging>=14.3->google-api-core[grpc]!=2.0.*,!=2.1.*,!=2.2.*,!=2.3.0,<3.0.0dev,>=1.31.5->google-cloud-bigtable<2,>=0.31.1->apache-beam[gcp]==2.24.0->-r requirements.txt (line 2)) (3.0.9)\n",
            "Requirement already satisfied: certifi>=2017.4.17 in /usr/local/lib/python3.7/dist-packages (from requests->gcsfs==0.7.1->-r requirements.txt (line 4)) (2022.6.15)\n",
            "Requirement already satisfied: chardet<4,>=3.0.2 in /usr/local/lib/python3.7/dist-packages (from requests->gcsfs==0.7.1->-r requirements.txt (line 4)) (3.0.4)\n",
            "Requirement already satisfied: idna<3,>=2.5 in /usr/local/lib/python3.7/dist-packages (from requests->gcsfs==0.7.1->-r requirements.txt (line 4)) (2.10)\n",
            "Requirement already satisfied: urllib3<1.27,>=1.21.1 in /usr/local/lib/python3.7/dist-packages (from requests->gcsfs==0.7.1->-r requirements.txt (line 4)) (1.24.3)\n",
            "Requirement already satisfied: multidict<7.0,>=4.5 in /usr/local/lib/python3.7/dist-packages (from aiohttp->gcsfs==0.7.1->-r requirements.txt (line 4)) (6.0.2)\n",
            "Requirement already satisfied: aiosignal>=1.1.2 in /usr/local/lib/python3.7/dist-packages (from aiohttp->gcsfs==0.7.1->-r requirements.txt (line 4)) (1.2.0)\n",
            "Requirement already satisfied: frozenlist>=1.1.1 in /usr/local/lib/python3.7/dist-packages (from aiohttp->gcsfs==0.7.1->-r requirements.txt (line 4)) (1.3.0)\n",
            "Requirement already satisfied: yarl<2.0,>=1.0 in /usr/local/lib/python3.7/dist-packages (from aiohttp->gcsfs==0.7.1->-r requirements.txt (line 4)) (1.7.2)\n",
            "Requirement already satisfied: charset-normalizer<3.0,>=2.0 in /usr/local/lib/python3.7/dist-packages (from aiohttp->gcsfs==0.7.1->-r requirements.txt (line 4)) (2.1.0)\n",
            "Requirement already satisfied: async-timeout<5.0,>=4.0.0a3 in /usr/local/lib/python3.7/dist-packages (from aiohttp->gcsfs==0.7.1->-r requirements.txt (line 4)) (4.0.2)\n",
            "Requirement already satisfied: asynctest==0.13.0 in /usr/local/lib/python3.7/dist-packages (from aiohttp->gcsfs==0.7.1->-r requirements.txt (line 4)) (0.13.0)\n",
            "Requirement already satisfied: attrs>=17.3.0 in /usr/local/lib/python3.7/dist-packages (from aiohttp->gcsfs==0.7.1->-r requirements.txt (line 4)) (21.4.0)\n",
            "Requirement already satisfied: requests-oauthlib>=0.7.0 in /usr/local/lib/python3.7/dist-packages (from google-auth-oauthlib->gcsfs==0.7.1->-r requirements.txt (line 4)) (1.3.1)\n",
            "Requirement already satisfied: oauthlib>=3.0.0 in /usr/local/lib/python3.7/dist-packages (from requests-oauthlib>=0.7.0->google-auth-oauthlib->gcsfs==0.7.1->-r requirements.txt (line 4)) (3.2.0)\n"
          ]
        }
      ]
    },
    {
      "cell_type": "code",
      "metadata": {
        "id": "JMeJPR90b3AN",
        "colab": {
          "base_uri": "https://localhost:8080/"
        },
        "outputId": "f22a7fcb-d7a6-425b-df33-7596b7836e26"
      },
      "source": [
        "%%writefile predict.py\n",
        "\n",
        "from __future__ import absolute_import\n",
        "from __future__ import print_function\n",
        "\n",
        "import argparse\n",
        "import requests\n",
        "import json\n",
        "import sys\n",
        "\n",
        "import apache_beam as beam\n",
        "import apache_beam.transforms.window as window\n",
        "from apache_beam.options.pipeline_options import (\n",
        "    GoogleCloudOptions,\n",
        "    StandardOptions,\n",
        "    PipelineOptions,\n",
        "    SetupOptions,\n",
        ")\n",
        "from loguru import logger\n",
        "\n",
        "\n",
        "class Predict(beam.DoFn):\n",
        "    def __init__(self, predict_server) -> None:\n",
        "        self.url = predict_server\n",
        "\n",
        "    def _predict(self, text) -> str:\n",
        "        payload = {\"text\": text}\n",
        "        headers = {\"accept\": \"application/json\", \"Content-Type\": \"application/json\"}\n",
        "        try:\n",
        "            response = requests.post(\n",
        "                self.url, data=json.dumps(payload), headers=headers\n",
        "            )\n",
        "            response = json.loads(response.text)\n",
        "        except Exception:\n",
        "            response = {\"label\": \"undefined\", \"score\": 0, \"elapsed_time\": 0}\n",
        "\n",
        "        return response\n",
        "\n",
        "    def process(self, element, window=beam.DoFn.WindowParam):\n",
        "        logger.info(f\"Text to predict: {element}\")\n",
        "        result = self._predict(element)\n",
        "        result[\"text\"] = element\n",
        "        yield json.dumps(result)\n",
        "\n",
        "\n",
        "def run(predict_server, source, sink, beam_options=None):\n",
        "    with beam.Pipeline(options=beam_options) as p:\n",
        "        _ = (\n",
        "            p\n",
        "            | \"Read data from PubSub\" >> source\n",
        "            | \"decode\" >> beam.Map(lambda x: x.decode(\"utf-8\"))\n",
        "            | \"window\" >> beam.WindowInto(window.FixedWindows(15))\n",
        "            | \"Predict\" >> beam.ParDo(Predict(predict_server))\n",
        "            | \"encode\" >> beam.Map(lambda x: x.encode(\"utf-8\")).with_output_types(bytes)\n",
        "            | \"Write predictions\" >> sink\n",
        "        )\n",
        "\n",
        "\n",
        "if __name__ == \"__main__\":\n",
        "    \"\"\"Main function\"\"\"\n",
        "    parser = argparse.ArgumentParser(\n",
        "        formatter_class=argparse.ArgumentDefaultsHelpFormatter\n",
        "    )\n",
        "\n",
        "    parser.add_argument(\n",
        "        \"--inputs_topic\",\n",
        "        dest=\"inputs_topic\",\n",
        "        required=True,\n",
        "        help=\"Directory for temporary files and preprocessed datasets to. \"\n",
        "        \"This can be a Google Cloud Storage path.\",\n",
        "    )\n",
        "\n",
        "    parser.add_argument(\n",
        "        \"--outputs_topic\",\n",
        "        dest=\"outputs_topic\",\n",
        "        required=True,\n",
        "        help=\"Directory for temporary files and preprocessed datasets to. \"\n",
        "        \"This can be a Google Cloud Storage path.\",\n",
        "    )\n",
        "\n",
        "    parser.add_argument(\n",
        "        \"--predict_server\",\n",
        "        dest=\"predict_server\",\n",
        "        required=True,\n",
        "        help=\"Directory for temporary files and preprocessed datasets to. \"\n",
        "        \"This can be a Google Cloud Storage path.\",\n",
        "    )\n",
        "\n",
        "    args, pipeline_args = parser.parse_known_args()\n",
        "    logger.info(args)\n",
        "    beam_options = PipelineOptions(pipeline_args)\n",
        "    beam_options.view_as(SetupOptions).save_main_session = True\n",
        "    # beam_options.view_as(DirectOptions).direct_num_workers = 0\n",
        "\n",
        "    project = beam_options.view_as(GoogleCloudOptions).project\n",
        "\n",
        "    if not project:\n",
        "        parser.print_usage()\n",
        "        print(\"error: argument --project is required for streaming\")\n",
        "        sys.exit(1)\n",
        "\n",
        "    beam_options.view_as(StandardOptions).streaming = True\n",
        "\n",
        "    source = beam.io.ReadFromPubSub(\n",
        "        topic=\"projects/{}/topics/{}\".format(project, args.inputs_topic)\n",
        "    ).with_output_types(bytes)\n",
        "\n",
        "    sink = beam.io.WriteToPubSub(\n",
        "        topic=\"projects/{}/topics/{}\".format(project, args.outputs_topic)\n",
        "    )\n",
        "\n",
        "    run(args.predict_server, source, sink, beam_options)\n"
      ],
      "execution_count": null,
      "outputs": [
        {
          "output_type": "stream",
          "name": "stdout",
          "text": [
            "Writing predict.py\n"
          ]
        }
      ]
    },
    {
      "cell_type": "code",
      "metadata": {
        "id": "jT_Qmb16hgEq",
        "colab": {
          "base_uri": "https://localhost:8080/"
        },
        "outputId": "47bced53-37b5-4bed-f2df-796cf48228eb"
      },
      "source": [
        "%%writefile setup.py\n",
        "\n",
        "import setuptools\n",
        "\n",
        "REQUIRED_PACKAGES = [\n",
        "    \"apache-beam[gcp]==2.24.0\",\n",
        "    \"fsspec==0.8.4\",\n",
        "    \"gcsfs==0.7.1\",\n",
        "    \"loguru==0.5.3\",\n",
        "]\n",
        "\n",
        "setuptools.setup(\n",
        "    name=\"twitchstreaming\",\n",
        "    version=\"0.0.1\",\n",
        "    install_requires=REQUIRED_PACKAGES,\n",
        "    packages=setuptools.find_packages(),\n",
        "    include_package_data=True,\n",
        "    description=\"Twitch Troll Detection\",\n",
        ")"
      ],
      "execution_count": null,
      "outputs": [
        {
          "output_type": "stream",
          "name": "stdout",
          "text": [
            "Writing setup.py\n"
          ]
        }
      ]
    },
    {
      "cell_type": "markdown",
      "metadata": {
        "id": "-RdyxvdVHmnZ"
      },
      "source": [
        "### Validación inferencia en streaming\n",
        "\n",
        "Con el comando mostrado a continuación se genera un job en streaming de Dataflow. Antes de ejecutarlo, deberás crear dos topicos en Pub/Sub, `twitch-chat` donde se recibirán los mensajes de twitch, y `twitch-chat-predictions` donde se mandarán las predicciones generadas por vuestro microservicio.\n",
        "\n",
        "**Importante**: no te olvides de modificar la URL de tu microservicio de inferencia."
      ]
    },
    {
      "cell_type": "code",
      "metadata": {
        "id": "9j4vzFn2wUPk"
      },
      "source": [
        "GCP_WORK_DIR = 'gs://final-practice-test-execution'\n",
        "GCP_REGION = 'eu-west1'"
      ],
      "execution_count": null,
      "outputs": []
    },
    {
      "cell_type": "code",
      "metadata": {
        "id": "S5ftKoXAhiJ7",
        "colab": {
          "base_uri": "https://localhost:8080/"
        },
        "outputId": "4a72602d-64aa-4ec4-a9d1-71c262146116"
      },
      "source": [
        "! python3 predict.py \\\n",
        "--project $PROJECT_ID \\\n",
        "--region $GCP_REGION \\\n",
        "--runner DataflowRunner \\\n",
        "--temp_location $GCP_WORK_DIR/beam-temp \\\n",
        "--setup_file ./setup.py \\\n",
        "--inputs_topic twitch-chat \\\n",
        "--outputs_topic twitch-chat-predictions \\\n",
        "--predict_server https://troll-detection-service-g2v7skqfeq-uc.a.run.app/api/model/predict \\"
      ],
      "execution_count": null,
      "outputs": [
        {
          "output_type": "stream",
          "name": "stdout",
          "text": [
            "\u001b[32m2022-07-09 22:14:13.115\u001b[0m | \u001b[1mINFO    \u001b[0m | \u001b[36m__main__\u001b[0m:\u001b[36m<module>\u001b[0m:\u001b[36m89\u001b[0m - \u001b[1mNamespace(inputs_topic='twitch-chat', outputs_topic='twitch-chat-predictions', predict_server='https://troll-detection-service-g2v7skqfeq-uc.a.run.app/api/model/predict')\u001b[0m\n",
            "usage: predict.py [-h] [--dataflow_endpoint DATAFLOW_ENDPOINT]\n",
            "                  [--project PROJECT] [--job_name JOB_NAME]\n",
            "                  [--staging_location STAGING_LOCATION]\n",
            "                  [--temp_location TEMP_LOCATION] [--region REGION]\n",
            "                  [--service_account_email SERVICE_ACCOUNT_EMAIL] [--no_auth]\n",
            "                  [--template_location TEMPLATE_LOCATION] [--label LABELS]\n",
            "                  [--update] [--transform_name_mapping TRANSFORM_NAME_MAPPING]\n",
            "                  [--enable_streaming_engine]\n",
            "                  [--dataflow_kms_key DATAFLOW_KMS_KEY]\n",
            "                  [--flexrs_goal {COST_OPTIMIZED,SPEED_OPTIMIZED}]\n",
            "predict.py: error: argument --project: expected one argument\n"
          ]
        }
      ]
    }
  ]
}